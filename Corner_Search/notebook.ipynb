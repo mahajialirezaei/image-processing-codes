{
 "cells": [
  {
   "cell_type": "markdown",
   "metadata": {
    "collapsed": false,
    "jupyter": {
     "outputs_hidden": false
    }
   },
   "source": [
    "<h1 align=center style=\"line-height:200%;font-family:vazir;color:#0099cc\">\n",
    "<font face=\"vazir\" color=\"#0099cc\">\n",
    "در جست‌وجوی لبه\n",
    "</font>\n",
    "</h1>"
   ]
  },
  {
   "cell_type": "markdown",
   "metadata": {
    "collapsed": false,
    "jupyter": {
     "outputs_hidden": false
    }
   },
   "source": [
    "<h2 align=right style=\"line-height:200%;font-family:vazir;color:#0099cc\">\n",
    "<font face=\"vazir\" color=\"#0099cc\">\n",
    "مقدمه\n",
    "</font>\n",
    "</h2>\n",
    "\n",
    "<p dir=rtl style=\"direction: rtl;text-align: right;line-height:200%;font-family:vazir;font-size:medium\">\n",
    "<font face=\"vazir\" size=3>\n",
    "در این تمرین قصد داریم که بر روی یک تصویر لبه‌یابی را انجام دهیم. در این تمرین عملگرهای مختلفی را بررسی میکنیم و تاثیر آنها را بر تصویر بررسی میکنیم.\n",
    "</font>\n",
    "</p>"
   ]
  },
  {
   "cell_type": "code",
   "metadata": {
    "ExecuteTime": {
     "end_time": "2025-06-29T22:37:33.644068Z",
     "start_time": "2025-06-29T22:37:32.513175Z"
    }
   },
   "source": [
    "import cv2\n",
    "import numpy as np\n",
    "import matplotlib.pyplot as plt"
   ],
   "outputs": [],
   "execution_count": 1
  },
  {
   "cell_type": "markdown",
   "metadata": {
    "collapsed": false,
    "jupyter": {
     "outputs_hidden": false
    }
   },
   "source": [
    "<h3 align=right style=\"line-height:200%;font-family:vazir;color:#0099cc\">\n",
    "<font face=\"vazir\" color=\"#0099cc\">\n",
    "مرحله اول: وارد کردن عکس\n",
    "</font>\n",
    "</h3>\n",
    "\n",
    "<p dir=rtl style=\"direction: rtl;text-align: right;line-height:200%;font-family:vazir;font-size:medium\">\n",
    "<font face=\"vazir\" size=3>\n",
    "ابتدا تصویر زیر را که در پوشه Data قرار دارد به شکل خاکستری وارد کنید. دقت کنید که حتما تصویر را بصورت خاکستری وارد نمایید.\n",
    "    <br>\n",
    "    Flower poster.jpg\n",
    "</font>\n",
    "</p>"
   ]
  },
  {
   "cell_type": "code",
   "metadata": {
    "collapsed": false,
    "jupyter": {
     "outputs_hidden": false
    },
    "ExecuteTime": {
     "end_time": "2025-06-29T22:38:37.703929Z",
     "start_time": "2025-06-29T22:38:37.692699Z"
    }
   },
   "source": "flw_img = cv2.imread('Data/Flower poster.jpg', cv2.IMREAD_GRAYSCALE)",
   "outputs": [],
   "execution_count": 2
  },
  {
   "cell_type": "markdown",
   "metadata": {
    "collapsed": false,
    "jupyter": {
     "outputs_hidden": false
    }
   },
   "source": [
    "<h3 align=right style=\"line-height:200%;font-family:vazir;color:#0099cc\">\n",
    "<font face=\"vazir\" color=\"#0099cc\">\n",
    "مرحله دوم: محاسبه مشتق افقی و عمودی\n",
    "</font>\n",
    "</h3>\n",
    "\n",
    "<p dir=rtl style=\"direction: rtl;text-align: right;line-height:200%;font-family:vazir;font-size:medium\">\n",
    "<font face=\"vazir\" size=3>\n",
    "در این مرحله می‌خواهیم که مشتق عمودی و افقی تصویر را محاسبه کنیم.\n",
    "    <br>\n",
    "    برای محاسبه مشتق افقی و عمودی می‌توانید فیلتر سوبل استفاده کنید. پارامترهای این فیلتر را به شکل زیر مقداردهی کنید.\n",
    "    همچنین سپس باید گرادیان‌ها را ترکیب کنید(شدت مشتق‌ها) و جهت گرادیان‌ها(برحسب درجه) نیز محاسبه کنید.\n",
    "</font>\n",
    "</p>\n",
    "\n",
    "$$ {kernel\\:size} = 3\\times3$$\n",
    "\n",
    "<p dir=rtl style=\"direction: rtl;text-align: right;line-height:200%;font-family:vazir;font-size:medium\">\n",
    "<font face=\"vazir\" size=3>\n",
    " از این اطلاعات در ادامه استفاده خواهیم کرد. همچنین دقت کنید که با استفاده از تابع cv2.convertScaleAbs حتما مشتق افقی، مشتق عمودی و شدت گرادیان‌ها باید همگی نرمال‌سازی بشوند و سپس مابقی مراحل انجام شود.\n",
    "    <br>\n",
    "    همچنین نتیجه اعمال مشتق افقی، مشتق عمودی و شدت مشتق‌ها را فایل‌هایی با نام‌های زیر ذخیره کنید. توجه کنید که آنها را به شکل RGB ذخیره کنید.\n",
    "    <br>\n",
    "    x_gradient_flower.jpg\n",
    "    <br>\n",
    "    y_gradient_flower.jpg\n",
    "        <br>\n",
    "    magnitude_gradient_flower.jpg\n",
    "</font>\n",
    "</p>"
   ]
  },
  {
   "cell_type": "code",
   "execution_count": null,
   "metadata": {
    "ExecuteTime": {
     "end_time": "2025-02-09T19:19:30.458660700Z",
     "start_time": "2025-02-09T19:19:29.836782900Z"
    },
    "collapsed": false,
    "jupyter": {
     "outputs_hidden": false
    }
   },
   "outputs": [],
   "source": []
  },
  {
   "cell_type": "markdown",
   "metadata": {
    "ExecuteTime": {
     "end_time": "2025-02-08T17:35:53.941532100Z",
     "start_time": "2025-02-08T17:35:53.938027900Z"
    },
    "collapsed": false,
    "jupyter": {
     "outputs_hidden": false
    }
   },
   "source": [
    "<h3 align=right style=\"line-height:200%;font-family:vazir;color:#0099cc\">\n",
    "<font face=\"vazir\" color=\"#0099cc\">\n",
    "مرحله سوم: اعمال سرکوب غیر حداکثری\n",
    "</font>\n",
    "</h3>\n",
    "\n",
    "<p dir=rtl style=\"direction: rtl;text-align: right;line-height:200%;font-family:vazir;font-size:medium\">\n",
    "<font face=\"vazir\" size=3>\n",
    "در سلول زیر تابعی تعریف شده است که سرکوب غیر حداکثری را انجام میدهد. ورودی این تابع، شدت مشتق و جهت مشتق محاسبه شده در مرحله قبل می‌باشد. \n",
    "</font>\n",
    "</p>"
   ]
  },
  {
   "cell_type": "code",
   "execution_count": null,
   "metadata": {
    "ExecuteTime": {
     "end_time": "2025-02-09T18:16:31.206505900Z",
     "start_time": "2025-02-09T18:16:30.241662300Z"
    }
   },
   "outputs": [],
   "source": [
    "def non_maximum_suppression(gradient_magnitude, gradient_direction):\n",
    "    height, width = gradient_magnitude.shape\n",
    "    suppressed = np.zeros((height, width), dtype=np.uint8)\n",
    "\n",
    "    angle = gradient_direction\n",
    "\n",
    "    for i in range(1, height - 1):\n",
    "        for j in range(1, width - 1):\n",
    "            q, r = 255, 255\n",
    "\n",
    "            if (0 <= angle[i, j] < 22.5) or (157.5 <= angle[i, j] <= 180):\n",
    "                q = gradient_magnitude[i, j + 1]\n",
    "                r = gradient_magnitude[i, j - 1]\n",
    "            elif 22.5 <= angle[i, j] < 67.5:\n",
    "                q = gradient_magnitude[i + 1, j - 1]\n",
    "                r = gradient_magnitude[i - 1, j + 1]\n",
    "            elif 67.5 <= angle[i, j] < 112.5:\n",
    "                q = gradient_magnitude[i + 1, j]\n",
    "                r = gradient_magnitude[i - 1, j]\n",
    "            elif 112.5 <= angle[i, j] < 157.5:\n",
    "                q = gradient_magnitude[i - 1, j - 1]\n",
    "                r = gradient_magnitude[i + 1, j + 1]\n",
    "\n",
    "            if (gradient_magnitude[i, j] >= q) and (gradient_magnitude[i, j] >= r):\n",
    "                suppressed[i, j] = gradient_magnitude[i, j]\n",
    "\n",
    "    return suppressed\n"
   ]
  },
  {
   "cell_type": "markdown",
   "metadata": {},
   "source": [
    "<h3 align=right style=\"line-height:200%;font-family:vazir;color:#0099cc\">\n",
    "<font face=\"vazir\" color=\"#0099cc\">\n",
    "مرحله چهارم: اعمال هیسترزیس\n",
    "</font>\n",
    "</h3>\n",
    "\n",
    "<p dir=rtl style=\"direction: rtl;text-align: right;line-height:200%;font-family:vazir;font-size:medium\">\n",
    "<font face=\"vazir\" size=3>\n",
    "در این سلول هیسترزیس را پیاده‌سازی کنید. این پیاده‌سازی را بر روی خروجی سرکوب غیر حداکثری اعمال کنید تا لبه‌های قوی و لبه‌های ضعیف حفظ شوند و نویز از تصویر خارج شود.\n",
    "میتواند مقدار لبه‌های قوی را  با شدت 255 جایگزین کنید و لبه‌های ضعیف را با شدت 50 .\n",
    "    <br>\n",
    "     مقدار آستانه‌های بالا و پائین را به شکل زیر در نظر بگیرید.\n",
    "</font>\n",
    "</p>\n",
    "\n",
    "$${T_1} = 100 $$\n",
    "$${T_2} = 200 $$"
   ]
  },
  {
   "cell_type": "code",
   "execution_count": null,
   "metadata": {
    "ExecuteTime": {
     "end_time": "2025-02-09T19:08:36.598919100Z",
     "start_time": "2025-02-09T19:08:34.045669200Z"
    },
    "collapsed": false,
    "jupyter": {
     "outputs_hidden": false
    }
   },
   "outputs": [],
   "source": []
  },
  {
   "cell_type": "markdown",
   "metadata": {
    "collapsed": false,
    "jupyter": {
     "outputs_hidden": false
    }
   },
   "source": [
    "<h3 align=right style=\"line-height:200%;font-family:vazir;color:#0099cc\">\n",
    "<font face=\"vazir\" color=\"#0099cc\">\n",
    "مرحله پنجم: ذخیره‌سازی\n",
    "</font>\n",
    "</h3>\n",
    "\n",
    "<p dir=rtl style=\"direction: rtl;text-align: right;line-height:200%;font-family:vazir;font-size:medium\">\n",
    "<font face=\"vazir\" size=3>\n",
    "    شما موفق شدید که لبه‌یابی را بطور کامل انجام دهید. مراحلی که طی کردید، در اصل پیاده‌سازی روش کنی برای تشخیص لبه بود. حال باید تصویر حاصل در مرحله قبل را ذخیره کنید. این فایل را بصورت RGB باید ذخیره کنید و نام آن بصورت زیر باشد:\n",
    "    <br>\n",
    "    canny_edge_flower.jpg\n",
    "</font>\n",
    "</p>"
   ]
  },
  {
   "cell_type": "code",
   "execution_count": null,
   "metadata": {
    "ExecuteTime": {
     "end_time": "2025-02-09T19:26:03.304612700Z",
     "start_time": "2025-02-09T19:26:03.240490Z"
    }
   },
   "outputs": [],
   "source": []
  },
  {
   "cell_type": "markdown",
   "metadata": {
    "vscode": {
     "languageId": "powershell"
    }
   },
   "source": [
    "<h3 align=right style=\"line-height:200%;font-family:vazir;color:#0099cc\">\n",
    "<font face=\"vazir\" color=\"#0099cc\">\n",
    "مرحله ششم: سلول جواب‌ساز\n",
    "</font>\n",
    "</h3>\n",
    "\n",
    "<p dir=rtl style=\"direction: rtl;text-align: right;line-height:200%;font-family:vazir;font-size:medium\">\n",
    "<font face=\"vazir\" size=3>\n",
    "بدون هیچگونه تغییری، این سلول را اجرا کنید تا فایل پاسخ شما آماده شود.\n",
    "</font>\n",
    "</p>"
   ]
  },
  {
   "cell_type": "code",
   "execution_count": null,
   "metadata": {},
   "outputs": [],
   "source": [
    "import zipfile\n",
    "\n",
    "def compress(file_names):\n",
    "    print(\"File Paths:\")\n",
    "    print(file_names)\n",
    "    # Select the compression mode ZIP_DEFLATED for compression\n",
    "    # or zipfile.ZIP_STORED to just store the file\n",
    "    compression = zipfile.ZIP_DEFLATED\n",
    "    # create the zip file first parameter path/name, second mode\n",
    "    with zipfile.ZipFile(\"result.zip\", mode=\"w\") as zf:\n",
    "        for file_name in file_names:\n",
    "            # Add file to the zip file\n",
    "            # first parameter file to zip, second filename in zip\n",
    "            zf.write('./' + file_name, file_name, compress_type=compression)\n",
    "\n",
    "\n",
    "file_names = [\"notebook.ipynb\", \"x_gradient_flower.jpg\", \"y_gradient_flower.jpg\", \n",
    "            \"magnitude_gradient_flower.jpg\", \"canny_edge_flower.jpg\"]\n",
    "compress(file_names)"
   ]
  }
 ],
 "metadata": {
  "kernelspec": {
   "display_name": "base",
   "language": "python",
   "name": "python3"
  },
  "language_info": {
   "codemirror_mode": {
    "name": "ipython",
    "version": 3
   },
   "file_extension": ".py",
   "mimetype": "text/x-python",
   "name": "python",
   "nbconvert_exporter": "python",
   "pygments_lexer": "ipython3",
   "version": "3.11.7"
  }
 },
 "nbformat": 4,
 "nbformat_minor": 4
}

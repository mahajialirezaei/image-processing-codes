{
 "cells": [
  {
   "cell_type": "markdown",
   "metadata": {
    "collapsed": false,
    "jupyter": {
     "outputs_hidden": false
    }
   },
   "source": [
    "<h1 align=center style=\"line-height:200%;font-family:vazir;color:#0099cc\">\n",
    "<font face=\"vazir\" color=\"#0099cc\">\n",
    "در جست‌وجوی لبه\n",
    "</font>\n",
    "</h1>"
   ]
  },
  {
   "cell_type": "markdown",
   "metadata": {
    "collapsed": false,
    "jupyter": {
     "outputs_hidden": false
    }
   },
   "source": [
    "<h2 align=right style=\"line-height:200%;font-family:vazir;color:#0099cc\">\n",
    "<font face=\"vazir\" color=\"#0099cc\">\n",
    "مقدمه\n",
    "</font>\n",
    "</h2>\n",
    "\n",
    "<p dir=rtl style=\"direction: rtl;text-align: right;line-height:200%;font-family:vazir;font-size:medium\">\n",
    "<font face=\"vazir\" size=3>\n",
    "در این تمرین قصد داریم که بر روی یک تصویر لبه‌یابی را انجام دهیم. در این تمرین عملگرهای مختلفی را بررسی میکنیم و تاثیر آنها را بر تصویر بررسی میکنیم.\n",
    "</font>\n",
    "</p>"
   ]
  },
  {
   "cell_type": "code",
   "metadata": {
    "ExecuteTime": {
     "end_time": "2025-06-29T23:14:00.026140Z",
     "start_time": "2025-06-29T23:14:00.020368Z"
    }
   },
   "source": [
    "import cv2\n",
    "import numpy as np\n",
    "import matplotlib.pyplot as plt"
   ],
   "outputs": [],
   "execution_count": 41
  },
  {
   "cell_type": "markdown",
   "metadata": {
    "collapsed": false,
    "jupyter": {
     "outputs_hidden": false
    }
   },
   "source": [
    "<h3 align=right style=\"line-height:200%;font-family:vazir;color:#0099cc\">\n",
    "<font face=\"vazir\" color=\"#0099cc\">\n",
    "مرحله اول: وارد کردن عکس\n",
    "</font>\n",
    "</h3>\n",
    "\n",
    "<p dir=rtl style=\"direction: rtl;text-align: right;line-height:200%;font-family:vazir;font-size:medium\">\n",
    "<font face=\"vazir\" size=3>\n",
    "ابتدا تصویر زیر را که در پوشه Data قرار دارد به شکل خاکستری وارد کنید. دقت کنید که حتما تصویر را بصورت خاکستری وارد نمایید.\n",
    "    <br>\n",
    "    Flower poster.jpg\n",
    "</font>\n",
    "</p>"
   ]
  },
  {
   "cell_type": "code",
   "metadata": {
    "collapsed": false,
    "jupyter": {
     "outputs_hidden": false
    },
    "ExecuteTime": {
     "end_time": "2025-06-29T23:14:00.078078Z",
     "start_time": "2025-06-29T23:14:00.066240Z"
    }
   },
   "source": "flw_img = cv2.imread('Data/Flower poster.jpg', cv2.IMREAD_GRAYSCALE)",
   "outputs": [],
   "execution_count": 42
  },
  {
   "cell_type": "markdown",
   "metadata": {
    "collapsed": false,
    "jupyter": {
     "outputs_hidden": false
    }
   },
   "source": [
    "<h3 align=right style=\"line-height:200%;font-family:vazir;color:#0099cc\">\n",
    "<font face=\"vazir\" color=\"#0099cc\">\n",
    "مرحله دوم: محاسبه مشتق افقی و عمودی\n",
    "</font>\n",
    "</h3>\n",
    "\n",
    "<p dir=rtl style=\"direction: rtl;text-align: right;line-height:200%;font-family:vazir;font-size:medium\">\n",
    "<font face=\"vazir\" size=3>\n",
    "در این مرحله می‌خواهیم که مشتق عمودی و افقی تصویر را محاسبه کنیم.\n",
    "    <br>\n",
    "    برای محاسبه مشتق افقی و عمودی می‌توانید فیلتر سوبل استفاده کنید. پارامترهای این فیلتر را به شکل زیر مقداردهی کنید.\n",
    "    همچنین سپس باید گرادیان‌ها را ترکیب کنید(شدت مشتق‌ها) و جهت گرادیان‌ها(برحسب درجه) نیز محاسبه کنید.\n",
    "</font>\n",
    "</p>\n",
    "\n",
    "$$ {kernel\\:size} = 3\\times3$$\n",
    "\n",
    "<p dir=rtl style=\"direction: rtl;text-align: right;line-height:200%;font-family:vazir;font-size:medium\">\n",
    "<font face=\"vazir\" size=3>\n",
    " از این اطلاعات در ادامه استفاده خواهیم کرد. همچنین دقت کنید که با استفاده از تابع cv2.convertScaleAbs حتما مشتق افقی، مشتق عمودی و شدت گرادیان‌ها باید همگی نرمال‌سازی بشوند و سپس مابقی مراحل انجام شود.\n",
    "    <br>\n",
    "    همچنین نتیجه اعمال مشتق افقی، مشتق عمودی و شدت مشتق‌ها را فایل‌هایی با نام‌های زیر ذخیره کنید. توجه کنید که آنها را به شکل RGB ذخیره کنید.\n",
    "    <br>\n",
    "    x_gradient_flower.jpg\n",
    "    <br>\n",
    "    y_gradient_flower.jpg\n",
    "        <br>\n",
    "    magnitude_gradient_flower.jpg\n",
    "</font>\n",
    "</p>"
   ]
  },
  {
   "cell_type": "code",
   "metadata": {
    "collapsed": false,
    "jupyter": {
     "outputs_hidden": false
    },
    "ExecuteTime": {
     "end_time": "2025-06-29T23:14:00.126608Z",
     "start_time": "2025-06-29T23:14:00.081612Z"
    }
   },
   "source": [
    "sobel_x = cv2.Sobel(flw_img, cv2.CV_64F, 1, 0, ksize=3)\n",
    "sobel_y = cv2.Sobel(flw_img, cv2.CV_64F, 0, 1, ksize=3)\n",
    "magnitude = cv2.magnitude(sobel_x, sobel_y)\n",
    "direction = cv2.phase(sobel_x, sobel_y)\n",
    "\n",
    "sobel_x = cv2.convertScaleAbs(sobel_x)\n",
    "sobel_y = cv2.convertScaleAbs(sobel_y)\n",
    "magnitude = cv2.convertScaleAbs(magnitude)\n",
    "cv2.imwrite('x_gradient_flower.jpg', sobel_x)\n",
    "cv2.imwrite('y_gradient_flower.jpg', sobel_y)\n",
    "cv2.imwrite('magnitude_gradient_flower.jpg', magnitude)"
   ],
   "outputs": [
    {
     "data": {
      "text/plain": [
       "True"
      ]
     },
     "execution_count": 43,
     "metadata": {},
     "output_type": "execute_result"
    }
   ],
   "execution_count": 43
  },
  {
   "cell_type": "markdown",
   "metadata": {
    "ExecuteTime": {
     "end_time": "2025-02-08T17:35:53.941532100Z",
     "start_time": "2025-02-08T17:35:53.938027900Z"
    },
    "collapsed": false,
    "jupyter": {
     "outputs_hidden": false
    }
   },
   "source": [
    "<h3 align=right style=\"line-height:200%;font-family:vazir;color:#0099cc\">\n",
    "<font face=\"vazir\" color=\"#0099cc\">\n",
    "مرحله سوم: اعمال سرکوب غیر حداکثری\n",
    "</font>\n",
    "</h3>\n",
    "\n",
    "<p dir=rtl style=\"direction: rtl;text-align: right;line-height:200%;font-family:vazir;font-size:medium\">\n",
    "<font face=\"vazir\" size=3>\n",
    "در سلول زیر تابعی تعریف شده است که سرکوب غیر حداکثری را انجام میدهد. ورودی این تابع، شدت مشتق و جهت مشتق محاسبه شده در مرحله قبل می‌باشد. \n",
    "</font>\n",
    "</p>"
   ]
  },
  {
   "cell_type": "code",
   "metadata": {
    "ExecuteTime": {
     "end_time": "2025-06-29T23:14:00.146126Z",
     "start_time": "2025-06-29T23:14:00.138395Z"
    }
   },
   "source": [
    "def non_maximum_suppression(gradient_magnitude, gradient_direction):\n",
    "    height, width = gradient_magnitude.shape\n",
    "    suppressed = np.zeros((height, width), dtype=np.uint8)\n",
    "\n",
    "    angle = gradient_direction\n",
    "\n",
    "    for i in range(1, height - 1):\n",
    "        for j in range(1, width - 1):\n",
    "            q, r = 255, 255\n",
    "\n",
    "            if (0 <= angle[i, j] < 22.5) or (157.5 <= angle[i, j] <= 180):\n",
    "                q = gradient_magnitude[i, j + 1]\n",
    "                r = gradient_magnitude[i, j - 1]\n",
    "            elif 22.5 <= angle[i, j] < 67.5:\n",
    "                q = gradient_magnitude[i + 1, j - 1]\n",
    "                r = gradient_magnitude[i - 1, j + 1]\n",
    "            elif 67.5 <= angle[i, j] < 112.5:\n",
    "                q = gradient_magnitude[i + 1, j]\n",
    "                r = gradient_magnitude[i - 1, j]\n",
    "            elif 112.5 <= angle[i, j] < 157.5:\n",
    "                q = gradient_magnitude[i - 1, j - 1]\n",
    "                r = gradient_magnitude[i + 1, j + 1]\n",
    "\n",
    "            if (gradient_magnitude[i, j] >= q) and (gradient_magnitude[i, j] >= r):\n",
    "                suppressed[i, j] = gradient_magnitude[i, j]\n",
    "\n",
    "    return suppressed\n"
   ],
   "outputs": [],
   "execution_count": 44
  },
  {
   "cell_type": "markdown",
   "metadata": {},
   "source": [
    "<h3 align=right style=\"line-height:200%;font-family:vazir;color:#0099cc\">\n",
    "<font face=\"vazir\" color=\"#0099cc\">\n",
    "مرحله چهارم: اعمال هیسترزیس\n",
    "</font>\n",
    "</h3>\n",
    "\n",
    "<p dir=rtl style=\"direction: rtl;text-align: right;line-height:200%;font-family:vazir;font-size:medium\">\n",
    "<font face=\"vazir\" size=3>\n",
    "در این سلول هیسترزیس را پیاده‌سازی کنید. این پیاده‌سازی را بر روی خروجی سرکوب غیر حداکثری اعمال کنید تا لبه‌های قوی و لبه‌های ضعیف حفظ شوند و نویز از تصویر خارج شود.\n",
    "میتواند مقدار لبه‌های قوی را  با شدت 255 جایگزین کنید و لبه‌های ضعیف را با شدت 50 .\n",
    "    <br>\n",
    "     مقدار آستانه‌های بالا و پائین را به شکل زیر در نظر بگیرید.\n",
    "</font>\n",
    "</p>\n",
    "\n",
    "$${T_1} = 100 $$\n",
    "$${T_2} = 200 $$"
   ]
  },
  {
   "cell_type": "code",
   "metadata": {
    "collapsed": false,
    "jupyter": {
     "outputs_hidden": false
    },
    "ExecuteTime": {
     "end_time": "2025-06-29T23:14:01.098065Z",
     "start_time": "2025-06-29T23:14:00.156029Z"
    }
   },
   "source": [
    "suppressed = non_maximum_suppression(magnitude, direction)\n",
    "thr_1 = 100\n",
    "thr_2 = 200\n",
    "\n",
    "\n",
    "def hysteresis(suppressed, thr_1, thr_2):\n",
    "    output = np.zeros(suppressed.shape, dtype=np.uint8)\n",
    "    strong_edges = suppressed >= thr_2\n",
    "    weak_edges = (suppressed >= thr_1) & (suppressed < thr_2)\n",
    "\n",
    "    output[strong_edges] = 255\n",
    "    output[weak_edges] = 50\n",
    "    for i in range(1, suppressed.shape[0] - 1):\n",
    "        for j in range(1, suppressed.shape[1] - 1):\n",
    "            if output[i, j] == 50:\n",
    "                if np.any(suppressed[i - 1:i + 2, j - 1:j + 2] >= thr_1):\n",
    "                    output[i, j] = 255\n",
    "    return output\n",
    "output_img = hysteresis(suppressed, thr_1, thr_2)"
   ],
   "outputs": [],
   "execution_count": 45
  },
  {
   "metadata": {
    "ExecuteTime": {
     "end_time": "2025-06-29T23:14:01.112212Z",
     "start_time": "2025-06-29T23:14:01.109135Z"
    }
   },
   "cell_type": "code",
   "source": "",
   "outputs": [],
   "execution_count": null
  },
  {
   "cell_type": "markdown",
   "metadata": {
    "collapsed": false,
    "jupyter": {
     "outputs_hidden": false
    }
   },
   "source": [
    "T<h3 align=right style=\"line-height:200%;font-family:vazir;color:#0099cc\">\n",
    "<font face=\"vazir\" color=\"#0099cc\">\n",
    "مرحله پنجم: ذخیره‌سازی\n",
    "</font>\n",
    "</h3>\n",
    "\n",
    "<p dir=rtl style=\"direction: rtl;text-align: right;line-height:200%;font-family:vazir;font-size:medium\">\n",
    "<font face=\"vazir\" size=3>\n",
    "    شما موفق شدید که لبه‌یابی را بطور کامل انجام دهید. مراحلی که طی کردید، در اصل پیاده‌سازی روش کنی برای تشخیص لبه بود. حال باید تصویر حاصل در مرحله قبل را ذخیره کنید. این فایل را بصورت RGB باید ذخیره کنید و نام آن بصورت زیر باشد:\n",
    "    <br>\n",
    "    canny_edge_flower.jpg\n",
    "</font>\n",
    "</p>"
   ]
  },
  {
   "cell_type": "code",
   "metadata": {
    "ExecuteTime": {
     "end_time": "2025-06-29T23:14:01.138799Z",
     "start_time": "2025-06-29T23:14:01.123232Z"
    }
   },
   "source": [
    "output_img = cv2.cvtColor(output_img, cv2.COLOR_GRAY2RGB)\n",
    "cv2.imwrite('canny_edge_flower.jpg', output_img)"
   ],
   "outputs": [
    {
     "data": {
      "text/plain": [
       "True"
      ]
     },
     "execution_count": 46,
     "metadata": {},
     "output_type": "execute_result"
    }
   ],
   "execution_count": 46
  },
  {
   "cell_type": "markdown",
   "metadata": {
    "vscode": {
     "languageId": "powershell"
    }
   },
   "source": [
    "<h3 align=right style=\"line-height:200%;font-family:vazir;color:#0099cc\">\n",
    "<font face=\"vazir\" color=\"#0099cc\">\n",
    "مرحله ششم: سلول جواب‌ساز\n",
    "</font>\n",
    "</h3>\n",
    "\n",
    "<p dir=rtl style=\"direction: rtl;text-align: right;line-height:200%;font-family:vazir;font-size:medium\">\n",
    "<font face=\"vazir\" size=3>\n",
    "بدون هیچگونه تغییری، این سلول را اجرا کنید تا فایل پاسخ شما آماده شود.\n",
    "</font>\n",
    "</p>"
   ]
  },
  {
   "cell_type": "code",
   "metadata": {
    "ExecuteTime": {
     "end_time": "2025-06-29T23:14:01.246983Z",
     "start_time": "2025-06-29T23:14:01.182613Z"
    }
   },
   "source": [
    "import zipfile\n",
    "\n",
    "\n",
    "def compress(file_names):\n",
    "    print(\"File Paths:\")\n",
    "    print(file_names)\n",
    "    # Select the compression mode ZIP_DEFLATED for compression\n",
    "    # or zipfile.ZIP_STORED to just store the file\n",
    "    compression = zipfile.ZIP_DEFLATED\n",
    "    # create the zip file first parameter path/name, second mode\n",
    "    with zipfile.ZipFile(\"result.zip\", mode=\"w\") as zf:\n",
    "        for file_name in file_names:\n",
    "            # Add file to the zip file\n",
    "            # first parameter file to zip, second filename in zip\n",
    "            zf.write('./' + file_name, file_name, compress_type=compression)\n",
    "\n",
    "\n",
    "file_names = [\"notebook.ipynb\", \"x_gradient_flower.jpg\", \"y_gradient_flower.jpg\",\n",
    "              \"magnitude_gradient_flower.jpg\", \"canny_edge_flower.jpg\"]\n",
    "compress(file_names)"
   ],
   "outputs": [
    {
     "name": "stdout",
     "output_type": "stream",
     "text": [
      "File Paths:\n",
      "['notebook.ipynb', 'x_gradient_flower.jpg', 'y_gradient_flower.jpg', 'magnitude_gradient_flower.jpg', 'canny_edge_flower.jpg']\n"
     ]
    },
    {
     "ename": "FileNotFoundError",
     "evalue": "[WinError 2] The system cannot find the file specified: './x_gradient_flower.jpg'",
     "output_type": "error",
     "traceback": [
      "\u001B[31m---------------------------------------------------------------------------\u001B[39m",
      "\u001B[31mFileNotFoundError\u001B[39m                         Traceback (most recent call last)",
      "\u001B[36mCell\u001B[39m\u001B[36m \u001B[39m\u001B[32mIn[47]\u001B[39m\u001B[32m, line 20\u001B[39m\n\u001B[32m     15\u001B[39m             zf.write(\u001B[33m'\u001B[39m\u001B[33m./\u001B[39m\u001B[33m'\u001B[39m + file_name, file_name, compress_type=compression)\n\u001B[32m     18\u001B[39m file_names = [\u001B[33m\"\u001B[39m\u001B[33mnotebook.ipynb\u001B[39m\u001B[33m\"\u001B[39m, \u001B[33m\"\u001B[39m\u001B[33mx_gradient_flower.jpg\u001B[39m\u001B[33m\"\u001B[39m, \u001B[33m\"\u001B[39m\u001B[33my_gradient_flower.jpg\u001B[39m\u001B[33m\"\u001B[39m,\n\u001B[32m     19\u001B[39m               \u001B[33m\"\u001B[39m\u001B[33mmagnitude_gradient_flower.jpg\u001B[39m\u001B[33m\"\u001B[39m, \u001B[33m\"\u001B[39m\u001B[33mcanny_edge_flower.jpg\u001B[39m\u001B[33m\"\u001B[39m]\n\u001B[32m---> \u001B[39m\u001B[32m20\u001B[39m \u001B[43mcompress\u001B[49m\u001B[43m(\u001B[49m\u001B[43mfile_names\u001B[49m\u001B[43m)\u001B[49m\n",
      "\u001B[36mCell\u001B[39m\u001B[36m \u001B[39m\u001B[32mIn[47]\u001B[39m\u001B[32m, line 15\u001B[39m, in \u001B[36mcompress\u001B[39m\u001B[34m(file_names)\u001B[39m\n\u001B[32m     11\u001B[39m \u001B[38;5;28;01mwith\u001B[39;00m zipfile.ZipFile(\u001B[33m\"\u001B[39m\u001B[33mresult.zip\u001B[39m\u001B[33m\"\u001B[39m, mode=\u001B[33m\"\u001B[39m\u001B[33mw\u001B[39m\u001B[33m\"\u001B[39m) \u001B[38;5;28;01mas\u001B[39;00m zf:\n\u001B[32m     12\u001B[39m     \u001B[38;5;28;01mfor\u001B[39;00m file_name \u001B[38;5;129;01min\u001B[39;00m file_names:\n\u001B[32m     13\u001B[39m         \u001B[38;5;66;03m# Add file to the zip file\u001B[39;00m\n\u001B[32m     14\u001B[39m         \u001B[38;5;66;03m# first parameter file to zip, second filename in zip\u001B[39;00m\n\u001B[32m---> \u001B[39m\u001B[32m15\u001B[39m         \u001B[43mzf\u001B[49m\u001B[43m.\u001B[49m\u001B[43mwrite\u001B[49m\u001B[43m(\u001B[49m\u001B[33;43m'\u001B[39;49m\u001B[33;43m./\u001B[39;49m\u001B[33;43m'\u001B[39;49m\u001B[43m \u001B[49m\u001B[43m+\u001B[49m\u001B[43m \u001B[49m\u001B[43mfile_name\u001B[49m\u001B[43m,\u001B[49m\u001B[43m \u001B[49m\u001B[43mfile_name\u001B[49m\u001B[43m,\u001B[49m\u001B[43m \u001B[49m\u001B[43mcompress_type\u001B[49m\u001B[43m=\u001B[49m\u001B[43mcompression\u001B[49m\u001B[43m)\u001B[49m\n",
      "\u001B[36mFile \u001B[39m\u001B[32m~\\AppData\\Local\\Programs\\Python\\Python312\\Lib\\zipfile\\__init__.py:1846\u001B[39m, in \u001B[36mZipFile.write\u001B[39m\u001B[34m(self, filename, arcname, compress_type, compresslevel)\u001B[39m\n\u001B[32m   1841\u001B[39m \u001B[38;5;28;01mif\u001B[39;00m \u001B[38;5;28mself\u001B[39m._writing:\n\u001B[32m   1842\u001B[39m     \u001B[38;5;28;01mraise\u001B[39;00m \u001B[38;5;167;01mValueError\u001B[39;00m(\n\u001B[32m   1843\u001B[39m         \u001B[33m\"\u001B[39m\u001B[33mCan\u001B[39m\u001B[33m'\u001B[39m\u001B[33mt write to ZIP archive while an open writing handle exists\u001B[39m\u001B[33m\"\u001B[39m\n\u001B[32m   1844\u001B[39m     )\n\u001B[32m-> \u001B[39m\u001B[32m1846\u001B[39m zinfo = \u001B[43mZipInfo\u001B[49m\u001B[43m.\u001B[49m\u001B[43mfrom_file\u001B[49m\u001B[43m(\u001B[49m\u001B[43mfilename\u001B[49m\u001B[43m,\u001B[49m\u001B[43m \u001B[49m\u001B[43marcname\u001B[49m\u001B[43m,\u001B[49m\n\u001B[32m   1847\u001B[39m \u001B[43m                          \u001B[49m\u001B[43mstrict_timestamps\u001B[49m\u001B[43m=\u001B[49m\u001B[38;5;28;43mself\u001B[39;49m\u001B[43m.\u001B[49m\u001B[43m_strict_timestamps\u001B[49m\u001B[43m)\u001B[49m\n\u001B[32m   1849\u001B[39m \u001B[38;5;28;01mif\u001B[39;00m zinfo.is_dir():\n\u001B[32m   1850\u001B[39m     zinfo.compress_size = \u001B[32m0\u001B[39m\n",
      "\u001B[36mFile \u001B[39m\u001B[32m~\\AppData\\Local\\Programs\\Python\\Python312\\Lib\\zipfile\\__init__.py:557\u001B[39m, in \u001B[36mZipInfo.from_file\u001B[39m\u001B[34m(cls, filename, arcname, strict_timestamps)\u001B[39m\n\u001B[32m    555\u001B[39m \u001B[38;5;28;01mif\u001B[39;00m \u001B[38;5;28misinstance\u001B[39m(filename, os.PathLike):\n\u001B[32m    556\u001B[39m     filename = os.fspath(filename)\n\u001B[32m--> \u001B[39m\u001B[32m557\u001B[39m st = \u001B[43mos\u001B[49m\u001B[43m.\u001B[49m\u001B[43mstat\u001B[49m\u001B[43m(\u001B[49m\u001B[43mfilename\u001B[49m\u001B[43m)\u001B[49m\n\u001B[32m    558\u001B[39m isdir = stat.S_ISDIR(st.st_mode)\n\u001B[32m    559\u001B[39m mtime = time.localtime(st.st_mtime)\n",
      "\u001B[31mFileNotFoundError\u001B[39m: [WinError 2] The system cannot find the file specified: './x_gradient_flower.jpg'"
     ]
    }
   ],
   "execution_count": 47
  },
  {
   "metadata": {},
   "cell_type": "code",
   "outputs": [],
   "execution_count": null,
   "source": ""
  }
 ],
 "metadata": {
  "kernelspec": {
   "display_name": "base",
   "language": "python",
   "name": "python3"
  },
  "language_info": {
   "codemirror_mode": {
    "name": "ipython",
    "version": 3
   },
   "file_extension": ".py",
   "mimetype": "text/x-python",
   "name": "python",
   "nbconvert_exporter": "python",
   "pygments_lexer": "ipython3",
   "version": "3.11.7"
  }
 },
 "nbformat": 4,
 "nbformat_minor": 4
}

{
 "cells": [
  {
   "cell_type": "markdown",
   "metadata": {
    "collapsed": false,
    "jupyter": {
     "outputs_hidden": false
    }
   },
   "source": [
    "<h1 align=center style=\"line-height:200%;font-family:vazir;color:#0099cc\">\n",
    "<font face=\"vazir\" color=\"#0099cc\">\n",
    "خداحافظی با نویز\n",
    "</font>\n",
    "</h1>"
   ]
  },
  {
   "cell_type": "markdown",
   "metadata": {
    "collapsed": false,
    "jupyter": {
     "outputs_hidden": false
    }
   },
   "source": [
    "<h2 align=right style=\"line-height:200%;font-family:vazir;color:#0099cc\">\n",
    "<font face=\"vazir\" color=\"#0099cc\">\n",
    "مقدمه\n",
    "</font>\n",
    "</h2>\n",
    "\n",
    "<p dir=rtl style=\"direction: rtl;text-align: right;line-height:200%;font-family:vazir;font-size:medium\">\n",
    "<font face=\"vazir\" size=3>\n",
    "در این تمرین قصد داریم تا با استفاده از فیلترهای میانگین گیری و میانه یک تصویر که حاوی نویز می باشد را هموار کنیم و تا حد امکان نویز آنرا حذف کنیم.\n",
    "</font>\n",
    "</p>"
   ]
  },
  {
   "cell_type": "code",
   "metadata": {
    "ExecuteTime": {
     "end_time": "2025-06-29T09:03:45.915729Z",
     "start_time": "2025-06-29T09:03:45.910649Z"
    }
   },
   "source": [
    "import cv2\n",
    "import numpy as np\n",
    "import matplotlib.pyplot as plt"
   ],
   "outputs": [],
   "execution_count": 43
  },
  {
   "cell_type": "markdown",
   "metadata": {
    "collapsed": false,
    "jupyter": {
     "outputs_hidden": false
    }
   },
   "source": [
    "<h2 align=right style=\"line-height:200%;font-family:vazir;color:#0099cc\">\n",
    "<font face=\"vazir\" color=\"#0099cc\">\n",
    "بخش اول: فیلتر میانگین و میانه\n",
    "</font>\n",
    "</h2>\n",
    "\n",
    "<p dir=rtl style=\"direction: rtl;text-align: right;line-height:200%;font-family:vazir;font-size:medium\">\n",
    "<font face=\"vazir\" size=3>\n",
    "در این بخش قصد داریم تا با استفاده از فیلتر میانگین و میانه هموارسازی را انجام دهیم و تاثیر پارامترهای هر فیلتر را بررسی کنیم.\n",
    "</font>\n",
    "</p>\n",
    "\n",
    "---\n",
    "\n",
    "\n",
    "<h3 align=right style=\"line-height:200%;font-family:vazir;color:#0099cc\">\n",
    "<font face=\"vazir\" color=\"#0099cc\">\n",
    "مرحله اول: وارد کردن عکس\n",
    "</font>\n",
    "</h3>\n",
    "\n",
    "<p dir=rtl style=\"direction: rtl;text-align: right;line-height:200%;font-family:vazir;font-size:medium\">\n",
    "<font face=\"vazir\" size=3>\n",
    "ابتدا تصویر زیر را که در پوشه Data قرار دارد به شکل خاکستری وارد کنید.\n",
    "    <br>\n",
    "    Characters Test Pattern.tif\n",
    "</font>\n",
    "</p>"
   ]
  },
  {
   "cell_type": "code",
   "metadata": {
    "collapsed": false,
    "jupyter": {
     "outputs_hidden": false
    },
    "ExecuteTime": {
     "end_time": "2025-06-29T09:03:45.951134Z",
     "start_time": "2025-06-29T09:03:45.944748Z"
    }
   },
   "source": "img = cv2.imread('Data/Characters Test Pattern.tif', cv2.IMREAD_GRAYSCALE)",
   "outputs": [],
   "execution_count": 44
  },
  {
   "cell_type": "markdown",
   "metadata": {
    "collapsed": false,
    "jupyter": {
     "outputs_hidden": false
    }
   },
   "source": [
    "<h3 align=right style=\"line-height:200%;font-family:vazir;color:#0099cc\">\n",
    "<font face=\"vazir\" color=\"#0099cc\">\n",
    "مرحله دوم: نویزی کردن تصویر\n",
    "</font>\n",
    "</h3>\n",
    "\n",
    "<p dir=rtl style=\"direction: rtl;text-align: right;line-height:200%;font-family:vazir;font-size:medium\">\n",
    "<font face=\"vazir\" size=3>\n",
    "در سلول زیر یک تابع نوشته شده است. اگر به این تابع یک تصویر را به عنوان ورودی بدهید، این تابع روی تصویر نویزی به نام <b>فلفل نمک</b> اعمال می‌کند.\n",
    "    <br>\n",
    "ورودی تابع یک تصویر خاکستری است و پارامتر دوم آن درصد نویز وارد شده به تصویر را نشان می‌دهد. \n",
    "    <br>\n",
    "این تابع را بر روی تصویر ورودی اعمال کنید. میزان نویز را 15 درصد در نظر بگیرید.\n",
    "</font>\n",
    "</p>"
   ]
  },
  {
   "cell_type": "code",
   "metadata": {
    "ExecuteTime": {
     "end_time": "2025-06-29T09:03:45.966844Z",
     "start_time": "2025-06-29T09:03:45.960906Z"
    }
   },
   "source": [
    "def add_salt_pepper_noise(image, percent):\n",
    "    noisy_image = image.copy()\n",
    "    noise_amount = (image.shape[0] * image.shape[1]) * (percent / 100)\n",
    "\n",
    "    for k in range(int(noise_amount)):\n",
    "        index = []\n",
    "        for x in range(1, 5):\n",
    "            index.append(np.random.randint(0, image.shape[0]))\n",
    "        noisy_image[index[0], index[1]], noisy_image[index[2], index[3]] = 0, 255\n",
    "\n",
    "    return noisy_image\n"
   ],
   "outputs": [],
   "execution_count": 45
  },
  {
   "cell_type": "markdown",
   "metadata": {
    "collapsed": false,
    "jupyter": {
     "outputs_hidden": false
    }
   },
   "source": [
    "<h3 align=right style=\"line-height:200%;font-family:vazir;color:#0099cc\">\n",
    "<font face=\"vazir\" color=\"#0099cc\">\n",
    "مرحله سوم: هموارسازی با استفاده از میانگین‌گیری\n",
    "</font>\n",
    "</h3>\n",
    "\n",
    "<p dir=rtl style=\"direction: rtl;text-align: right;line-height:200%;font-family:vazir;font-size:medium\">\n",
    "<font face=\"vazir\" size=3>\n",
    "حال با استفاده از فیلتر میانگین‌گیری با اندازه‌های کرنل داده شده، تصویر را هموارسازی کنید.\n",
    "</font>\n",
    "</p>\n",
    "\n",
    "$${kernel size} = (3, 3) $$\n",
    "$${kernel size} = (5, 5) $$\n",
    "$${kernel size} = (7, 7) $$\n",
    "\n",
    "<p dir=rtl style=\"direction: rtl;text-align: right;line-height:200%;font-family:vazir;font-size:medium\">\n",
    "خروجی فیلتری که بیشترین PSNR را دارد با نام زیر ذخیره کنید. توجه کنید که حتما تصویر را به شکل RGB ذخیره کنید.\n",
    "    <br>\n",
    "    best_avg_characters_test_pattern.tif\n",
    "</font>\n",
    "</p>"
   ]
  },
  {
   "cell_type": "code",
   "metadata": {
    "collapsed": false,
    "jupyter": {
     "outputs_hidden": false
    },
    "ExecuteTime": {
     "end_time": "2025-06-29T09:03:46.731420Z",
     "start_time": "2025-06-29T09:03:45.981171Z"
    }
   },
   "source": [
    "img_noisy = add_salt_pepper_noise(img, 15)\n",
    "img_smooth3 = cv2.blur(img_noisy, (3, 3))\n",
    "img_smooth5 = cv2.blur(img_noisy, (5, 5))\n",
    "img_smooth7 = cv2.blur(img_noisy, (7, 7))\n",
    "psnr3 = cv2.PSNR(img, img_smooth3)\n",
    "psnr5 = cv2.PSNR(img, img_smooth5)\n",
    "psnr7 = cv2.PSNR(img, img_smooth7)\n",
    "if psnr3 == max(psnr3, psnr5, psnr7):\n",
    "    img_smooth3 = cv2.cvtColor(img_smooth3, cv2.COLOR_GRAY2RGB)\n",
    "    cv2.imwrite('best_avg_characters_test_pattern.tif', img_smooth3)\n",
    "elif psnr5 == max(psnr3, psnr5, psnr7):\n",
    "    img_smooth5 = cv2.cvtColor(img_smooth5, cv2.COLOR_GRAY2RGB)\n",
    "    cv2.imwrite('best_avg_characters_test_pattern.tif', img_smooth5)\n",
    "else:\n",
    "    img_smooth7 = cv2.cvtColor(img_smooth7, cv2.COLOR_GRAY2RGB)\n",
    "    cv2.imwrite('best_avg_characters_test_pattern.tif', img_smooth7)"
   ],
   "outputs": [],
   "execution_count": 46
  },
  {
   "cell_type": "markdown",
   "metadata": {
    "ExecuteTime": {
     "end_time": "2025-02-08T17:35:53.941532100Z",
     "start_time": "2025-02-08T17:35:53.938027900Z"
    },
    "collapsed": false,
    "jupyter": {
     "outputs_hidden": false
    }
   },
   "source": [
    "<h3 align=right style=\"line-height:200%;font-family:vazir;color:#0099cc\">\n",
    "<font face=\"vazir\" color=\"#0099cc\">\n",
    "مرحله چهارم: هموارسازی با استفاده از فیلتر میانه\n",
    "</font>\n",
    "</h3>\n",
    "\n",
    "<p dir=rtl style=\"direction: rtl;text-align: right;line-height:200%;font-family:vazir;font-size:medium\">\n",
    "<font face=\"vazir\" size=3>\n",
    "حال با استفاده از فیلتر میانه به ابعاد زیر هموارسازی را انجام دهید.\n",
    "</font>\n",
    "</p>\n",
    "\n",
    "$${kernel size} = (3, 3) $$\n",
    "$${kernel size} = (5, 5) $$\n",
    "$${kernel size} = (7, 7) $$\n",
    "\n",
    "<p dir=rtl style=\"direction: rtl;text-align: right;line-height:200%;font-family:vazir;font-size:medium\">\n",
    "تصویر خروجی هر فیلتر را بررسی کنید. به ازای هر تصویر PSNR را نسبت به تصویر اولیه بدون نویز بدست آورید.\n",
    "    <br>\n",
    "    تصویری که بیشترین PSNR دارد را با نام فایل زیر ذخیره کنید.\n",
    "    <br>\n",
    "    best_median_characters_test_pattern.tif\n",
    "</font>\n",
    "</p>"
   ]
  },
  {
   "cell_type": "code",
   "metadata": {
    "ExecuteTime": {
     "end_time": "2025-06-29T09:03:46.768838Z",
     "start_time": "2025-06-29T09:03:46.740117Z"
    }
   },
   "source": [
    "img_smooth3_median = cv2.medianBlur(img_noisy, 3)\n",
    "img_smooth5_median = cv2.medianBlur(img_noisy, 5)\n",
    "img_smooth7_median = cv2.medianBlur(img_noisy, 7)\n",
    "psnr3 = cv2.PSNR(img, img_smooth3_median)\n",
    "psnr5 = cv2.PSNR(img, img_smooth5_median)\n",
    "psnr7 = cv2.PSNR(img, img_smooth7_median)\n",
    "if psnr3 == max(psnr3, psnr5, psnr7):\n",
    "    img_smooth3_median = cv2.cvtColor(img_smooth3_median, cv2.COLOR_GRAY2RGB)\n",
    "    cv2.imwrite('best_median_characters_test_pattern.tif', img_smooth3_median)\n",
    "elif psnr5 == max(psnr3, psnr5, psnr7):\n",
    "    img_smooth5_median = cv2.cvtColor(img_smooth5_median, cv2.COLOR_GRAY2RGB)\n",
    "    cv2.imwrite('best_median_characters_test_pattern.tif', img_smooth5_median)\n",
    "else:\n",
    "    img_smooth7_median = cv2.cvtColor(img_smooth7_median, cv2.COLOR_GRAY2RGB)\n",
    "    cv2.imwrite('best_median_characters_test_pattern.tif', img_smooth7_median)\n"
   ],
   "outputs": [],
   "execution_count": 47
  },
  {
   "cell_type": "markdown",
   "metadata": {},
   "source": [
    "<h2 align=right style=\"line-height:200%;font-family:vazir;color:#0099cc\">\n",
    "<font face=\"vazir\" color=\"#0099cc\">\n",
    "بخش دوم: فیلتر گوسی\n",
    "</font>\n",
    "</h2>\n",
    "\n",
    "<p dir=rtl style=\"direction: rtl;text-align: right;line-height:200%;font-family:vazir;font-size:medium\">\n",
    "<font face=\"vazir\" size=3>\n",
    "در این بخش قصد داریم تا یک فیلتر گوسی را با پارامترهای مختلف بررسی کنیم و تاثیر آنها را مشاهده کنیم.\n",
    "</font>\n",
    "</p>\n",
    "\n",
    "---\n",
    "\n",
    "<h3 align=right style=\"line-height:200%;font-family:vazir;color:#0099cc\">\n",
    "<font face=\"vazir\" color=\"#0099cc\">\n",
    "مرحله اول: وارد کردن تصویر\n",
    "</font>\n",
    "</h3>\n",
    "\n",
    "<p dir=rtl style=\"direction: rtl;text-align: right;line-height:200%;font-family:vazir;font-size:medium\">\n",
    "<font face=\"vazir\" size=3>\n",
    "ابتدا تصویر زیر را که در پوشه Data قرار دارد به شکل خاکستری وارد کنید.\n",
    "    <br>\n",
    "    cameraman.tif\n",
    "</font>\n",
    "</p>"
   ]
  },
  {
   "cell_type": "code",
   "metadata": {
    "collapsed": false,
    "jupyter": {
     "outputs_hidden": false
    },
    "ExecuteTime": {
     "end_time": "2025-06-29T09:03:46.783459Z",
     "start_time": "2025-06-29T09:03:46.778012Z"
    }
   },
   "source": "img_for_gaussy = cv2.imread('Data/cameraman.tif', cv2.IMREAD_GRAYSCALE)",
   "outputs": [],
   "execution_count": 48
  },
  {
   "cell_type": "markdown",
   "metadata": {
    "collapsed": false,
    "jupyter": {
     "outputs_hidden": false
    }
   },
   "source": [
    "<h3 align=right style=\"line-height:200%;font-family:vazir;color:#0099cc\">\n",
    "<font face=\"vazir\" color=\"#0099cc\">\n",
    "مرحله دوم: اعمال نویز گوسی\n",
    "</font>\n",
    "</h3>\n",
    "\n",
    "<p dir=rtl style=\"direction: rtl;text-align: right;line-height:200%;font-family:vazir;font-size:medium\">\n",
    "<font face=\"vazir\" size=3>\n",
    " از در این مرحله قصد داریم تا با استفاده از تابعی که در سلول زیر تعریف شده است، روی تصویر خود نویز گوسی را اعمال کنیم. این تابع تصویر شما به همراه میانگین و انحراف معیار دریافت می‌کند. خروجی این تابع تصویری است که حاوی نویز گوسی است. \n",
    "    <br>\n",
    "    تصویر ورودی را به این تابع بدهید. همچنین سایر پارامترهای انرا به شکل زیر مقداردهی کنید.\n",
    "</font>\n",
    "</p>\n",
    "\n",
    "\n",
    "$${mean} = 0 $$\n",
    "$${\\sigma} = 20 $$"
   ]
  },
  {
   "cell_type": "code",
   "metadata": {
    "collapsed": false,
    "jupyter": {
     "outputs_hidden": false
    },
    "ExecuteTime": {
     "end_time": "2025-06-29T09:03:46.797597Z",
     "start_time": "2025-06-29T09:03:46.793619Z"
    }
   },
   "source": [
    "def add_gaussian_noise(img, mean, sigma):\n",
    "    noise = np.random.normal(mean, sigma, img.shape).astype(np.int16)\n",
    "    noisy_img = img.astype(np.int16) + noise\n",
    "    noisy_img = np.clip(noisy_img, 0, 255).astype(np.uint8)\n",
    "    return noisy_img\n"
   ],
   "outputs": [],
   "execution_count": 49
  },
  {
   "cell_type": "markdown",
   "metadata": {
    "collapsed": false,
    "jupyter": {
     "outputs_hidden": false
    }
   },
   "source": [
    "<h3 align=right style=\"line-height:200%;font-family:vazir;color:#0099cc\">\n",
    "<font face=\"vazir\" color=\"#0099cc\">\n",
    "مرحله سوم: اعمال فیلتر گوسی\n",
    "</font>\n",
    "</h3>\n",
    "\n",
    "<p dir=rtl style=\"direction: rtl;text-align: right;line-height:200%;font-family:vazir;font-size:medium\">\n",
    "<font face=\"vazir\" size=3>\n",
    "حال در جهت کاهش نویز و افزایش کیفیت تصویر می‌خواهیم که از فیلتر گوسی جهت هموار سازی استفاده کنیم. این فیلتر دو پارامتر مهم دارد. سایز هسته و انحراف معیار. در این بخش هسته‌ها همگی 3x3 هستند.\n",
    "    <br>\n",
    "    اما این فیلتر را به ازای انحراف معیارهای متفاوت بررسی خواهیم کرد. فیلترهایی با انحراف معیار زیر بسازید و روی تصویر نویزی مرحله قبل اعمال کنید.\n",
    "</font>\n",
    "</p>\n",
    "\n",
    "$${\\sigma} = 0.5 $$\n",
    "$${\\sigma} = 1.5 $$\n",
    "$${\\sigma} = 3.0 $$\n",
    "$${\\sigma} = 5.0 $$"
   ]
  },
  {
   "cell_type": "code",
   "metadata": {
    "ExecuteTime": {
     "end_time": "2025-06-29T09:03:46.815380Z",
     "start_time": "2025-06-29T09:03:46.807989Z"
    }
   },
   "source": [
    "img_noisy_gaussy = add_gaussian_noise(img_for_gaussy, 0, 20)\n",
    "img_smooth_g_0dot5 = cv2.GaussianBlur(img_noisy_gaussy, (3, 3), 0.5)\n",
    "img_smooth_g_1dot5 = cv2.GaussianBlur(img_noisy_gaussy, (3, 3), 1.5)\n",
    "img_smooth_g_3 = cv2.GaussianBlur(img_noisy_gaussy, (3, 3), 3)\n",
    "img_smooth_g_5 = cv2.GaussianBlur(img_noisy_gaussy, (3, 3), 5)"
   ],
   "outputs": [],
   "execution_count": 50
  },
  {
   "cell_type": "markdown",
   "metadata": {
    "collapsed": false,
    "jupyter": {
     "outputs_hidden": false
    }
   },
   "source": [
    "<h3 align=right style=\"line-height:200%;font-family:vazir;color:#0099cc\">\n",
    "<font face=\"vazir\" color=\"#0099cc\">\n",
    "مرحله چهارم: ذخیره‌سازی\n",
    "</font>\n",
    "</h3>\n",
    "\n",
    "<p dir=rtl style=\"direction: rtl;text-align: right;line-height:200%;font-family:vazir;font-size:medium\">\n",
    "<font face=\"vazir\" size=3>\n",
    "ابتدا به ازای تصاویر خروجی فیلتر گوسی، PSNR هر کدام نسبت به تصویر اولیه بدون نویز را بدست آورید.\n",
    "    <br>\n",
    "    سپس تصویری که بیشترین PSNR دارد را ذخیره کنید. دقت کنید که تصویر را بصورت RGB ذخیره کنید.\n",
    "    <br>\n",
    "    best_gaussian_cameraman.tif\n",
    "</font>\n",
    "</p>"
   ]
  },
  {
   "cell_type": "code",
   "metadata": {
    "ExecuteTime": {
     "end_time": "2025-06-29T09:03:46.834026Z",
     "start_time": "2025-06-29T09:03:46.824771Z"
    }
   },
   "source": [
    "psnr0dot5 = cv2.PSNR(img_for_gaussy, img_smooth_g_0dot5)\n",
    "psnr1dot5 = cv2.PSNR(img_for_gaussy, img_smooth_g_1dot5)\n",
    "psnr3 = cv2.PSNR(img_for_gaussy, img_smooth_g_3)\n",
    "psnr5 = cv2.PSNR(img_for_gaussy, img_smooth_g_5)\n",
    "if psnr0dot5 == max(psnr3, psnr5, psnr1dot5, psnr0dot5):\n",
    "    img_smooth_g_0dot5 = cv2.cvtColor(img_smooth_g_0dot5, cv2.COLOR_GRAY2RGB)\n",
    "    cv2.imwrite('best_gaussian_cameraman.tif', img_smooth_g_0dot5)\n",
    "elif psnr1dot5 == max(psnr3, psnr5, psnr1dot5, psnr0dot5):\n",
    "    img_smooth_g_1dot5 = cv2.cvtColor(img_smooth_g_1dot5, cv2.COLOR_GRAY2RGB)\n",
    "    cv2.imwrite('best_gaussian_cameraman.tif', img_smooth_g_1dot5)\n",
    "elif psnr3 == max(psnr3, psnr5, psnr1dot5, psnr0dot5):\n",
    "\n",
    "    img_smooth_g_3 = cv2.cvtColor(img_smooth_g_3, cv2.COLOR_GRAY2RGB)\n",
    "    cv2.imwrite('best_gaussian_cameraman.tif', img_smooth_g_3)\n",
    "else:\n",
    "    img_smooth_g_5 = cv2.cvtColor(img_smooth_g_5, cv2.COLOR_GRAY2RGB)\n",
    "    cv2.imwrite('best_gaussian_cameraman.tif', img_smooth_g_5)"
   ],
   "outputs": [],
   "execution_count": 51
  },
  {
   "cell_type": "markdown",
   "metadata": {},
   "source": [
    "<h3 align=right style=\"line-height:200%;font-family:vazir;color:#0099cc\">\n",
    "<font face=\"vazir\" color=\"#0099cc\">\n",
    "مرحله پنجم: سلول جواب‌ساز\n",
    "</font>\n",
    "</h3>\n",
    "\n",
    "<p dir=rtl style=\"direction: rtl;text-align: right;line-height:200%;font-family:vazir;font-size:medium\">\n",
    "<font face=\"vazir\" size=3>\n",
    "بدون هیچگونه تغییری، این سلول را اجرا کنید تا فایل پاسخ شما آماده شود.\n",
    "</font>\n",
    "</p>"
   ]
  },
  {
   "cell_type": "code",
   "metadata": {
    "ExecuteTime": {
     "end_time": "2025-06-29T09:03:46.909921Z",
     "start_time": "2025-06-29T09:03:46.845443Z"
    }
   },
   "source": [
    "import zipfile\n",
    "\n",
    "def compress(file_names):\n",
    "    print(\"File Paths:\")\n",
    "    print(file_names)\n",
    "    # Select the compression mode ZIP_DEFLATED for compression\n",
    "    # or zipfile.ZIP_STORED to just store the file\n",
    "    compression = zipfile.ZIP_DEFLATED\n",
    "    # create the zip file first parameter path/name, second mode\n",
    "    with zipfile.ZipFile(\"result.zip\", mode=\"w\") as zf:\n",
    "        for file_name in file_names:\n",
    "            # Add file to the zip file\n",
    "            # first parameter file to zip, second filename in zip\n",
    "            zf.write('./' + file_name, file_name, compress_type=compression)\n",
    "\n",
    "\n",
    "file_names = [\"notebook.ipynb\", \"best_avg_characters_test_pattern.tif\", \"best_median_characters_test_pattern.tif\", \"best_gaussian_cameraman.tif\"]\n",
    "compress(file_names)"
   ],
   "outputs": [
    {
     "name": "stdout",
     "output_type": "stream",
     "text": [
      "File Paths:\n",
      "['notebook.ipynb', 'best_avg_characters_test_pattern.tif', 'best_median_characters_test_pattern.tif', 'best_gaussian_cameraman.tif']\n"
     ]
    }
   ],
   "execution_count": 52
  }
 ],
 "metadata": {
  "kernelspec": {
   "display_name": "Python 3 (ipykernel)",
   "language": "python",
   "name": "python3"
  },
  "language_info": {
   "codemirror_mode": {
    "name": "ipython",
    "version": 3
   },
   "file_extension": ".py",
   "mimetype": "text/x-python",
   "name": "python",
   "nbconvert_exporter": "python",
   "pygments_lexer": "ipython3",
   "version": "3.11.7"
  }
 },
 "nbformat": 4,
 "nbformat_minor": 4
}

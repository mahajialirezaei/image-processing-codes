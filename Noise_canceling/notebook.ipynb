{
 "cells": [
  {
   "cell_type": "markdown",
   "metadata": {
    "collapsed": false,
    "jupyter": {
     "outputs_hidden": false
    }
   },
   "source": [
    "<h1 align=center style=\"line-height:200%;font-family:vazir;color:#0099cc\">\n",
    "<font face=\"vazir\" color=\"#0099cc\">\n",
    "خداحافظی با نویز\n",
    "</font>\n",
    "</h1>"
   ]
  },
  {
   "cell_type": "markdown",
   "metadata": {
    "collapsed": false,
    "jupyter": {
     "outputs_hidden": false
    }
   },
   "source": [
    "<h2 align=right style=\"line-height:200%;font-family:vazir;color:#0099cc\">\n",
    "<font face=\"vazir\" color=\"#0099cc\">\n",
    "مقدمه\n",
    "</font>\n",
    "</h2>\n",
    "\n",
    "<p dir=rtl style=\"direction: rtl;text-align: right;line-height:200%;font-family:vazir;font-size:medium\">\n",
    "<font face=\"vazir\" size=3>\n",
    "در این تمرین قصد داریم تا با استفاده از فیلترهای میانگین گیری و میانه یک تصویر که حاوی نویز می باشد را هموار کنیم و تا حد امکان نویز آنرا حذف کنیم.\n",
    "</font>\n",
    "</p>"
   ]
  },
  {
   "cell_type": "code",
   "metadata": {
    "ExecuteTime": {
     "end_time": "2025-06-29T08:23:18.124175Z",
     "start_time": "2025-06-29T08:23:17.431466Z"
    }
   },
   "source": [
    "import cv2\n",
    "import numpy as np\n",
    "import matplotlib.pyplot as plt"
   ],
   "outputs": [],
   "execution_count": 2
  },
  {
   "cell_type": "markdown",
   "metadata": {
    "collapsed": false,
    "jupyter": {
     "outputs_hidden": false
    }
   },
   "source": [
    "<h2 align=right style=\"line-height:200%;font-family:vazir;color:#0099cc\">\n",
    "<font face=\"vazir\" color=\"#0099cc\">\n",
    "بخش اول: فیلتر میانگین و میانه\n",
    "</font>\n",
    "</h2>\n",
    "\n",
    "<p dir=rtl style=\"direction: rtl;text-align: right;line-height:200%;font-family:vazir;font-size:medium\">\n",
    "<font face=\"vazir\" size=3>\n",
    "در این بخش قصد داریم تا با استفاده از فیلتر میانگین و میانه هموارسازی را انجام دهیم و تاثیر پارامترهای هر فیلتر را بررسی کنیم.\n",
    "</font>\n",
    "</p>\n",
    "\n",
    "---\n",
    "\n",
    "\n",
    "<h3 align=right style=\"line-height:200%;font-family:vazir;color:#0099cc\">\n",
    "<font face=\"vazir\" color=\"#0099cc\">\n",
    "مرحله اول: وارد کردن عکس\n",
    "</font>\n",
    "</h3>\n",
    "\n",
    "<p dir=rtl style=\"direction: rtl;text-align: right;line-height:200%;font-family:vazir;font-size:medium\">\n",
    "<font face=\"vazir\" size=3>\n",
    "ابتدا تصویر زیر را که در پوشه Data قرار دارد به شکل خاکستری وارد کنید.\n",
    "    <br>\n",
    "    Characters Test Pattern.tif\n",
    "</font>\n",
    "</p>"
   ]
  },
  {
   "cell_type": "code",
   "metadata": {
    "collapsed": false,
    "jupyter": {
     "outputs_hidden": false
    },
    "ExecuteTime": {
     "end_time": "2025-06-29T08:23:18.142251Z",
     "start_time": "2025-06-29T08:23:18.132192Z"
    }
   },
   "source": "img = cv2.imread('Data/Characters Test Pattern.tif', cv2.IMREAD_GRAYSCALE)",
   "outputs": [],
   "execution_count": 3
  },
  {
   "cell_type": "markdown",
   "metadata": {
    "collapsed": false,
    "jupyter": {
     "outputs_hidden": false
    }
   },
   "source": [
    "<h3 align=right style=\"line-height:200%;font-family:vazir;color:#0099cc\">\n",
    "<font face=\"vazir\" color=\"#0099cc\">\n",
    "مرحله دوم: نویزی کردن تصویر\n",
    "</font>\n",
    "</h3>\n",
    "\n",
    "<p dir=rtl style=\"direction: rtl;text-align: right;line-height:200%;font-family:vazir;font-size:medium\">\n",
    "<font face=\"vazir\" size=3>\n",
    "در سلول زیر یک تابع نوشته شده است. اگر به این تابع یک تصویر را به عنوان ورودی بدهید، این تابع روی تصویر نویزی به نام <b>فلفل نمک</b> اعمال می‌کند.\n",
    "    <br>\n",
    "ورودی تابع یک تصویر خاکستری است و پارامتر دوم آن درصد نویز وارد شده به تصویر را نشان می‌دهد. \n",
    "    <br>\n",
    "این تابع را بر روی تصویر ورودی اعمال کنید. میزان نویز را 15 درصد در نظر بگیرید.\n",
    "</font>\n",
    "</p>"
   ]
  },
  {
   "cell_type": "code",
   "metadata": {
    "ExecuteTime": {
     "end_time": "2025-06-29T08:23:18.164323Z",
     "start_time": "2025-06-29T08:23:18.159321Z"
    }
   },
   "source": [
    "def add_salt_pepper_noise(image, percent):\n",
    "    noisy_image = image.copy()\n",
    "    noise_amount = (image.shape[0] * image.shape[1]) * (percent / 100)\n",
    "\n",
    "    for k in range(int(noise_amount)):\n",
    "        index = []\n",
    "        for x in range(1, 5):\n",
    "            index.append(np.random.randint(0, image.shape[0]))\n",
    "        noisy_image[index[0], index[1]], noisy_image[index[2], index[3]] = 0, 255\n",
    "\n",
    "    return noisy_image\n"
   ],
   "outputs": [],
   "execution_count": 4
  },
  {
   "cell_type": "markdown",
   "metadata": {
    "collapsed": false,
    "jupyter": {
     "outputs_hidden": false
    }
   },
   "source": [
    "<h3 align=right style=\"line-height:200%;font-family:vazir;color:#0099cc\">\n",
    "<font face=\"vazir\" color=\"#0099cc\">\n",
    "مرحله سوم: هموارسازی با استفاده از میانگین‌گیری\n",
    "</font>\n",
    "</h3>\n",
    "\n",
    "<p dir=rtl style=\"direction: rtl;text-align: right;line-height:200%;font-family:vazir;font-size:medium\">\n",
    "<font face=\"vazir\" size=3>\n",
    "حال با استفاده از فیلتر میانگین‌گیری با اندازه‌های کرنل داده شده، تصویر را هموارسازی کنید.\n",
    "</font>\n",
    "</p>\n",
    "\n",
    "$${kernel size} = (3, 3) $$\n",
    "$${kernel size} = (5, 5) $$\n",
    "$${kernel size} = (7, 7) $$\n",
    "\n",
    "<p dir=rtl style=\"direction: rtl;text-align: right;line-height:200%;font-family:vazir;font-size:medium\">\n",
    "خروجی فیلتری که بیشترین PSNR را دارد با نام زیر ذخیره کنید. توجه کنید که حتما تصویر را به شکل RGB ذخیره کنید.\n",
    "    <br>\n",
    "    best_avg_characters_test_pattern.tif\n",
    "</font>\n",
    "</p>"
   ]
  },
  {
   "cell_type": "code",
   "metadata": {
    "collapsed": false,
    "jupyter": {
     "outputs_hidden": false
    },
    "ExecuteTime": {
     "end_time": "2025-06-29T08:32:08.064821Z",
     "start_time": "2025-06-29T08:32:07.508247Z"
    }
   },
   "source": [
    "img_noisy = add_salt_pepper_noise(img, 15)\n",
    "img_smooth3 = cv2.blur(img_noisy, (3, 3))\n",
    "img_smooth5 = cv2.blur(img_noisy, (5, 5))\n",
    "img_smooth7 = cv2.blur(img_noisy, (7, 7))\n",
    "psnr3 = cv2.PSNR(img_noisy, img_smooth3)\n",
    "psnr5 = cv2.PSNR(img_noisy, img_smooth5)\n",
    "psnr7 = cv2.PSNR(img_noisy, img_smooth7)\n",
    "if psnr3 > psnr5 and psnr3 > psnr7:\n",
    "    img_smooth3 = cv2.cvtColor(img_smooth3, cv2.COLOR_GRAY2RGB)\n",
    "    cv2.imwrite('best_avg_characters_test_pattern.tif', img_smooth3)\n",
    "elif psnr5 > psnr7:\n",
    "    img_smooth5 = cv2.cvtColor(img_smooth5, cv2.COLOR_GRAY2RGB)\n",
    "    cv2.imwrite('best_avg_characters_test_pattern.tif', img_smooth5)\n",
    "else:\n",
    "    img_smooth7 = cv2.cvtColor(img_smooth7, cv2.COLOR_GRAY2RGB)\n",
    "    cv2.imwrite('best_avg_characters_test_pattern.tif', img_smooth7)"
   ],
   "outputs": [],
   "execution_count": 8
  },
  {
   "cell_type": "markdown",
   "metadata": {
    "ExecuteTime": {
     "end_time": "2025-02-08T17:35:53.941532100Z",
     "start_time": "2025-02-08T17:35:53.938027900Z"
    },
    "collapsed": false,
    "jupyter": {
     "outputs_hidden": false
    }
   },
   "source": [
    "<h3 align=right style=\"line-height:200%;font-family:vazir;color:#0099cc\">\n",
    "<font face=\"vazir\" color=\"#0099cc\">\n",
    "مرحله چهارم: هموارسازی با استفاده از فیلتر میانه\n",
    "</font>\n",
    "</h3>\n",
    "\n",
    "<p dir=rtl style=\"direction: rtl;text-align: right;line-height:200%;font-family:vazir;font-size:medium\">\n",
    "<font face=\"vazir\" size=3>\n",
    "حال با استفاده از فیلتر میانه به ابعاد زیر هموارسازی را انجام دهید.\n",
    "</font>\n",
    "</p>\n",
    "\n",
    "$${kernel size} = (3, 3) $$\n",
    "$${kernel size} = (5, 5) $$\n",
    "$${kernel size} = (7, 7) $$\n",
    "\n",
    "<p dir=rtl style=\"direction: rtl;text-align: right;line-height:200%;font-family:vazir;font-size:medium\">\n",
    "تصویر خروجی هر فیلتر را بررسی کنید. به ازای هر تصویر PSNR را نسبت به تصویر اولیه بدون نویز بدست آورید.\n",
    "    <br>\n",
    "    تصویری که بیشترین PSNR دارد را با نام فایل زیر ذخیره کنید.\n",
    "    <br>\n",
    "    best_median_characters_test_pattern.tif\n",
    "</font>\n",
    "</p>"
   ]
  },
  {
   "cell_type": "code",
   "metadata": {
    "ExecuteTime": {
     "end_time": "2025-06-29T08:23:18.191962Z",
     "start_time": "2025-06-29T08:23:18.189677Z"
    }
   },
   "source": [
    "img_smooth3_median = cv2.medianBlur(img_noisy, 3)\n",
    "img_smooth5_median = cv2.medianBlur(img_noisy, 5)\n",
    "img_smooth7_median = cv2.medianBlur(img_noisy, 7)\n",
    "psnr3 = cv2.PSNR(img_noisy, img_smooth3_median)\n",
    "psnr5 = cv2.PSNR(img_noisy, img_smooth5_median)\n",
    "psnr7 = cv2.PSNR(img_noisy, img_smooth7_median)\n",
    "if psnr3 > psnr5 and psnr3 > psnr7:\n",
    "    img_smooth3_median = cv2.cvtColor(img_smooth3_median, cv2.COLOR_GRAY2RGB)\n",
    "    cv2.imwrite('best_median_characters_test_pattern.tif', img_smooth3_median)\n",
    "elif psnr5 > psnr7:\n",
    "    img_smooth5_median = cv2.cvtColor(img_smooth5_median, cv2.COLOR_GRAY2RGB)\n",
    "    cv2.imwrite('best_median_characters_test_pattern.tif', img_smooth5_median)\n",
    "else:\n",
    "    img_smooth7_median = cv2.cvtColor(img_smooth7_median, cv2.COLOR_GRAY2RGB)\n",
    "    cv2.imwrite('best_median_characters_test_pattern.tif', img_smooth7_median)\n"
   ],
   "outputs": [],
   "execution_count": null
  },
  {
   "cell_type": "markdown",
   "metadata": {},
   "source": [
    "<h2 align=right style=\"line-height:200%;font-family:vazir;color:#0099cc\">\n",
    "<font face=\"vazir\" color=\"#0099cc\">\n",
    "بخش دوم: فیلتر گوسی\n",
    "</font>\n",
    "</h2>\n",
    "\n",
    "<p dir=rtl style=\"direction: rtl;text-align: right;line-height:200%;font-family:vazir;font-size:medium\">\n",
    "<font face=\"vazir\" size=3>\n",
    "در این بخش قصد داریم تا یک فیلتر گوسی را با پارامترهای مختلف بررسی کنیم و تاثیر آنها را مشاهده کنیم.\n",
    "</font>\n",
    "</p>\n",
    "\n",
    "---\n",
    "\n",
    "<h3 align=right style=\"line-height:200%;font-family:vazir;color:#0099cc\">\n",
    "<font face=\"vazir\" color=\"#0099cc\">\n",
    "مرحله اول: وارد کردن تصویر\n",
    "</font>\n",
    "</h3>\n",
    "\n",
    "<p dir=rtl style=\"direction: rtl;text-align: right;line-height:200%;font-family:vazir;font-size:medium\">\n",
    "<font face=\"vazir\" size=3>\n",
    "ابتدا تصویر زیر را که در پوشه Data قرار دارد به شکل خاکستری وارد کنید.\n",
    "    <br>\n",
    "    cameraman.tif\n",
    "</font>\n",
    "</p>"
   ]
  },
  {
   "cell_type": "code",
   "metadata": {
    "collapsed": false,
    "jupyter": {
     "outputs_hidden": false
    },
    "ExecuteTime": {
     "end_time": "2025-06-29T08:23:18.203499Z",
     "start_time": "2025-06-29T08:23:18.200482Z"
    }
   },
   "source": [],
   "outputs": [],
   "execution_count": null
  },
  {
   "cell_type": "markdown",
   "metadata": {
    "collapsed": false,
    "jupyter": {
     "outputs_hidden": false
    }
   },
   "source": [
    "<h3 align=right style=\"line-height:200%;font-family:vazir;color:#0099cc\">\n",
    "<font face=\"vazir\" color=\"#0099cc\">\n",
    "مرحله دوم: اعمال نویز گوسی\n",
    "</font>\n",
    "</h3>\n",
    "\n",
    "<p dir=rtl style=\"direction: rtl;text-align: right;line-height:200%;font-family:vazir;font-size:medium\">\n",
    "<font face=\"vazir\" size=3>\n",
    " از در این مرحله قصد داریم تا با استفاده از تابعی که در سلول زیر تعریف شده است، روی تصویر خود نویز گوسی را اعمال کنیم. این تابع تصویر شما به همراه میانگین و انحراف معیار دریافت می‌کند. خروجی این تابع تصویری است که حاوی نویز گوسی است. \n",
    "    <br>\n",
    "    تصویر ورودی را به این تابع بدهید. همچنین سایر پارامترهای انرا به شکل زیر مقداردهی کنید.\n",
    "</font>\n",
    "</p>\n",
    "\n",
    "\n",
    "$${mean} = 0 $$\n",
    "$${\\sigma} = 20 $$"
   ]
  },
  {
   "cell_type": "code",
   "metadata": {
    "collapsed": false,
    "jupyter": {
     "outputs_hidden": false
    },
    "ExecuteTime": {
     "end_time": "2025-06-29T08:23:18.229440Z",
     "start_time": "2025-06-29T08:23:18.225368Z"
    }
   },
   "source": [
    "def add_gaussian_noise(img, mean, sigma):\n",
    "    noise = np.random.normal(mean, sigma, img.shape).astype(np.int16)\n",
    "    noisy_img = img.astype(np.int16) + noise\n",
    "    noisy_img = np.clip(noisy_img, 0, 255).astype(np.uint8)\n",
    "    return noisy_img\n"
   ],
   "outputs": [],
   "execution_count": 5
  },
  {
   "cell_type": "markdown",
   "metadata": {
    "collapsed": false,
    "jupyter": {
     "outputs_hidden": false
    }
   },
   "source": [
    "<h3 align=right style=\"line-height:200%;font-family:vazir;color:#0099cc\">\n",
    "<font face=\"vazir\" color=\"#0099cc\">\n",
    "مرحله سوم: اعمال فیلتر گوسی\n",
    "</font>\n",
    "</h3>\n",
    "\n",
    "<p dir=rtl style=\"direction: rtl;text-align: right;line-height:200%;font-family:vazir;font-size:medium\">\n",
    "<font face=\"vazir\" size=3>\n",
    "حال در جهت کاهش نویز و افزایش کیفیت تصویر می‌خواهیم که از فیلتر گوسی جهت هموار سازی استفاده کنیم. این فیلتر دو پارامتر مهم دارد. سایز هسته و انحراف معیار. در این بخش هسته‌ها همگی 3x3 هستند.\n",
    "    <br>\n",
    "    اما این فیلتر را به ازای انحراف معیارهای متفاوت بررسی خواهیم کرد. فیلترهایی با انحراف معیار زیر بسازید و روی تصویر نویزی مرحله قبل اعمال کنید.\n",
    "</font>\n",
    "</p>\n",
    "\n",
    "$${\\sigma} = 0.5 $$\n",
    "$${\\sigma} = 1.5 $$\n",
    "$${\\sigma} = 3.0 $$\n",
    "$${\\sigma} = 5.0 $$"
   ]
  },
  {
   "cell_type": "code",
   "metadata": {
    "ExecuteTime": {
     "end_time": "2025-06-29T08:23:18.257603Z",
     "start_time": "2025-06-29T08:23:18.253499Z"
    }
   },
   "source": [],
   "outputs": [],
   "execution_count": null
  },
  {
   "cell_type": "markdown",
   "metadata": {
    "collapsed": false,
    "jupyter": {
     "outputs_hidden": false
    }
   },
   "source": [
    "<h3 align=right style=\"line-height:200%;font-family:vazir;color:#0099cc\">\n",
    "<font face=\"vazir\" color=\"#0099cc\">\n",
    "مرحله چهارم: ذخیره‌سازی\n",
    "</font>\n",
    "</h3>\n",
    "\n",
    "<p dir=rtl style=\"direction: rtl;text-align: right;line-height:200%;font-family:vazir;font-size:medium\">\n",
    "<font face=\"vazir\" size=3>\n",
    "ابتدا به ازای تصاویر خروجی فیلتر گوسی، PSNR هر کدام نسبت به تصویر اولیه بدون نویز را بدست آورید.\n",
    "    <br>\n",
    "    سپس تصویری که بیشترین PSNR دارد را ذخیره کنید. دقت کنید که تصویر را بصورت RGB ذخیره کنید.\n",
    "    <br>\n",
    "    best_gaussian_cameraman.tif\n",
    "</font>\n",
    "</p>"
   ]
  },
  {
   "cell_type": "code",
   "metadata": {
    "ExecuteTime": {
     "end_time": "2025-06-29T08:23:18.271613Z",
     "start_time": "2025-06-29T08:23:18.268612Z"
    }
   },
   "source": [],
   "outputs": [],
   "execution_count": null
  },
  {
   "cell_type": "markdown",
   "metadata": {},
   "source": [
    "<h3 align=right style=\"line-height:200%;font-family:vazir;color:#0099cc\">\n",
    "<font face=\"vazir\" color=\"#0099cc\">\n",
    "مرحله پنجم: سلول جواب‌ساز\n",
    "</font>\n",
    "</h3>\n",
    "\n",
    "<p dir=rtl style=\"direction: rtl;text-align: right;line-height:200%;font-family:vazir;font-size:medium\">\n",
    "<font face=\"vazir\" size=3>\n",
    "بدون هیچگونه تغییری، این سلول را اجرا کنید تا فایل پاسخ شما آماده شود.\n",
    "</font>\n",
    "</p>"
   ]
  },
  {
   "cell_type": "code",
   "metadata": {
    "ExecuteTime": {
     "end_time": "2025-06-29T08:23:18.459364Z",
     "start_time": "2025-06-29T08:23:18.292382Z"
    }
   },
   "source": [
    "import zipfile\n",
    "\n",
    "def compress(file_names):\n",
    "    print(\"File Paths:\")\n",
    "    print(file_names)\n",
    "    # Select the compression mode ZIP_DEFLATED for compression\n",
    "    # or zipfile.ZIP_STORED to just store the file\n",
    "    compression = zipfile.ZIP_DEFLATED\n",
    "    # create the zip file first parameter path/name, second mode\n",
    "    with zipfile.ZipFile(\"result.zip\", mode=\"w\") as zf:\n",
    "        for file_name in file_names:\n",
    "            # Add file to the zip file\n",
    "            # first parameter file to zip, second filename in zip\n",
    "            zf.write('./' + file_name, file_name, compress_type=compression)\n",
    "\n",
    "\n",
    "file_names = [\"notebook.ipynb\", \"best_avg_characters_test_pattern.tif\", \"best_median_characters_test_pattern.tif\", \"best_gaussian_cameraman.tif\"]\n",
    "compress(file_names)"
   ],
   "outputs": [
    {
     "name": "stdout",
     "output_type": "stream",
     "text": [
      "File Paths:\n",
      "['notebook.ipynb', 'best_avg_characters_test_pattern.tif', 'best_median_characters_test_pattern.tif', 'best_gaussian_cameraman.tif']\n"
     ]
    },
    {
     "ename": "FileNotFoundError",
     "evalue": "[WinError 2] The system cannot find the file specified: './best_avg_characters_test_pattern.tif'",
     "output_type": "error",
     "traceback": [
      "\u001B[31m---------------------------------------------------------------------------\u001B[39m",
      "\u001B[31mFileNotFoundError\u001B[39m                         Traceback (most recent call last)",
      "\u001B[36mCell\u001B[39m\u001B[36m \u001B[39m\u001B[32mIn[6]\u001B[39m\u001B[32m, line 18\u001B[39m\n\u001B[32m     14\u001B[39m             zf.write(\u001B[33m'\u001B[39m\u001B[33m./\u001B[39m\u001B[33m'\u001B[39m + file_name, file_name, compress_type=compression)\n\u001B[32m     17\u001B[39m file_names = [\u001B[33m\"\u001B[39m\u001B[33mnotebook.ipynb\u001B[39m\u001B[33m\"\u001B[39m, \u001B[33m\"\u001B[39m\u001B[33mbest_avg_characters_test_pattern.tif\u001B[39m\u001B[33m\"\u001B[39m, \u001B[33m\"\u001B[39m\u001B[33mbest_median_characters_test_pattern.tif\u001B[39m\u001B[33m\"\u001B[39m, \u001B[33m\"\u001B[39m\u001B[33mbest_gaussian_cameraman.tif\u001B[39m\u001B[33m\"\u001B[39m]\n\u001B[32m---> \u001B[39m\u001B[32m18\u001B[39m \u001B[43mcompress\u001B[49m\u001B[43m(\u001B[49m\u001B[43mfile_names\u001B[49m\u001B[43m)\u001B[49m\n",
      "\u001B[36mCell\u001B[39m\u001B[36m \u001B[39m\u001B[32mIn[6]\u001B[39m\u001B[32m, line 14\u001B[39m, in \u001B[36mcompress\u001B[39m\u001B[34m(file_names)\u001B[39m\n\u001B[32m     10\u001B[39m \u001B[38;5;28;01mwith\u001B[39;00m zipfile.ZipFile(\u001B[33m\"\u001B[39m\u001B[33mresult.zip\u001B[39m\u001B[33m\"\u001B[39m, mode=\u001B[33m\"\u001B[39m\u001B[33mw\u001B[39m\u001B[33m\"\u001B[39m) \u001B[38;5;28;01mas\u001B[39;00m zf:\n\u001B[32m     11\u001B[39m     \u001B[38;5;28;01mfor\u001B[39;00m file_name \u001B[38;5;129;01min\u001B[39;00m file_names:\n\u001B[32m     12\u001B[39m         \u001B[38;5;66;03m# Add file to the zip file\u001B[39;00m\n\u001B[32m     13\u001B[39m         \u001B[38;5;66;03m# first parameter file to zip, second filename in zip\u001B[39;00m\n\u001B[32m---> \u001B[39m\u001B[32m14\u001B[39m         \u001B[43mzf\u001B[49m\u001B[43m.\u001B[49m\u001B[43mwrite\u001B[49m\u001B[43m(\u001B[49m\u001B[33;43m'\u001B[39;49m\u001B[33;43m./\u001B[39;49m\u001B[33;43m'\u001B[39;49m\u001B[43m \u001B[49m\u001B[43m+\u001B[49m\u001B[43m \u001B[49m\u001B[43mfile_name\u001B[49m\u001B[43m,\u001B[49m\u001B[43m \u001B[49m\u001B[43mfile_name\u001B[49m\u001B[43m,\u001B[49m\u001B[43m \u001B[49m\u001B[43mcompress_type\u001B[49m\u001B[43m=\u001B[49m\u001B[43mcompression\u001B[49m\u001B[43m)\u001B[49m\n",
      "\u001B[36mFile \u001B[39m\u001B[32m~\\AppData\\Local\\Programs\\Python\\Python312\\Lib\\zipfile\\__init__.py:1846\u001B[39m, in \u001B[36mZipFile.write\u001B[39m\u001B[34m(self, filename, arcname, compress_type, compresslevel)\u001B[39m\n\u001B[32m   1841\u001B[39m \u001B[38;5;28;01mif\u001B[39;00m \u001B[38;5;28mself\u001B[39m._writing:\n\u001B[32m   1842\u001B[39m     \u001B[38;5;28;01mraise\u001B[39;00m \u001B[38;5;167;01mValueError\u001B[39;00m(\n\u001B[32m   1843\u001B[39m         \u001B[33m\"\u001B[39m\u001B[33mCan\u001B[39m\u001B[33m'\u001B[39m\u001B[33mt write to ZIP archive while an open writing handle exists\u001B[39m\u001B[33m\"\u001B[39m\n\u001B[32m   1844\u001B[39m     )\n\u001B[32m-> \u001B[39m\u001B[32m1846\u001B[39m zinfo = \u001B[43mZipInfo\u001B[49m\u001B[43m.\u001B[49m\u001B[43mfrom_file\u001B[49m\u001B[43m(\u001B[49m\u001B[43mfilename\u001B[49m\u001B[43m,\u001B[49m\u001B[43m \u001B[49m\u001B[43marcname\u001B[49m\u001B[43m,\u001B[49m\n\u001B[32m   1847\u001B[39m \u001B[43m                          \u001B[49m\u001B[43mstrict_timestamps\u001B[49m\u001B[43m=\u001B[49m\u001B[38;5;28;43mself\u001B[39;49m\u001B[43m.\u001B[49m\u001B[43m_strict_timestamps\u001B[49m\u001B[43m)\u001B[49m\n\u001B[32m   1849\u001B[39m \u001B[38;5;28;01mif\u001B[39;00m zinfo.is_dir():\n\u001B[32m   1850\u001B[39m     zinfo.compress_size = \u001B[32m0\u001B[39m\n",
      "\u001B[36mFile \u001B[39m\u001B[32m~\\AppData\\Local\\Programs\\Python\\Python312\\Lib\\zipfile\\__init__.py:557\u001B[39m, in \u001B[36mZipInfo.from_file\u001B[39m\u001B[34m(cls, filename, arcname, strict_timestamps)\u001B[39m\n\u001B[32m    555\u001B[39m \u001B[38;5;28;01mif\u001B[39;00m \u001B[38;5;28misinstance\u001B[39m(filename, os.PathLike):\n\u001B[32m    556\u001B[39m     filename = os.fspath(filename)\n\u001B[32m--> \u001B[39m\u001B[32m557\u001B[39m st = \u001B[43mos\u001B[49m\u001B[43m.\u001B[49m\u001B[43mstat\u001B[49m\u001B[43m(\u001B[49m\u001B[43mfilename\u001B[49m\u001B[43m)\u001B[49m\n\u001B[32m    558\u001B[39m isdir = stat.S_ISDIR(st.st_mode)\n\u001B[32m    559\u001B[39m mtime = time.localtime(st.st_mtime)\n",
      "\u001B[31mFileNotFoundError\u001B[39m: [WinError 2] The system cannot find the file specified: './best_avg_characters_test_pattern.tif'"
     ]
    }
   ],
   "execution_count": 6
  }
 ],
 "metadata": {
  "kernelspec": {
   "display_name": "Python 3 (ipykernel)",
   "language": "python",
   "name": "python3"
  },
  "language_info": {
   "codemirror_mode": {
    "name": "ipython",
    "version": 3
   },
   "file_extension": ".py",
   "mimetype": "text/x-python",
   "name": "python",
   "nbconvert_exporter": "python",
   "pygments_lexer": "ipython3",
   "version": "3.11.7"
  }
 },
 "nbformat": 4,
 "nbformat_minor": 4
}

{
 "cells": [
  {
   "cell_type": "markdown",
   "metadata": {
    "ExecuteTime": {
     "end_time": "2025-02-07T20:01:53.695427600Z",
     "start_time": "2025-02-07T20:01:53.692484800Z"
    },
    "collapsed": false,
    "jupyter": {
     "outputs_hidden": false
    }
   },
   "source": [
    "<h1 align=center style=\"line-height:200%;font-family:vazir;color:#0099cc\">\n",
    "<font face=\"vazir\" color=\"#0099cc\">\n",
    "بهتر ببینیم\n",
    "</font>\n",
    "</h1>"
   ]
  },
  {
   "cell_type": "markdown",
   "metadata": {
    "collapsed": false,
    "jupyter": {
     "outputs_hidden": false
    }
   },
   "source": [
    "<h2 align=right style=\"line-height:200%;font-family:vazir;color:#0099cc\">\n",
    "<font face=\"vazir\" color=\"#0099cc\">\n",
    "مقدمه\n",
    "</font>\n",
    "</h2>\n",
    "\n",
    "<p dir=rtl style=\"direction: rtl;text-align: right;line-height:200%;font-family:vazir;font-size:medium\">\n",
    "<font face=\"vazir\" size=3>\n",
    "در این تمرین با تصاویر ایکس ری و عکس از سطح شهر کار خواهیم کرد. این تصاویر بصورت خام و بدون هیچگونه پردازشی در اختیار شما قرار گرفته اند. هدف شما این است که با انجام پردازشهای مناسب، کیفیت این تصاویر را بهبود بخشید و آنها را برای تحلیلهای بعدی آماده کنید.\n",
    "</font>\n",
    "</p>"
   ]
  },
  {
   "cell_type": "code",
   "metadata": {
    "collapsed": false,
    "jupyter": {
     "outputs_hidden": false
    },
    "ExecuteTime": {
     "end_time": "2025-06-27T21:25:53.025776Z",
     "start_time": "2025-06-27T21:25:53.020349Z"
    }
   },
   "source": [
    "import cv2\n",
    "import numpy as np\n",
    "import matplotlib.pyplot as plt"
   ],
   "outputs": [],
   "execution_count": 22
  },
  {
   "cell_type": "markdown",
   "metadata": {
    "collapsed": false,
    "jupyter": {
     "outputs_hidden": false
    }
   },
   "source": [
    "<h2 align=right style=\"line-height:200%;font-family:vazir;color:#0099cc\">\n",
    "<font face=\"vazir\" color=\"#0099cc\">\n",
    "بخش اول: بهبود روشنایی\n",
    "</font>\n",
    "</h2>\n",
    "\n",
    "<p dir=rtl style=\"direction: rtl;text-align: right;line-height:200%;font-family:vazir;font-size:medium\">\n",
    "<font face=\"vazir\" size=3>\n",
    "در این بخش یکی از کاربردهای مهم پردازش تصویر را بررسی می‌کنیم: بهبود تصاویر پزشکی.\n",
    "به‌ویژه در تصویربرداری  ایکس‌ری، افزایش روشنایی و کنتراست می‌تواند به نمایش بهتر جزئیات کمک کند.\n",
    "در این تمرین، با استفاده از تکنیک‌های پردازش تصویر، روی یک تصویر اولیه پیش‌پردازش انجام می‌دهیم تا ویژگی‌های آن واضح‌تر شوند.\n",
    "</font>\n",
    "</p>\n"
   ]
  },
  {
   "cell_type": "markdown",
   "metadata": {
    "id": "alxov_Rdd7hh"
   },
   "source": [
    "<h3 align=right style=\"line-height:200%;font-family:vazir;color:#0099cc\">\n",
    "<font face=\"vazir\" color=\"#0099cc\">\n",
    "مرحله اول\n",
    "</font>\n",
    "</h3>\n",
    "\n",
    "<p dir=rtl style=\"direction: rtl;text-align: right;line-height:200%;font-family:vazir;font-size:medium\">\n",
    "<font face=\"vazir\" size=3>\n",
    "ابتدا تصویر را بارگزاری کنید. دقت کنید که حتما تصویر را به شکل خاکستری بارگزاری کنید.\n",
    "</font>\n",
    "</p>\n",
    "\n",
    "<p dir=rtl style=\"direction: rtl;text-align: right;line-height:200%;font-family:vazir;font-size:medium\">\n",
    "<font face=\"vazir\" size=3>\n",
    "    نام فایل: Fractured Spine.tif\n",
    "</font>\n",
    "</p>"
   ]
  },
  {
   "cell_type": "code",
   "metadata": {
    "colab": {
     "base_uri": "https://localhost:8080/",
     "height": 452
    },
    "executionInfo": {
     "elapsed": 1061,
     "status": "ok",
     "timestamp": 1738872176363,
     "user": {
      "displayName": "Pouria Sameti",
      "userId": "15269473597258588342"
     },
     "user_tz": -210
    },
    "id": "NSQ5LGZbbOkj",
    "outputId": "1ac360a6-4549-4473-f46d-84af01818fae",
    "ExecuteTime": {
     "end_time": "2025-06-27T21:25:53.067049Z",
     "start_time": "2025-06-27T21:25:53.060887Z"
    }
   },
   "source": "image = cv2.imread('Data/Fractured Spine.tif', cv2.IMREAD_GRAYSCALE)",
   "outputs": [],
   "execution_count": 23
  },
  {
   "cell_type": "markdown",
   "metadata": {
    "id": "FP5L-EWNedyK"
   },
   "source": [
    "<h2 align=right style=\"line-height:200%;font-family:vazir;color:#0099cc\">\n",
    "<font face=\"vazir\" color=\"#0099cc\">\n",
    "    مرحله دوم\n",
    "</font>\n",
    "</h2>\n",
    "\n",
    "<p dir=rtl style=\"direction: rtl;text-align: right;line-height:200%;font-family:vazir;font-size:medium\">\n",
    "<font face=\"vazir\" size=3>\n",
    "در این مرحله، قصد داریم روشنایی پیکسل‌هایی را که مقدار شدت روشنایی آن‌ها بین 10 تا 50 است، افزایش دهیم.\n",
    "هر پیکسلی که در این بازه قرار داشته باشد، 40 واحد روشن‌تر خواهد شد تا جزئیات تصویر بهتر دیده شوند.\n",
    "همچنین بیشترین شدت برابر 255 است. نباید هیچ پیکسلی در تصویر دارای روشنایی بیشتر از 255 باشد.\n",
    "</font>\n",
    "</p>\n"
   ]
  },
  {
   "cell_type": "code",
   "metadata": {
    "colab": {
     "base_uri": "https://localhost:8080/",
     "height": 452
    },
    "executionInfo": {
     "elapsed": 6442,
     "status": "ok",
     "timestamp": 1738872182800,
     "user": {
      "displayName": "Pouria Sameti",
      "userId": "15269473597258588342"
     },
     "user_tz": -210
    },
    "id": "Hz1x0-eLeaF0",
    "outputId": "21940b9f-e550-44c5-95b0-1c51b38a2e4f",
    "ExecuteTime": {
     "end_time": "2025-06-27T21:25:53.096224Z",
     "start_time": "2025-06-27T21:25:53.089212Z"
    }
   },
   "source": [
    "image[(image >= 10) & (image <= 50)] += 40\n",
    "image[image > 255] = 255"
   ],
   "outputs": [],
   "execution_count": 24
  },
  {
   "cell_type": "markdown",
   "metadata": {
    "id": "5H7GwDyDhayf"
   },
   "source": [
    "<h3 align=right style=\"line-height:200%;font-family:vazir;color:#0099cc\">\n",
    "<font face=\"vazir\" color=\"#0099cc\">\n",
    "مرحله سوم\n",
    "</font>\n",
    "</h3>\n",
    "\n",
    "<p dir=rtl style=\"direction: rtl;text-align: right;line-height:200%;font-family:vazir;font-size:medium\">\n",
    "<font face=\"vazir\" size=3>\n",
    "حال در این مرحله تصویر بهبود یافته را ذخیره کنید. دقت کنید که حتما تصویر را از حوزه خاکستری به حوزه RGB انتقال دهید و سپس تصویر را ذخیره کنید.\n",
    "تصویر را با نام زیر ذخیره کنید:\n",
    "<br>\n",
    "Enhanced_Fractured_Spine.tif\n",
    "</font>\n",
    "</p>"
   ]
  },
  {
   "cell_type": "code",
   "metadata": {
    "colab": {
     "base_uri": "https://localhost:8080/"
    },
    "executionInfo": {
     "elapsed": 12,
     "status": "ok",
     "timestamp": 1738872182800,
     "user": {
      "displayName": "Pouria Sameti",
      "userId": "15269473597258588342"
     },
     "user_tz": -210
    },
    "id": "vNm4il2HgvHi",
    "outputId": "c6575c35-b3c1-411c-d80e-f4200dfa79c0",
    "ExecuteTime": {
     "end_time": "2025-06-27T21:25:53.135065Z",
     "start_time": "2025-06-27T21:25:53.106132Z"
    }
   },
   "source": [
    "image = cv2.cvtColor(image, cv2.COLOR_GRAY2RGB)\n",
    "cv2.imwrite('Data/Enhanced_Fractured_Spine.tif', image)"
   ],
   "outputs": [
    {
     "data": {
      "text/plain": [
       "True"
      ]
     },
     "execution_count": 25,
     "metadata": {},
     "output_type": "execute_result"
    }
   ],
   "execution_count": 25
  },
  {
   "cell_type": "markdown",
   "metadata": {
    "id": "DMCShUaTiSYQ"
   },
   "source": [
    "<h2 align=right style=\"line-height:200%;font-family:vazir;color:#0099cc\">\n",
    "<font face=\"vazir\" color=\"#0099cc\">\n",
    "بخش دوم: تبدیل نمایی\n",
    "</font>\n",
    "</h2>\n",
    "\n",
    "<p dir=rtl style=\"direction: rtl;text-align: right;line-height:200%;font-family:vazir;font-size:medium\">\n",
    "<font face=\"vazir\" size=3>\n",
    "در این تمرین قصد داریم تا تبدیل نمایی را به دو شکل متفاوت بررسی کنیم. ما در این تمرین تبدیل نمایی را به شکل زیر مدل می‌کنیم.\n",
    "</font>\n",
    "</p>\n",
    "\n",
    "$$ I_{\\text{transformed}} = I^{\\gamma} $$\n",
    "\n",
    "<p dir=rtl style=\"direction: rtl;text-align: right;line-height:200%;font-family:vazir;font-size:medium\">\n",
    "<font face=\"vazir\" size=3>\n",
    "دقت کنید که در پیاده‌سازی خود شما نیز تبدیل نمایی را به شکل فرمول بالا حتما مدل کند. ما تبدیل نمایی را بر روی دو تصویر ایکس ری و تصویر سطح شهر بررسی خواهیم کرد.\n",
    "</font>\n",
    "</p>\n",
    "\n",
    "\n",
    "---\n",
    "\n",
    "<h3 align=right style=\"line-height:200%;font-family:vazir;color:#0099cc\">\n",
    "<font face=\"vazir\" color=\"#0099cc\">\n",
    "مرحله اول: خواندن تصویر سطح شهر\n",
    "</font>\n",
    "</h3>\n",
    "\n",
    "<p dir=rtl style=\"direction: rtl;text-align: right;line-height:200%;font-family:vazir;font-size:medium\">\n",
    "<font face=\"vazir\" size=3>\n",
    "در ابتدا تصویر سطح شهر را با شکل خاکستری بخوانید.\n",
    "    نام فایل: Aerial Image.tif\n",
    "</font>\n",
    "</p>"
   ]
  },
  {
   "cell_type": "code",
   "metadata": {
    "executionInfo": {
     "elapsed": 9,
     "status": "ok",
     "timestamp": 1738872182801,
     "user": {
      "displayName": "Pouria Sameti",
      "userId": "15269473597258588342"
     },
     "user_tz": -210
    },
    "id": "5Sfx8DwLiFKo",
    "ExecuteTime": {
     "end_time": "2025-06-27T21:26:55.327548Z",
     "start_time": "2025-06-27T21:26:55.319525Z"
    }
   },
   "source": "city_img = cv2.imread('Data/Aerial Image.tif', cv2.IMREAD_GRAYSCALE)",
   "outputs": [],
   "execution_count": 27
  },
  {
   "cell_type": "markdown",
   "metadata": {
    "id": "T0BsC0fDjvG2"
   },
   "source": [
    "<h3 align=right style=\"line-height:200%;font-family:vazir;color:#0099cc\">\n",
    "<font face=\"vazir\" color=\"#0099cc\">\n",
    "مرحله دوم: اعمال تبدیل نمایی\n",
    "</font>\n",
    "</h3>\n",
    "\n",
    "<p dir=rtl style=\"direction: rtl;text-align: right;line-height:200%;font-family:vazir;font-size:medium\">\n",
    "<font face=\"vazir\" size=3>\n",
    "در این بخش تبدیل نمایی را بر روی تمام پیکسل‌های تصویر باید اعمال کنیم. پارامترهای این تبدیل به شما داده خواهد شد.\n",
    "    <br>\n",
    "    قبل از اعمال تبدیل بر روی هر پیکسل، پیشنهاد می‌کنیم که ابتدا مقدار آن پیکسل را نرمال کنید. برای نرمال کردن هر پیکسل از فرمول زیر استفاده کنید:\n",
    "</font>\n",
    "</p>\n",
    "\n",
    "$$I_{\\text{norm}} = \\frac{I - I_{\\min}}{I_{\\max} - I_{\\min}}$$\n",
    "\n",
    "<p dir=rtl style=\"direction: rtl;text-align: right;line-height:200%;font-family:vazir;font-size:medium\">\n",
    "<font face=\"vazir\" size=3>\n",
    "        دقت کنید که پس این مرحله روشنایی تمام پیکسل‌ها در بازه $[0, 1]$ قرا خواهد گرفت.\n",
    "    ما این فرمول را روی تمام پیکسل‌های تصویر اعمال می‌کنیم. ازآنجا که کمترین شدن روشنایی  برابر 0 است و بیشترین شدت 255 است، فرمول نهایی نرمال‌سازی به شکل زیر است:\n",
    "    \n",
    "</font>\n",
    "</p>\n",
    "\n",
    "$$I_{\\text{norm}} = \\frac{I - 0}{255 - 0}$$\n",
    "\n",
    "\n",
    "<p dir=rtl style=\"direction: rtl;text-align: right;line-height:200%;font-family:vazir;font-size:medium\">\n",
    "<font face=\"vazir\" size=3>\n",
    "پس از اینکه هر پیکسل نرمال شد، باید تبدیل را روی آن اعمال کنیم. دقت کنید که پس از اعمال تبدیل، مقدار حاصل شده را در 255 باید ضرب کنید. این ضرب باعث میشود تا مقدار پیکسل‌ها دوباره به بازه [0, 255] بازگردد.\n",
    "</font>\n",
    "</p>\n",
    "\n",
    "<p dir=rtl style=\"direction: rtl;text-align: right;line-height:200%;font-family:vazir;font-size:medium\">\n",
    "<font face=\"vazir\" size=3>\n",
    "فرمول نهایی تبدیل به شرح زیر است:\n",
    "</font>\n",
    "</p>\n",
    "\n",
    "$$ I_{\\text{transformed}} = 255 * (I^{\\gamma}) $$\n",
    "\n",
    "<p dir=rtl style=\"direction: rtl;text-align: right;line-height:200%;font-family:vazir;font-size:medium\">\n",
    "<font face=\"vazir\" size=3>\n",
    "    در این بخش می‌خواهیم تبدیل نمایی را با ${\\gamma} > 1$ مشاهده کنیم.\n",
    "شما باید به ازای ${\\gamma}$ زیر نتابج این تبدیل را بررسی کنید.\n",
    "</font>\n",
    "</p>\n",
    "\n",
    "$${\\gamma} = 1 $$\n",
    "$${\\gamma} = 3 $$\n",
    "$${\\gamma} = 4 $$\n",
    "$${\\gamma} = 5 $$"
   ]
  },
  {
   "cell_type": "code",
   "metadata": {
    "executionInfo": {
     "elapsed": 1272,
     "status": "ok",
     "timestamp": 1738872184733,
     "user": {
      "displayName": "Pouria Sameti",
      "userId": "15269473597258588342"
     },
     "user_tz": -210
    },
    "id": "BuAN28U9mO2c",
    "ExecuteTime": {
     "end_time": "2025-06-27T21:25:53.269846Z",
     "start_time": "2025-06-27T21:25:53.266814Z"
    }
   },
   "source": [],
   "outputs": [],
   "execution_count": null
  },
  {
   "cell_type": "markdown",
   "metadata": {
    "id": "1oeenRvrqZeT"
   },
   "source": [
    "<h3 align=right style=\"line-height:200%;font-family:vazir;color:#0099cc\">\n",
    "<font face=\"vazir\" color=\"#0099cc\">\n",
    "مرحله سوم: ذخیره تصاویر بهبود یافته سطح شهر\n",
    "</font>\n",
    "</h3>\n",
    "\n",
    "<p dir=rtl style=\"direction: rtl;text-align: right;line-height:200%;font-family:vazir;font-size:medium\">\n",
    "<font face=\"vazir\" size=3>\n",
    "در این مرحله هر 4 تصویر را به ترتیب به نام‌های زیر در پوشه تمرین ذخیره کنید:\n",
    "<br>\n",
    "new_aerial_1.tif\n",
    "<br>\n",
    "new_aerial_3.tif\n",
    "<br>\n",
    "new_aerial_4.tif\n",
    "<br>\n",
    "new_aerial_5.tif\n",
    "</font>\n",
    "</p>\n",
    "\n",
    "<p dir=rtl style=\"direction: rtl;text-align: right;line-height:200%;font-family:vazir;font-size:medium\">\n",
    "<font face=\"vazir\" size=3>\n",
    "دقت کنید که حتما تصاویر را به حوزه RGB منتقل کنید و سپس آنها را ذخیره کنید.\n",
    "</font>\n",
    "</p>"
   ]
  },
  {
   "cell_type": "code",
   "metadata": {
    "executionInfo": {
     "elapsed": 5985,
     "status": "ok",
     "timestamp": 1738872190715,
     "user": {
      "displayName": "Pouria Sameti",
      "userId": "15269473597258588342"
     },
     "user_tz": -210
    },
    "id": "jP0WRBZhq_5A",
    "ExecuteTime": {
     "end_time": "2025-06-27T21:25:53.288059Z",
     "start_time": "2025-06-27T21:25:53.282875Z"
    }
   },
   "source": [],
   "outputs": [],
   "execution_count": null
  },
  {
   "cell_type": "markdown",
   "metadata": {},
   "source": [
    "<h3 align=right style=\"line-height:200%;font-family:vazir;color:#0099cc\">\n",
    "<font face=\"vazir\" color=\"#0099cc\">\n",
    "مرحله چهارم: تبدیل نمایی بر تصاویر ایکس‌ری\n",
    "</font>\n",
    "</h3>\n",
    "\n",
    "<p dir=rtl style=\"direction: rtl;text-align: right;line-height:200%;font-family:vazir;font-size:medium\">\n",
    "<font face=\"vazir\" size=3>\n",
    "    تمام مراحلی که در بخش قبل بر روی تصویر سطح شهر انجام دادیم، حال می‌خواهیم بر روی تصویر x-ray نیز انجام دهیم.\n",
    "</font>\n",
    "</p>\n",
    "\n",
    "<p dir=rtl style=\"direction: rtl;text-align: right;line-height:200%;font-family:vazir;font-size:medium\">\n",
    "<font face=\"vazir\" size=3>\n",
    "    تصویر Fractured Spine.tif را بصورت خاکستری وارد کنید.\n",
    "</font>\n",
    "</p>\n",
    "\n",
    "<p dir=rtl style=\"direction: rtl;text-align: right;line-height:200%;font-family:vazir;font-size:medium\">\n",
    "<font face=\"vazir\" size=3>\n",
    "در این بخش می‌خواهیم تبدیل نمایی را با ${\\gamma} < 1$ مشاهده کنیم.\n",
    "شما باید به ازای ${\\gamma}$ زیر نتابج این تبدیل را بررسی کنید.\n",
    "</font>\n",
    "</p>\n",
    "\n",
    "$${\\gamma} = 1 $$\n",
    "$${\\gamma} = 0.6 $$\n",
    "$${\\gamma} = 0.4 $$\n",
    "$${\\gamma} = 0.3 $$"
   ]
  },
  {
   "cell_type": "code",
   "metadata": {
    "ExecuteTime": {
     "end_time": "2025-06-27T21:25:53.300370Z",
     "start_time": "2025-06-27T21:25:53.296630Z"
    }
   },
   "source": [],
   "outputs": [],
   "execution_count": null
  },
  {
   "cell_type": "markdown",
   "metadata": {},
   "source": [
    "<h3 align=right style=\"line-height:200%;font-family:vazir;color:#0099cc\">\n",
    "<font face=\"vazir\" color=\"#0099cc\">\n",
    "مرحله پنجم: ذخیره تصاویر بهبود یافته ایکس ری\n",
    "</font>\n",
    "</h3>\n",
    "\n",
    "<p dir=rtl style=\"direction: rtl;text-align: right;line-height:200%;font-family:vazir;font-size:medium\">\n",
    "<font face=\"vazir\" size=3>\n",
    "در این مرحله هر 4 تصویر را به ترتیب به نام‌های زیر در پوشه تمرین ذخیره کنید:\n",
    "<br>\n",
    "Fractured_Spine_gamma_1.tif\n",
    "<br>\n",
    "Fractured_Spine_gamma_0.6.tif\n",
    "<br>\n",
    "Fractured_Spine_gamma_0.4.tif\n",
    "<br>\n",
    "Fractured_Spine_gamma_0.3.tif\n",
    "</font>\n",
    "</p>\n",
    "\n",
    "<p dir=rtl style=\"direction: rtl;text-align: right;line-height:200%;font-family:vazir;font-size:medium\">\n",
    "<font face=\"vazir\" size=3>\n",
    "دقت کنید که حتما تصاویر را به حوزه RGB منتقل کنید و سپس آنها را ذخیره کنید.\n",
    "</font>\n",
    "</p>"
   ]
  },
  {
   "cell_type": "code",
   "metadata": {
    "ExecuteTime": {
     "end_time": "2025-06-27T21:25:53.314319Z",
     "start_time": "2025-06-27T21:25:53.312262Z"
    }
   },
   "source": [],
   "outputs": [],
   "execution_count": null
  },
  {
   "cell_type": "markdown",
   "metadata": {},
   "source": [
    "<h3 align=right style=\"line-height:200%;font-family:vazir;color:#0099cc\">\n",
    "<font face=\"vazir\" color=\"#0099cc\">\n",
    "مرحله ششم: سلول جواب‌ساز\n",
    "</font>\n",
    "</h3>\n",
    "\n",
    "<p dir=rtl style=\"direction: rtl;text-align: right;line-height:200%;font-family:vazir;font-size:medium\">\n",
    "<font face=\"vazir\" size=3>\n",
    "بدون هیچگونه تغییری، این سلول را اجرا کنید تا فایل پاسخ شما آماده شود.\n",
    "</font>\n",
    "</p>"
   ]
  },
  {
   "cell_type": "code",
   "metadata": {
    "ExecuteTime": {
     "end_time": "2025-06-27T21:25:53.489913Z",
     "start_time": "2025-06-27T21:25:53.328388Z"
    }
   },
   "source": [
    "import zipfile\n",
    "\n",
    "def compress(file_names):\n",
    "    print(\"File Paths:\")\n",
    "    print(file_names)\n",
    "    # Select the compression mode ZIP_DEFLATED for compression\n",
    "    # or zipfile.ZIP_STORED to just store the file\n",
    "    compression = zipfile.ZIP_DEFLATED\n",
    "    # create the zip file first parameter path/name, second mode\n",
    "    with zipfile.ZipFile(\"result.zip\", mode=\"w\") as zf:\n",
    "        for file_name in file_names:\n",
    "            # Add file to the zip file\n",
    "            # first parameter file to zip, second filename in zip\n",
    "            zf.write('./' + file_name, file_name, compress_type=compression)\n",
    "\n",
    "\n",
    "file_names = [\"notebook.ipynb\", \"Enhanced_Fractured_Spine.tif\", \"Fractured_Spine_gamma_0.3.tif\", \"Fractured_Spine_gamma_0.4.tif\",\n",
    "              \"Fractured_Spine_gamma_0.6.tif\", \"Fractured_Spine_gamma_1.tif\", \"new_aerial_1.tif\",\n",
    "              \"new_aerial_3.tif\", \"new_aerial_4.tif\", \"new_aerial_5.tif\"]\n",
    "compress(file_names)"
   ],
   "outputs": [
    {
     "name": "stdout",
     "output_type": "stream",
     "text": [
      "File Paths:\n",
      "['notebook.ipynb', 'Enhanced_Fractured_Spine.tif', 'Fractured_Spine_gamma_0.3.tif', 'Fractured_Spine_gamma_0.4.tif', 'Fractured_Spine_gamma_0.6.tif', 'Fractured_Spine_gamma_1.tif', 'new_aerial_1.tif', 'new_aerial_3.tif', 'new_aerial_4.tif', 'new_aerial_5.tif']\n"
     ]
    },
    {
     "ename": "FileNotFoundError",
     "evalue": "[WinError 2] The system cannot find the file specified: './Enhanced_Fractured_Spine.tif'",
     "output_type": "error",
     "traceback": [
      "\u001B[31m---------------------------------------------------------------------------\u001B[39m",
      "\u001B[31mFileNotFoundError\u001B[39m                         Traceback (most recent call last)",
      "\u001B[36mCell\u001B[39m\u001B[36m \u001B[39m\u001B[32mIn[26]\u001B[39m\u001B[32m, line 20\u001B[39m\n\u001B[32m     14\u001B[39m             zf.write(\u001B[33m'\u001B[39m\u001B[33m./\u001B[39m\u001B[33m'\u001B[39m + file_name, file_name, compress_type=compression)\n\u001B[32m     17\u001B[39m file_names = [\u001B[33m\"\u001B[39m\u001B[33mnotebook.ipynb\u001B[39m\u001B[33m\"\u001B[39m, \u001B[33m\"\u001B[39m\u001B[33mEnhanced_Fractured_Spine.tif\u001B[39m\u001B[33m\"\u001B[39m, \u001B[33m\"\u001B[39m\u001B[33mFractured_Spine_gamma_0.3.tif\u001B[39m\u001B[33m\"\u001B[39m, \u001B[33m\"\u001B[39m\u001B[33mFractured_Spine_gamma_0.4.tif\u001B[39m\u001B[33m\"\u001B[39m,\n\u001B[32m     18\u001B[39m               \u001B[33m\"\u001B[39m\u001B[33mFractured_Spine_gamma_0.6.tif\u001B[39m\u001B[33m\"\u001B[39m, \u001B[33m\"\u001B[39m\u001B[33mFractured_Spine_gamma_1.tif\u001B[39m\u001B[33m\"\u001B[39m, \u001B[33m\"\u001B[39m\u001B[33mnew_aerial_1.tif\u001B[39m\u001B[33m\"\u001B[39m,\n\u001B[32m     19\u001B[39m               \u001B[33m\"\u001B[39m\u001B[33mnew_aerial_3.tif\u001B[39m\u001B[33m\"\u001B[39m, \u001B[33m\"\u001B[39m\u001B[33mnew_aerial_4.tif\u001B[39m\u001B[33m\"\u001B[39m, \u001B[33m\"\u001B[39m\u001B[33mnew_aerial_5.tif\u001B[39m\u001B[33m\"\u001B[39m]\n\u001B[32m---> \u001B[39m\u001B[32m20\u001B[39m \u001B[43mcompress\u001B[49m\u001B[43m(\u001B[49m\u001B[43mfile_names\u001B[49m\u001B[43m)\u001B[49m\n",
      "\u001B[36mCell\u001B[39m\u001B[36m \u001B[39m\u001B[32mIn[26]\u001B[39m\u001B[32m, line 14\u001B[39m, in \u001B[36mcompress\u001B[39m\u001B[34m(file_names)\u001B[39m\n\u001B[32m     10\u001B[39m \u001B[38;5;28;01mwith\u001B[39;00m zipfile.ZipFile(\u001B[33m\"\u001B[39m\u001B[33mresult.zip\u001B[39m\u001B[33m\"\u001B[39m, mode=\u001B[33m\"\u001B[39m\u001B[33mw\u001B[39m\u001B[33m\"\u001B[39m) \u001B[38;5;28;01mas\u001B[39;00m zf:\n\u001B[32m     11\u001B[39m     \u001B[38;5;28;01mfor\u001B[39;00m file_name \u001B[38;5;129;01min\u001B[39;00m file_names:\n\u001B[32m     12\u001B[39m         \u001B[38;5;66;03m# Add file to the zip file\u001B[39;00m\n\u001B[32m     13\u001B[39m         \u001B[38;5;66;03m# first parameter file to zip, second filename in zip\u001B[39;00m\n\u001B[32m---> \u001B[39m\u001B[32m14\u001B[39m         \u001B[43mzf\u001B[49m\u001B[43m.\u001B[49m\u001B[43mwrite\u001B[49m\u001B[43m(\u001B[49m\u001B[33;43m'\u001B[39;49m\u001B[33;43m./\u001B[39;49m\u001B[33;43m'\u001B[39;49m\u001B[43m \u001B[49m\u001B[43m+\u001B[49m\u001B[43m \u001B[49m\u001B[43mfile_name\u001B[49m\u001B[43m,\u001B[49m\u001B[43m \u001B[49m\u001B[43mfile_name\u001B[49m\u001B[43m,\u001B[49m\u001B[43m \u001B[49m\u001B[43mcompress_type\u001B[49m\u001B[43m=\u001B[49m\u001B[43mcompression\u001B[49m\u001B[43m)\u001B[49m\n",
      "\u001B[36mFile \u001B[39m\u001B[32m~\\AppData\\Local\\Programs\\Python\\Python312\\Lib\\zipfile\\__init__.py:1846\u001B[39m, in \u001B[36mZipFile.write\u001B[39m\u001B[34m(self, filename, arcname, compress_type, compresslevel)\u001B[39m\n\u001B[32m   1841\u001B[39m \u001B[38;5;28;01mif\u001B[39;00m \u001B[38;5;28mself\u001B[39m._writing:\n\u001B[32m   1842\u001B[39m     \u001B[38;5;28;01mraise\u001B[39;00m \u001B[38;5;167;01mValueError\u001B[39;00m(\n\u001B[32m   1843\u001B[39m         \u001B[33m\"\u001B[39m\u001B[33mCan\u001B[39m\u001B[33m'\u001B[39m\u001B[33mt write to ZIP archive while an open writing handle exists\u001B[39m\u001B[33m\"\u001B[39m\n\u001B[32m   1844\u001B[39m     )\n\u001B[32m-> \u001B[39m\u001B[32m1846\u001B[39m zinfo = \u001B[43mZipInfo\u001B[49m\u001B[43m.\u001B[49m\u001B[43mfrom_file\u001B[49m\u001B[43m(\u001B[49m\u001B[43mfilename\u001B[49m\u001B[43m,\u001B[49m\u001B[43m \u001B[49m\u001B[43marcname\u001B[49m\u001B[43m,\u001B[49m\n\u001B[32m   1847\u001B[39m \u001B[43m                          \u001B[49m\u001B[43mstrict_timestamps\u001B[49m\u001B[43m=\u001B[49m\u001B[38;5;28;43mself\u001B[39;49m\u001B[43m.\u001B[49m\u001B[43m_strict_timestamps\u001B[49m\u001B[43m)\u001B[49m\n\u001B[32m   1849\u001B[39m \u001B[38;5;28;01mif\u001B[39;00m zinfo.is_dir():\n\u001B[32m   1850\u001B[39m     zinfo.compress_size = \u001B[32m0\u001B[39m\n",
      "\u001B[36mFile \u001B[39m\u001B[32m~\\AppData\\Local\\Programs\\Python\\Python312\\Lib\\zipfile\\__init__.py:557\u001B[39m, in \u001B[36mZipInfo.from_file\u001B[39m\u001B[34m(cls, filename, arcname, strict_timestamps)\u001B[39m\n\u001B[32m    555\u001B[39m \u001B[38;5;28;01mif\u001B[39;00m \u001B[38;5;28misinstance\u001B[39m(filename, os.PathLike):\n\u001B[32m    556\u001B[39m     filename = os.fspath(filename)\n\u001B[32m--> \u001B[39m\u001B[32m557\u001B[39m st = \u001B[43mos\u001B[49m\u001B[43m.\u001B[49m\u001B[43mstat\u001B[49m\u001B[43m(\u001B[49m\u001B[43mfilename\u001B[49m\u001B[43m)\u001B[49m\n\u001B[32m    558\u001B[39m isdir = stat.S_ISDIR(st.st_mode)\n\u001B[32m    559\u001B[39m mtime = time.localtime(st.st_mtime)\n",
      "\u001B[31mFileNotFoundError\u001B[39m: [WinError 2] The system cannot find the file specified: './Enhanced_Fractured_Spine.tif'"
     ]
    }
   ],
   "execution_count": 26
  }
 ],
 "metadata": {
  "colab": {
   "authorship_tag": "ABX9TyMeRagjQXfGtCU/R1Zf4ENg",
   "mount_file_id": "1gglXpL9V3YkpwHq55WI3zw84B53ahXSS",
   "provenance": []
  },
  "kernelspec": {
   "display_name": "Python 3 (ipykernel)",
   "language": "python",
   "name": "python3"
  },
  "language_info": {
   "codemirror_mode": {
    "name": "ipython",
    "version": 3
   },
   "file_extension": ".py",
   "mimetype": "text/x-python",
   "name": "python",
   "nbconvert_exporter": "python",
   "pygments_lexer": "ipython3",
   "version": "3.11.7"
  }
 },
 "nbformat": 4,
 "nbformat_minor": 4
}

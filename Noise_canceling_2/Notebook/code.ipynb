{
 "cells": [
  {
   "cell_type": "markdown",
   "metadata": {},
   "source": [
    "<h1 align=center style=\"line-height:200%;font-family:vazir;color:#0099cc\">\n",
    "<font face=\"vazir\" color=\"#0099cc\">\n",
    "نویز داریم؟\n",
    "</font>\n",
    "</h1>"
   ]
  },
  {
   "cell_type": "markdown",
   "metadata": {},
   "source": [
    "<p dir=rtl style=\"direction: rtl;text-align: justify;line-height:200%;font-family:vazir;font-size:medium\">\n",
    "<font face=\"vazir\" size=3>\n",
    "در این تمرین قرار است کمی بیشتر و بصورت عملی با نویز در تصویر کار کنیم. لطفا کدها را بدرستی تکمیل کنید تا در نهایت امتیاز بالا از تمرین دریافت کنید.\n",
    "</font>\n",
    "</p>"
   ]
  },
  {
   "cell_type": "markdown",
   "metadata": {},
   "source": [
    "---\n",
    "\n",
    "<h2 align=right style=\"line-height:200%;font-family:vazir;color:#0099cc\">\n",
    "<font face=\"vazir\" color=\"#0099cc\">\n",
    "وارد کردن کتابخانه‌های مورد نیاز\n",
    "</font>\n",
    "</h2>\n",
    "\n",
    "<p dir=rtl style=\"direction: rtl;text-align: justify;line-height:200%;font-family:vazir;font-size:medium\">\n",
    "<font face=\"vazir\" size=3>\n",
    "در این بخش کتابخانه‌های مورد نیاز برای انجام تمرین را وارد می‌کنیم.\n",
    "</font>\n",
    "</p>"
   ]
  },
  {
   "cell_type": "code",
   "metadata": {
    "ExecuteTime": {
     "end_time": "2025-07-01T22:59:55.383983Z",
     "start_time": "2025-07-01T22:59:46.192093Z"
    }
   },
   "source": [
    "import cv2\n",
    "import numpy as np\n",
    "import matplotlib.pyplot as plt\n",
    "from scipy.stats import kurtosis, skew"
   ],
   "outputs": [],
   "execution_count": 1
  },
  {
   "cell_type": "markdown",
   "metadata": {},
   "source": [
    "<h2 align=right style=\"line-height:200%;font-family:vazir;color:#0099cc\">\n",
    "<font face=\"vazir\" color=\"#0099cc\">\n",
    "بارگذاری تصویر\n",
    "</font>\n",
    "</h2>\n",
    "<p dir=rtl style=\"direction: rtl;text-align: justify;line-height:200%;font-family:vazir;font-size:medium\">\n",
    "<font face=\"vazir\" size=3>\n",
    "لطفا تصویری که در ابتدا در اختیار شما قرار گرفته است را بصورت سطح خاکستری بارگذاری کرده و سپس به کمک <code>matplotlib</code> آن را رسم کنید.\n",
    "</font>\n",
    "</p>"
   ]
  },
  {
   "cell_type": "code",
   "execution_count": null,
   "metadata": {},
   "outputs": [],
   "source": [
    "# Read the image\n",
    "img = cv2.imread('../Data/lena.jpg')\n",
    "\n",
    "# Show the image\n",
    "...\n",
    "plt.axis('off')\n",
    "plt.show()"
   ]
  },
  {
   "cell_type": "markdown",
   "metadata": {},
   "source": [
    "<h2 align=right style=\"line-height:200%;font-family:vazir;color:#0099cc\">\n",
    "<font face=\"vazir\" color=\"#0099cc\">\n",
    "رسم هیستوگرام تصویر\n",
    "</font>\n",
    "</h2>\n",
    "<p dir=rtl style=\"direction: rtl;text-align: justify;line-height:200%;font-family:vazir;font-size:medium\">\n",
    "<font face=\"vazir\" size=3>\n",
    "با اجرای سلول زیر، هیستوگرام تصویر اولیه رسم میشود. هدف نگاه و مقایسه هیستوگرام یک تصویر بدون نویز با تصویر نویز داری است که در ادامه معرفی میشود.\n",
    "</font>\n",
    "</p>\n"
   ]
  },
  {
   "cell_type": "code",
   "execution_count": null,
   "metadata": {},
   "outputs": [],
   "source": [
    "plt.figure(figsize=(8, 6))\n",
    "plt.hist(img.flatten(), bins=50, range=[0, 255], color='gray', edgecolor='black')\n",
    "plt.xlabel('Pixel Intensity')\n",
    "plt.ylabel('Frequency Count')\n",
    "plt.grid(True)\n",
    "plt.show()"
   ]
  },
  {
   "cell_type": "markdown",
   "metadata": {},
   "source": [
    "<h2 align=right style=\"line-height:200%;font-family:vazir;color:#0099cc\">\n",
    "<font face=\"vazir\" color=\"#0099cc\">\n",
    "افزودن نویز گوسی\n",
    "</font>\n",
    "</h2>\n",
    "<p dir=rtl style=\"direction: rtl;text-align: justify;line-height:200%;font-family:vazir;font-size:medium\">\n",
    "<font face=\"vazir\" size=3>\n",
    "حال در سلول زیر، تابع را تکمیل کنید. این تابع باید تصویری را در ورودی بگیرد و نویز گوسی روی تصویر ایجاد کند. پس از نوشتن تابع در سلول بعد از آن تصویر نویز دار به همراه هیستوگرام تصویر نویز گوسی را رسم کنید.\n",
    "</font>\n",
    "</p>\n"
   ]
  },
  {
   "cell_type": "code",
   "execution_count": null,
   "metadata": {},
   "outputs": [],
   "source": [
    "def add_gaussian_noise(image, mean=5, std=20):\n",
    "    # create the noise\n",
    "    noise = None\n",
    "    # add the created noise to image\n",
    "    noisy_image = None\n",
    "    return np.clip(noisy_image, 0, 255).astype(np.uint8)"
   ]
  },
  {
   "cell_type": "code",
   "execution_count": null,
   "metadata": {},
   "outputs": [],
   "source": [
    "gaussian_noisy = add_gaussian_noise(img)\n",
    "\n",
    "cv2.imwrite('gausi.png',gaussian_noisy)\n",
    "plt.imshow(gaussian_noisy,cmap='gray')\n",
    "plt.axis('off')\n",
    "plt.show()\n",
    "\n",
    "# plot the hist of gausian image\n",
    "...\n",
    "plt.show()"
   ]
  },
  {
   "cell_type": "markdown",
   "metadata": {},
   "source": [
    "<p dir=rtl style=\"direction: rtl;text-align: justify;line-height:200%;font-family:vazir;font-size:medium\">\n",
    "<font face=\"vazir\" size=3>\n",
    "مشاهده میشود هیستوگرام (نمودار توزیع شدت پیکسل‌ها) به شکل یک زنگوله (توزیع نرمال) می باشد که یعنی احتمالاً نویز گاوسی است. یعنی بیشتر پیکسل‌ها در میانگین شدت (مثلاً 128 برای تصویر خاکستری) متمرکز هستند، و پیکسل‌های خیلی تیره (نزدیک 0) یا خیلی روشن (نزدیک 255) کم هستند.\n",
    "</font>\n",
    "</p>\n"
   ]
  },
  {
   "cell_type": "markdown",
   "metadata": {},
   "source": [
    "<h2 align=right style=\"line-height:200%;font-family:vazir;color:#0099cc\">\n",
    "<font face=\"vazir\" color=\"#0099cc\">\n",
    "افزودن نویز فلفل نمک\n",
    "</font>\n",
    "</h2>\n",
    "<p dir=rtl style=\"direction: rtl;text-align: justify;line-height:200%;font-family:vazir;font-size:medium\">\n",
    "<font face=\"vazir\" size=3>\n",
    "حال تابع زیر را تکمیل کنید. این تابع روی تصویر اصلی یک نویز فلفل نمک ایجاد میکند. در ادامه هیستوگرام و تصویر جدید را رسم کرده و از لحاظ ظاهری با تصاویر و هیستوگرام های قبل مقایسه کنید.\n",
    "</font>\n",
    "</p>\n"
   ]
  },
  {
   "cell_type": "code",
   "execution_count": null,
   "metadata": {},
   "outputs": [],
   "source": [
    "def add_salt_and_pepper_noise(image, amount=0.15):\n",
    "\n",
    "\n",
    "    return noisy_image"
   ]
  },
  {
   "cell_type": "code",
   "execution_count": null,
   "metadata": {},
   "outputs": [],
   "source": [
    "salt_pepper = add_salt_and_pepper_noise(img)\n",
    "\n",
    "plt.imshow(salt_pepper,cmap='gray')\n",
    "cv2.imwrite('saltpep.png',salt_pepper)\n",
    "plt.axis('off')\n",
    "plt.show()\n",
    "\n",
    "# plot the hist of gausian image\n",
    "...\n",
    "plt.show()"
   ]
  },
  {
   "cell_type": "markdown",
   "metadata": {},
   "source": [
    "<p dir=rtl style=\"direction: rtl;text-align: justify;line-height:200%;font-family:vazir;font-size:medium\">\n",
    "<font face=\"vazir\" size=3>\n",
    "تصویر هیستوگرام پیک‌های تیز و مشخصی در 0 (سیاه) و 255 (سفید) دارد پس احتمالاً نویز نمک‌فلفل است. بقیه پیکسل‌ها معمولاً در شدت‌های میانی (مثلاً 128) هستند.\n",
    "</font>\n",
    "</p>\n"
   ]
  },
  {
   "cell_type": "markdown",
   "metadata": {},
   "source": [
    "<p dir=rtl style=\"direction: rtl;text-align: justify;line-height:200%;font-family:vazir;font-size:medium\">\n",
    "<font face=\"vazir\" size=3>\n",
    "تشخیص دیگر نویزهای معرفی شده به کمک مولفه های آماری کار چندان ساده ای نیست و الگوریتم ثابت ندارد و ممکن است برای تصاویر گوناگون به پاسخ های متفاوت برسیم برای مثال اگر هیستوگرام تصویر دارای نویز اسپکل را رسم کنیم احتمالا با نویز فلفل نمک اشتباه گرفته خواهد شد. قابل تشخیص و تمیز هستند اما برای همه تصاویر نمیشود الگوریتم تقریبا ثابت معرفی کرد.\n",
    "</font>\n",
    "</p>\n"
   ]
  },
  {
   "cell_type": "markdown",
   "metadata": {},
   "source": [
    "<h2 align=right style=\"line-height:200%;font-family:vazir;color:#0099cc\">\n",
    "<font face=\"vazir\" color=\"#0099cc\">\n",
    "الگوریتم تشخیص نویز\n",
    "</font>\n",
    "</h2>\n",
    "<p dir=rtl style=\"direction: rtl;text-align: justify;line-height:200%;font-family:vazir;font-size:medium\">\n",
    "<font face=\"vazir\" size=3>\n",
    "در ادامه سعی خواهیم کرد که به کمک ویژگی های اماری تابعی بنویسیم که تصویر نویز دار دریافت کرده و تشخیص دهد آیا نویز تصویر گوسی است یا فلفل نمک. این کار هنگامی که با مجموعه داده بزرگی از تصاویر طرف هستیم خیلی کمک کننده خواهد بود و در پیش پردازش تصاویر برای مثلا آموزش شبکه عصبی کار را راحت خواهد کرد.\n",
    "</font>\n",
    "</p>\n"
   ]
  },
  {
   "cell_type": "code",
   "execution_count": null,
   "metadata": {},
   "outputs": [],
   "source": [
    "def detect_gaussian_salt_pepper_noise(image):\n",
    "    \n",
    "    # ابتدا انحراف معیار کل تصویر را محاسبه کنید. اگر مقدار انحراف معیار از 20 کمتر بود احتمالا تصویر نویز ندارد\n",
    "    ...\n",
    "    ...\n",
    "    ...\n",
    "    return \"No Noise\"\n",
    "\n",
    "    # بررسی نویز نمک‌فلفل: پیکسل‌های شدید (0 یا 255)\n",
    "    # برای بررسی نویز فلفل نمک باید تمام پیکسل های تصویر را محاسبه کرد یعنی چند پیکسل دارد تصویر\n",
    "    total_pixels = None\n",
    "    # حال مجموع تعداد پیکسل های با مقادیر 0 یا 255 را با هم محاسبه و جمع میکنیم. یعنی مجموعا چند پیکسل داریم که مقادیر شدت روشنایی انها 0 یا 255 هستند\n",
    "    extreme_pixels = None\n",
    "\n",
    "    # نسبت پیکسل های مقادیر 0 یا 255 به کل پیکسل های تصویر اگر بیشتر از 0.005 باشد احتمالا تصویر نویز فلفل و نمک دارد.\n",
    "    return \"Salt-and-Pepper\"\n",
    "\n",
    "    # به عنوان تمرین، چگونگی اینکه تصویر نویز گوسی دارد یا خیر را الگوریتمش را شما بنویسید\n",
    "    return \"Gaussian\"\n",
    "\n",
    "\n",
    "    # اگر هیچ‌کدام مشخص نشد، فرض می‌کنیم نویز ندارد (برای سادگی)\n",
    "    return \"No Noise\""
   ]
  },
  {
   "cell_type": "markdown",
   "metadata": {},
   "source": [
    "<h2 align=right style=\"line-height:200%;font-family:vazir;color:#0099cc\">\n",
    "<font face=\"vazirmatn\" color=\"#0099cc\">\n",
    "<b>سلول جواب‌ساز</b>\n",
    "</font>\n",
    "</h2>\n",
    "\n",
    "\n",
    "<p dir=rtl style=\"direction: rtl; text-align: justify; line-height:200%; font-family:vazir; font-size:medium\">\n",
    "<font face=\"vazirmatn\" size=3>\n",
    "    برای ساخته‌شدن فایل <code>result.zip</code> سلول زیر را اجرا کنید. توجه داشته باشید که پیش از اجرای سلول زیر تغییرات اعمال شده در نت‌بوک را ذخیره کرده باشید (<code>ctrl+s</code>) تا در صورت نیاز به پشتیبانی امکان بررسی کد شما وجود داشته باشد.\n",
    "</font>\n",
    "</p>"
   ]
  },
  {
   "cell_type": "code",
   "execution_count": null,
   "metadata": {},
   "outputs": [],
   "source": [
    "import zipfile\n",
    "from inspect import getsource\n",
    "\n",
    "def compress(file_names):\n",
    "    print(\"File Paths:\")\n",
    "    print(file_names)\n",
    "    compression = zipfile.ZIP_DEFLATED\n",
    "    with zipfile.ZipFile(\"result.zip\", mode=\"w\") as zf:\n",
    "        for file_name in file_names:\n",
    "            zf.write('./' + file_name, file_name, compress_type=compression)\n",
    "\n",
    "imp = \"\"\"import cv2\n",
    "import numpy as np\n",
    "from scipy.stats import kurtosis, skew\n",
    "\"\"\"\n",
    "%save detect_gaussian_salt_pepper_noise imp + getsource(detect_gaussian_salt_pepper_noise)\n",
    "\n",
    "\n",
    "file_names = [\"detect_gaussian_salt_pepper_noise.py\", \"code.ipynb\"]\n",
    "compress(file_names)"
   ]
  }
 ],
 "metadata": {
  "kernelspec": {
   "display_name": "Python 3",
   "language": "python",
   "name": "python3"
  },
  "language_info": {
   "codemirror_mode": {
    "name": "ipython",
    "version": 3
   },
   "file_extension": ".py",
   "mimetype": "text/x-python",
   "name": "python",
   "nbconvert_exporter": "python",
   "pygments_lexer": "ipython3",
   "version": "3.11.8"
  }
 },
 "nbformat": 4,
 "nbformat_minor": 2
}

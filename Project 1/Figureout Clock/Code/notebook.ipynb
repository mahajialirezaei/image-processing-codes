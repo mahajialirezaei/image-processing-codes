{
 "cells": [
  {
   "cell_type": "markdown",
   "metadata": {},
   "source": [
    "<h1 align=center style=\"line-height:200%;font-family:vazir;color:#0099cc\">\n",
    "<font face=\"vazir\" color=\"#0099cc\">\n",
    "ساعت یابی\n",
    "</font>\n",
    "</h1>"
   ]
  },
  {
   "cell_type": "markdown",
   "metadata": {},
   "source": [
    "---\n",
    "\n",
    "<h2 align=right style=\"line-height:200%;font-family:vazir;color:#0099cc\">\n",
    "<font face=\"vazir\" color=\"#0099cc\">\n",
    "وارد کردن کتابخانه‌های مورد نیاز\n",
    "</font>\n",
    "</h2>\n",
    "\n",
    "<p dir=rtl style=\"direction: rtl;text-align: justify;line-height:200%;font-family:vazir;font-size:medium\">\n",
    "<font face=\"vazir\" size=3>\n",
    "در این بخش کتابخانه‌های مورد نیاز برای انجام پروژه را وارد می‌کنیم.\n",
    "</font>\n",
    "</p>"
   ]
  },
  {
   "cell_type": "code",
   "metadata": {
    "ExecuteTime": {
     "end_time": "2025-07-07T22:29:18.319242Z",
     "start_time": "2025-07-07T22:29:18.313960Z"
    }
   },
   "source": [
    "import cv2\n",
    "import numpy as np"
   ],
   "outputs": [],
   "execution_count": 34
  },
  {
   "cell_type": "markdown",
   "metadata": {},
   "source": [
    "<h2 align=right style=\"line-height:200%;font-family:vazir;color:#0099cc\">\n",
    "<font face=\"vazir\" color=\"#0099cc\">\n",
    "بارگذاری تصاویر\n",
    "</font>\n",
    "</h2>\n",
    "<p dir=rtl style=\"direction: rtl;text-align: justify;line-height:200%;font-family:vazir;font-size:medium\">\n",
    "<font face=\"vazir\" size=3>\n",
    "تصاویری که در به عنوان نمونه در اختیار شما قرار گرفته است را در سلول زیر بارگذاری کنید. و سپس به کمک <code>matplotlib</code> نمایش دهید.\n",
    "</font>\n",
    "</p>"
   ]
  },
  {
   "cell_type": "code",
   "metadata": {
    "ExecuteTime": {
     "end_time": "2025-07-07T22:29:18.336120Z",
     "start_time": "2025-07-07T22:29:18.322191Z"
    }
   },
   "source": [
    "clk1 = cv2.imread('../Data/clock1.png')\n",
    "clk2 = cv2.imread('../Data/clock2.png')\n",
    "clk3 = cv2.imread('../Data/clock3.png')\n",
    "clk4 = cv2.imread('../Data/clock4.png')\n"
   ],
   "outputs": [],
   "execution_count": 35
  },
  {
   "cell_type": "markdown",
   "metadata": {},
   "source": [
    "<h2 align=right style=\"line-height:200%;font-family:vazir;color:#0099cc\">\n",
    "<font face=\"vazir\" color=\"#0099cc\">\n",
    "سیاه و سفید سازی تصویر\n",
    "</font>\n",
    "</h2>\n",
    "<p dir=rtl style=\"direction: rtl;text-align: justify;line-height:200%;font-family:vazir;font-size:medium\">\n",
    "<font face=\"vazir\" size=3>\n",
    "با استفاده از تابعی که در تمرین پیش نوشتید،  در مرحله تصاویر را به شکل ساعت های نرمال درآورید.\n",
    "</font>\n",
    "</p>"
   ]
  },
  {
   "cell_type": "code",
   "metadata": {
    "ExecuteTime": {
     "end_time": "2025-07-07T22:29:18.352024Z",
     "start_time": "2025-07-07T22:29:18.345585Z"
    }
   },
   "source": [
    "def black_white_convertor(image):\n",
    "    x = image[0, 0]\n",
    "    mask = np.all(image == x, axis=-1)\n",
    "\n",
    "    final_image = np.zeros_like(image)\n",
    "    final_image[mask] = [255, 255, 255]\n",
    "\n",
    "    final_image_gray = cv2.cvtColor(final_image, cv2.COLOR_BGR2GRAY)\n",
    "    final_image = final_image_gray\n",
    "    return final_image\n"
   ],
   "outputs": [],
   "execution_count": 36
  },
  {
   "cell_type": "markdown",
   "metadata": {},
   "source": [
    "<h2 align=right style=\"line-height:200%;font-family:vazir;color:#0099cc\">\n",
    "<font face=\"vazir\" color=\"#0099cc\">\n",
    "پیدا کردن ساعت\n",
    "</font>\n",
    "</h2>\n",
    "<p dir=rtl style=\"direction: rtl;text-align: justify;line-height:200%;font-family:vazir;font-size:medium\">\n",
    "<font face=\"vazir\" size=3>\n",
    "به کمک تبدیل هاف سعی کنید پارامتر های متد را طوری تنظیم کنید تا در نهایت یک دایره که دایره اصلی است پیدا شود. در نهایت دایره را با رنگ سبز روی تصویر سیاه و سفید شده رسم کنید.\n",
    "</font>\n",
    "</p>"
   ]
  },
  {
   "cell_type": "code",
   "metadata": {
    "ExecuteTime": {
     "end_time": "2025-07-07T22:29:18.447264Z",
     "start_time": "2025-07-07T22:29:18.418896Z"
    }
   },
   "source": [
    "gray = black_white_convertor(clk1)\n",
    "gray_blur = cv2.GaussianBlur(gray, (9,9), 2)\n",
    "\n",
    "edges = cv2.Canny(gray_blur, threshold1=50, threshold2=150)\n",
    "\n",
    "h, w = gray.shape\n",
    "minR = int(min(h,w)*0.4)\n",
    "maxR = int(min(h,w)*0.5)\n",
    "\n",
    "circles = cv2.HoughCircles(\n",
    "    image=gray_blur,\n",
    "    method=cv2.HOUGH_GRADIENT,\n",
    "    dp=1.0,\n",
    "    minDist=100,\n",
    "    param1=200,\n",
    "    param2=60,\n",
    "    minRadius=minR,\n",
    "    maxRadius=maxR\n",
    ")\n",
    "\n",
    "circles = np.uint16(np.around(circles[0]))\n",
    "cx, cy, radius = max(circles, key=lambda x: x[2])\n",
    "print(cx, cy, radius)\n",
    "img3channel = cv2.cvtColor(gray, cv2.COLOR_GRAY2BGR)\n",
    "cv2.circle(img3channel, (cx, cy), radius, (0,255,0), 2)\n",
    "\n"
   ],
   "outputs": [
    {
     "name": "stdout",
     "output_type": "stream",
     "text": [
      "250 250 242\n"
     ]
    },
    {
     "data": {
      "text/plain": [
       "array([[[255, 255, 255],\n",
       "        [255, 255, 255],\n",
       "        [255, 255, 255],\n",
       "        ...,\n",
       "        [255, 255, 255],\n",
       "        [255, 255, 255],\n",
       "        [255, 255, 255]],\n",
       "\n",
       "       [[255, 255, 255],\n",
       "        [255, 255, 255],\n",
       "        [255, 255, 255],\n",
       "        ...,\n",
       "        [255, 255, 255],\n",
       "        [255, 255, 255],\n",
       "        [255, 255, 255]],\n",
       "\n",
       "       [[255, 255, 255],\n",
       "        [255, 255, 255],\n",
       "        [255, 255, 255],\n",
       "        ...,\n",
       "        [255, 255, 255],\n",
       "        [255, 255, 255],\n",
       "        [255, 255, 255]],\n",
       "\n",
       "       ...,\n",
       "\n",
       "       [[255, 255, 255],\n",
       "        [255, 255, 255],\n",
       "        [255, 255, 255],\n",
       "        ...,\n",
       "        [255, 255, 255],\n",
       "        [255, 255, 255],\n",
       "        [255, 255, 255]],\n",
       "\n",
       "       [[255, 255, 255],\n",
       "        [255, 255, 255],\n",
       "        [255, 255, 255],\n",
       "        ...,\n",
       "        [255, 255, 255],\n",
       "        [255, 255, 255],\n",
       "        [255, 255, 255]],\n",
       "\n",
       "       [[255, 255, 255],\n",
       "        [255, 255, 255],\n",
       "        [255, 255, 255],\n",
       "        ...,\n",
       "        [255, 255, 255],\n",
       "        [255, 255, 255],\n",
       "        [255, 255, 255]]], shape=(500, 500, 3), dtype=uint8)"
      ]
     },
     "execution_count": 37,
     "metadata": {},
     "output_type": "execute_result"
    }
   ],
   "execution_count": 37
  },
  {
   "cell_type": "markdown",
   "metadata": {},
   "source": [
    "}<h2 align=right style=\"line-height:200%;font-family:vazir;color:#0099cc\">\n",
    "<font face=\"vazir\" color=\"#0099cc\">\n",
    "پیدا کردن عقربه ها\n",
    "</font>\n",
    "</h2>\n",
    "<p dir=rtl style=\"direction: rtl;text-align: justify;line-height:200%;font-family:vazir;font-size:medium\">\n",
    "<font face=\"vazir\" size=3>\n",
    "دوباره با تبدیل هاف در سلول زیر سعی کنید خطوط (عقربه ها) را پیدا کنید. احتمالا پس از تنظیم پارامترها، چندین خط پیدا شود اما باید پس از پیدا شدن خطوط، عملیات پس پردازش را طوری تنظیم کنید که دو خط بزرگتر و کوچکتر پیدا شود که همان عقربه ساعت شمار و دقیقه شمار است. برای مثال از خطوطی که زاویه صفر دارند باید صرف نظر شود و...\n",
    "</font>\n",
    "</p>"
   ]
  },
  {
   "cell_type": "markdown",
   "metadata": {},
   "source": [
    "<div dir=rtl style=\"direction: rtl;text-align: justify;line-height:200%;font-family:vazir;font-size:medium\">\n",
    "\n",
    "بعد از اجرای متد پیدا کردن خطوط به کمک تبدیل هاف، ما یه لیست از خطوط داریم (`lines`)\n",
    "می‌خوایم خطوطی رو پیدا کنیم که:  \n",
    "- به مرکز ساعت نزدیک باشن (احتمالاً عقربه‌ها هستن).  \n",
    "- طول مناسبی داشته باشن (خیلی کوتاه نباشن).  \n",
    "- موازی هم نباشن (چون ساعت و دقیقه زاویه متفاوتی دارن).  \n",
    "در نهایت، از بین خطوط معتبر، دو خط رو انتخاب کنیم: یکی بلندتر (دقیقه) و یکی کوتاه‌تر (ساعت).  \n",
    "\n",
    "\n",
    "پیدا کردن پارامتر های مناسب برای متد و عملیات پس پردازش خوب برای پیدا کردن عقربه ها، چالش سلول پایین است.\n",
    "\n",
    "منطق کلی valid_lines\n",
    "-  فیلتر اولیه: خطوطی که نزدیک مرکز نیستن یا خیلی کوتاهن حذف می‌شن. \n",
    "-  حذف موازی‌ها: خطوطی که زاویه‌شون شبیه هم باشه، فقط بلندترینشون نگه داشته می‌شه.\n",
    "-  انتخاب نهایی: از خطوط باقی‌مونده، دو خط با طول‌های متفاوت انتخاب می‌شن (بلندتر برای دقیقه، کوتاه‌تر برای ساعت).\n",
    "</div>"
   ]
  },
  {
   "cell_type": "code",
   "metadata": {
    "ExecuteTime": {
     "end_time": "2025-07-07T22:29:18.484295Z",
     "start_time": "2025-07-07T22:29:18.471221Z"
    }
   },
   "source": [
    "image = clk1.copy()\n",
    "edges = cv2.Canny(image, 50, 150)\n",
    "\n",
    "lines = cv2.HoughLinesP(\n",
    "    edges,\n",
    "    rho=1,\n",
    "    theta=np.pi/180,\n",
    "    threshold=50,\n",
    "    minLineLength=int(radius*0.3),\n",
    "    maxLineGap=20\n",
    ")\n",
    "\n",
    "def line_length(l):\n",
    "    x1,y1,x2,y2 = l\n",
    "    return np.hypot(x2-x1, y2-y1)\n",
    "\n",
    "valid = []\n",
    "for l in lines[:,0]:\n",
    "    x1,y1,x2,y2 = l\n",
    "    if (np.hypot(x1-cx, y1-cy) < radius*0.2) or (np.hypot(x2-cx, y2-cy) < radius*0.2):\n",
    "        valid.append(l)\n",
    "\n",
    "\n",
    "\n",
    "def valid_lines_cr(ls_lines):\n",
    "    sorted(valid, key=line_length, reverse=True)\n",
    "    line_minute = ls_lines[0]\n",
    "    line_hour = ls_lines[1]\n",
    "    if line_minute[0] / line_minute[1] - line_hour[0] / line_hour[1] < 0.1:\n",
    "        ls_lines.remove(line_minute)\n",
    "        return valid_lines_cr(ls_lines)\n",
    "    return line_minute, line_hour\n",
    "\n",
    "line_minute, line_hour = valid_lines_cr(valid)\n",
    "\n",
    "\n",
    "out = clk1.copy()\n",
    "cv2.line(img3channel, (line_minute[0],line_minute[1]), (line_minute[2],line_minute[3]), (0,255,0), 3)\n",
    "cv2.line(img3channel, (line_hour[0],line_hour[1]),     (line_hour[2],line_hour[3]),     (255,0,0), 3)\n",
    "\n"
   ],
   "outputs": [
    {
     "data": {
      "text/plain": [
       "array([[[255, 255, 255],\n",
       "        [255, 255, 255],\n",
       "        [255, 255, 255],\n",
       "        ...,\n",
       "        [255, 255, 255],\n",
       "        [255, 255, 255],\n",
       "        [255, 255, 255]],\n",
       "\n",
       "       [[255, 255, 255],\n",
       "        [255, 255, 255],\n",
       "        [255, 255, 255],\n",
       "        ...,\n",
       "        [255, 255, 255],\n",
       "        [255, 255, 255],\n",
       "        [255, 255, 255]],\n",
       "\n",
       "       [[255, 255, 255],\n",
       "        [255, 255, 255],\n",
       "        [255, 255, 255],\n",
       "        ...,\n",
       "        [255, 255, 255],\n",
       "        [255, 255, 255],\n",
       "        [255, 255, 255]],\n",
       "\n",
       "       ...,\n",
       "\n",
       "       [[255, 255, 255],\n",
       "        [255, 255, 255],\n",
       "        [255, 255, 255],\n",
       "        ...,\n",
       "        [255, 255, 255],\n",
       "        [255, 255, 255],\n",
       "        [255, 255, 255]],\n",
       "\n",
       "       [[255, 255, 255],\n",
       "        [255, 255, 255],\n",
       "        [255, 255, 255],\n",
       "        ...,\n",
       "        [255, 255, 255],\n",
       "        [255, 255, 255],\n",
       "        [255, 255, 255]],\n",
       "\n",
       "       [[255, 255, 255],\n",
       "        [255, 255, 255],\n",
       "        [255, 255, 255],\n",
       "        ...,\n",
       "        [255, 255, 255],\n",
       "        [255, 255, 255],\n",
       "        [255, 255, 255]]], shape=(500, 500, 3), dtype=uint8)"
      ]
     },
     "execution_count": 38,
     "metadata": {},
     "output_type": "execute_result"
    }
   ],
   "execution_count": 38
  },
  {
   "cell_type": "markdown",
   "metadata": {},
   "source": [
    "<h2 align=right style=\"line-height:200%;font-family:vazir;color:#0099cc\">\n",
    "<font face=\"vazir\" color=\"#0099cc\">\n",
    "نوشتن تابع نهایی\n",
    "</font>\n",
    "</h2>\n",
    "<p dir=rtl style=\"direction: rtl;text-align: justify;line-height:200%;font-family:vazir;font-size:medium\">\n",
    "<font face=\"vazir\" size=3>\n",
    "در نهایت تابعی بنویسید که تصویر سیاه و سفید شده را دریافت کند و پس از پیدا کردن خطوط و دایره، خطوط و دایره را روی تصویر دریافتی رسم کند و تصویر نهایی را return کند.\n",
    "<br>\n",
    "در واقع در سلول های قبل کد ها نوشته شده و در این سلول باید کدهای اضافه حذف شوند و و بخش های اصلی الگوریتم نگهداری شوند.\n",
    "</font>\n",
    "</p>"
   ]
  },
  {
   "cell_type": "code",
   "metadata": {
    "ExecuteTime": {
     "end_time": "2025-07-07T22:29:18.503115Z",
     "start_time": "2025-07-07T22:29:18.493252Z"
    }
   },
   "source": [
    "def detect_clock(binary_image):\n",
    "    from black_white_convertor import black_white_convertor\n",
    "    gray = black_white_convertor(binary_image)\n",
    "    gray_blur = cv2.GaussianBlur(gray, (9,9), 2)\n",
    "\n",
    "    edges = cv2.Canny(gray_blur, threshold1=50, threshold2=150)\n",
    "\n",
    "    h, w = gray.shape\n",
    "    minR = int(min(h,w)*0.4)\n",
    "    maxR = int(min(h,w)*0.5)\n",
    "\n",
    "    circles = cv2.HoughCircles(\n",
    "        image=gray_blur,\n",
    "        method=cv2.HOUGH_GRADIENT,\n",
    "        dp=1.0,\n",
    "        minDist=100,\n",
    "        param1=200,\n",
    "        param2=60,\n",
    "        minRadius=minR,\n",
    "        maxRadius=maxR\n",
    "    )\n",
    "\n",
    "    circles = np.uint16(np.around(circles[0]))\n",
    "    cx, cy, radius = max(circles, key=lambda x: x[2])\n",
    "    print(cx, cy, radius)\n",
    "    img3channel = cv2.cvtColor(gray, cv2.COLOR_GRAY2BGR)\n",
    "    cv2.circle(img3channel, (cx, cy), radius, (0,255,0), 2)\n",
    "\n",
    "\n",
    "    lines = cv2.HoughLinesP(\n",
    "        edges,\n",
    "        rho=1,\n",
    "        theta=np.pi/180,\n",
    "        threshold=50,\n",
    "        minLineLength=int(radius*0.3),\n",
    "        maxLineGap=20\n",
    "    )\n",
    "\n",
    "    def line_length(l):\n",
    "        x1,y1,x2,y2 = l\n",
    "        return np.hypot(x2-x1, y2-y1)\n",
    "\n",
    "    valid = []\n",
    "    for l in lines[:,0]:\n",
    "        x1,y1,x2,y2 = l\n",
    "        if (np.hypot(x1-cx, y1-cy) < radius*0.2) or (np.hypot(x2-cx, y2-cy) < radius*0.2):\n",
    "            valid.append(l)\n",
    "\n",
    "\n",
    "\n",
    "    def valid_lines_cr(ls_lines):\n",
    "        sorted(valid, key=line_length, reverse=True)\n",
    "        line_minute = ls_lines[0]\n",
    "        line_hour = ls_lines[1]\n",
    "        if line_minute[0] / line_minute[1] - line_hour[0] / line_hour[1] < 0.1:\n",
    "            ls_lines.remove(line_minute)\n",
    "            return valid_lines_cr(ls_lines)\n",
    "        return line_minute, line_hour\n",
    "\n",
    "    line_minute, line_hour = valid_lines_cr(valid)\n",
    "\n",
    "    cv2.line(img3channel, (line_minute[0],line_minute[1]), (line_minute[2],line_minute[3]), (0,255,0), 3)\n",
    "    cv2.line(img3channel, (line_hour[0],line_hour[1]),     (line_hour[2],line_hour[3]),     (255,0,0), 3)\n",
    "\n",
    "    return img3channel"
   ],
   "outputs": [],
   "execution_count": 39
  },
  {
   "cell_type": "markdown",
   "metadata": {},
   "source": [
    "<div dir=\"rtl\">\n",
    "<h2 align=right style=\"line-height:200%;font-family:vazir;color:#0099cc\">\n",
    "<font face=\"vazir\" color=\"#0099cc\">\n",
    "<b>سلول جواب‌ساز</b>\n",
    "</font>\n",
    "</h2>\n",
    "</div>\n",
    "<p dir=rtl style=\"direction: rtl; text-align: justify; line-height:200%; font-family:vazir; font-size:medium\">\n",
    "<font face=\"vazir\" size=3>\n",
    "    برای ساخته‌شدن فایل <code>result.zip</code> سلول زیر را اجرا کنید. توجه داشته باشید که پیش از اجرای سلول زیر تغییرات اعمال شده در نت‌بوک را ذخیره کرده باشید (<code>ctrl+s</code>) تا در صورت نیاز به پشتیبانی امکان بررسی کد شما وجود داشته باشد. توجه کنید برای کسب نمره کامل از این تمرین باید هر دو تابع خواسته شده را به درستی بنویسید.\n",
    "</font>\n",
    "</p>"
   ]
  },
  {
   "cell_type": "code",
   "metadata": {
    "ExecuteTime": {
     "end_time": "2025-07-07T22:29:21.269795Z",
     "start_time": "2025-07-07T22:29:18.533038Z"
    }
   },
   "source": [
    "import zipfile\n",
    "from inspect import getsource\n",
    "\n",
    "\n",
    "def compress(file_names):\n",
    "    print(\"File Paths:\")\n",
    "    print(file_names)\n",
    "    compression = zipfile.ZIP_DEFLATED\n",
    "    with zipfile.ZipFile(\"result.zip\", mode=\"w\") as zf:\n",
    "        for file_name in file_names:\n",
    "            zf.write('./' + file_name, file_name, compress_type=compression)\n",
    "\n",
    "imp = \"\"\"\n",
    "import cv2\n",
    "import numpy as np\n",
    "\"\"\"\n",
    "\n",
    "%save black_white_convertor imp + getsource(black_white_convertor)\n",
    "%save detect_clock imp + getsource(detect_clock)\n",
    "\n",
    "file_names = [\"black_white_convertor.py\",\"detect_clock.py\", \"notebook.ipynb\"]\n",
    "compress(file_names)"
   ],
   "outputs": [
    {
     "name": "stdout",
     "output_type": "stream",
     "text": [
      "The following commands were written to file `black_white_convertor.py`:\n",
      "\n",
      "import cv2\n",
      "import numpy as np\n",
      "def black_white_convertor(image):\n",
      "    x = image[0, 0]\n",
      "    mask = np.all(image == x, axis=-1)\n",
      "\n",
      "    final_image = np.zeros_like(image)\n",
      "    final_image[mask] = [255, 255, 255]\n",
      "\n",
      "    final_image_gray = cv2.cvtColor(final_image, cv2.COLOR_BGR2GRAY)\n",
      "    final_image = final_image_gray\n",
      "    return final_image\n",
      "\n",
      "The following commands were written to file `detect_clock.py`:\n",
      "\n",
      "import cv2\n",
      "import numpy as np\n",
      "def detect_clock(binary_image):\n",
      "    from black_white_convertor import black_white_convertor\n",
      "    gray = black_white_convertor(binary_image)\n",
      "    gray_blur = cv2.GaussianBlur(gray, (9,9), 2)\n",
      "\n",
      "    edges = cv2.Canny(gray_blur, threshold1=50, threshold2=150)\n",
      "\n",
      "    h, w = gray.shape\n",
      "    minR = int(min(h,w)*0.4)\n",
      "    maxR = int(min(h,w)*0.5)\n",
      "\n",
      "    circles = cv2.HoughCircles(\n",
      "        image=gray_blur,\n",
      "        method=cv2.HOUGH_GRADIENT,\n",
      "        dp=1.0,\n",
      "        minDist=100,\n",
      "        param1=200,\n",
      "        param2=60,\n",
      "        minRadius=minR,\n",
      "        maxRadius=maxR\n",
      "    )\n",
      "\n",
      "    circles = np.uint16(np.around(circles[0]))\n",
      "    cx, cy, radius = max(circles, key=lambda x: x[2])\n",
      "    print(cx, cy, radius)\n",
      "    img3channel = cv2.cvtColor(gray, cv2.COLOR_GRAY2BGR)\n",
      "    cv2.circle(img3channel, (cx, cy), radius, (0,255,0), 2)\n",
      "\n",
      "\n",
      "    lines = cv2.HoughLinesP(\n",
      "        edges,\n",
      "        rho=1,\n",
      "        theta=np.pi/180,\n",
      "        threshold=50,\n",
      "        minLineLength=int(radius*0.3),\n",
      "        maxLineGap=20\n",
      "    )\n",
      "\n",
      "    def line_length(l):\n",
      "        x1,y1,x2,y2 = l\n",
      "        return np.hypot(x2-x1, y2-y1)\n",
      "\n",
      "    valid = []\n",
      "    for l in lines[:,0]:\n",
      "        x1,y1,x2,y2 = l\n",
      "        if (np.hypot(x1-cx, y1-cy) < radius*0.2) or (np.hypot(x2-cx, y2-cy) < radius*0.2):\n",
      "            valid.append(l)\n",
      "\n",
      "\n",
      "\n",
      "    def valid_lines_cr(ls_lines):\n",
      "        sorted(valid, key=line_length, reverse=True)\n",
      "        line_minute = ls_lines[0]\n",
      "        line_hour = ls_lines[1]\n",
      "        if line_minute[0] / line_minute[1] - line_hour[0] / line_hour[1] < 0.1:\n",
      "            ls_lines.remove(line_minute)\n",
      "            return valid_lines_cr(ls_lines)\n",
      "        return line_minute, line_hour\n",
      "\n",
      "    line_minute, line_hour = valid_lines_cr(valid)\n",
      "\n",
      "    cv2.line(img3channel, (line_minute[0],line_minute[1]), (line_minute[2],line_minute[3]), (0,255,0), 3)\n",
      "    cv2.line(img3channel, (line_hour[0],line_hour[1]),     (line_hour[2],line_hour[3]),     (255,0,0), 3)\n",
      "\n",
      "    return img3channel\n",
      "\n",
      "File Paths:\n",
      "['black_white_convertor.py', 'detect_clock.py', 'notebook.ipynb']\n"
     ]
    }
   ],
   "execution_count": 40
  },
  {
   "metadata": {
    "ExecuteTime": {
     "end_time": "2025-07-07T22:29:21.292234Z",
     "start_time": "2025-07-07T22:29:21.289143Z"
    }
   },
   "cell_type": "code",
   "source": "",
   "outputs": [],
   "execution_count": null
  }
 ],
 "metadata": {
  "kernelspec": {
   "display_name": "Python 3",
   "language": "python",
   "name": "python3"
  },
  "language_info": {
   "codemirror_mode": {
    "name": "ipython",
    "version": 3
   },
   "file_extension": ".py",
   "mimetype": "text/x-python",
   "name": "python",
   "nbconvert_exporter": "python",
   "pygments_lexer": "ipython3",
   "version": "3.11.8"
  }
 },
 "nbformat": 4,
 "nbformat_minor": 2
}

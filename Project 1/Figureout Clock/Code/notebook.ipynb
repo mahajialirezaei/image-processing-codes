{
 "cells": [
  {
   "cell_type": "markdown",
   "metadata": {},
   "source": [
    "<h1 align=center style=\"line-height:200%;font-family:vazir;color:#0099cc\">\n",
    "<font face=\"vazir\" color=\"#0099cc\">\n",
    "ساعت یابی\n",
    "</font>\n",
    "</h1>"
   ]
  },
  {
   "cell_type": "markdown",
   "metadata": {},
   "source": [
    "---\n",
    "\n",
    "<h2 align=right style=\"line-height:200%;font-family:vazir;color:#0099cc\">\n",
    "<font face=\"vazir\" color=\"#0099cc\">\n",
    "وارد کردن کتابخانه‌های مورد نیاز\n",
    "</font>\n",
    "</h2>\n",
    "\n",
    "<p dir=rtl style=\"direction: rtl;text-align: justify;line-height:200%;font-family:vazir;font-size:medium\">\n",
    "<font face=\"vazir\" size=3>\n",
    "در این بخش کتابخانه‌های مورد نیاز برای انجام پروژه را وارد می‌کنیم.\n",
    "</font>\n",
    "</p>"
   ]
  },
  {
   "cell_type": "code",
   "execution_count": null,
   "metadata": {},
   "outputs": [],
   "source": [
    "import cv2\n",
    "import numpy as np\n",
    "import matplotlib.pyplot as plt"
   ]
  },
  {
   "cell_type": "markdown",
   "metadata": {},
   "source": [
    "<h2 align=right style=\"line-height:200%;font-family:vazir;color:#0099cc\">\n",
    "<font face=\"vazir\" color=\"#0099cc\">\n",
    "بارگذاری تصاویر\n",
    "</font>\n",
    "</h2>\n",
    "<p dir=rtl style=\"direction: rtl;text-align: justify;line-height:200%;font-family:vazir;font-size:medium\">\n",
    "<font face=\"vazir\" size=3>\n",
    "تصاویری که در به عنوان نمونه در اختیار شما قرار گرفته است را در سلول زیر بارگذاری کنید. و سپس به کمک <code>matplotlib</code> نمایش دهید.\n",
    "</font>\n",
    "</p>"
   ]
  },
  {
   "cell_type": "code",
   "execution_count": null,
   "metadata": {},
   "outputs": [],
   "source": []
  },
  {
   "cell_type": "markdown",
   "metadata": {},
   "source": [
    "<h2 align=right style=\"line-height:200%;font-family:vazir;color:#0099cc\">\n",
    "<font face=\"vazir\" color=\"#0099cc\">\n",
    "سیاه و سفید سازی تصویر\n",
    "</font>\n",
    "</h2>\n",
    "<p dir=rtl style=\"direction: rtl;text-align: justify;line-height:200%;font-family:vazir;font-size:medium\">\n",
    "<font face=\"vazir\" size=3>\n",
    "با استفاده از تابعی که در تمرین پیش نوشتید،  در مرحله تصاویر را به شکل ساعت های نرمال درآورید.\n",
    "</font>\n",
    "</p>"
   ]
  },
  {
   "cell_type": "code",
   "execution_count": null,
   "metadata": {},
   "outputs": [],
   "source": [
    "def black_white_convertor(image):\n",
    "    \n",
    "    \n",
    "    return new_image\n",
    "\n"
   ]
  },
  {
   "cell_type": "markdown",
   "metadata": {},
   "source": [
    "<h2 align=right style=\"line-height:200%;font-family:vazir;color:#0099cc\">\n",
    "<font face=\"vazir\" color=\"#0099cc\">\n",
    "پیدا کردن ساعت\n",
    "</font>\n",
    "</h2>\n",
    "<p dir=rtl style=\"direction: rtl;text-align: justify;line-height:200%;font-family:vazir;font-size:medium\">\n",
    "<font face=\"vazir\" size=3>\n",
    "به کمک تبدیل هاف سعی کنید پارامتر های متد را طوری تنظیم کنید تا در نهایت یک دایره که دایره اصلی است پیدا شود. در نهایت دایره را با رنگ سبز روی تصویر سیاه و سفید شده رسم کنید.\n",
    "</font>\n",
    "</p>"
   ]
  },
  {
   "cell_type": "code",
   "execution_count": null,
   "metadata": {},
   "outputs": [],
   "source": [
    "# عملیات پیش پردازش اولیه انجام شود و سپس پیدا کردن تمام دایره ها (سعی کنید پارامتر ها را طوری تنظیم کنید که فقط یک دایره اصلی پیدا شود.)\n",
    "\n",
    "circles =...\n",
    "\n",
    "# مرکز دایره و شعاع آن را پیدا و ذخیره کنید.\n",
    "x, y, r = ...\n",
    "\n",
    "# دایره پیدا شده را روی تصویر سیاه و سفید شده رسم کنید.\n",
    "\n",
    "\n",
    "# نمایش نتیجه\n",
    "plt.imshow(cv2.cvtColor(image, cv2.COLOR_BGR2RGB))\n",
    "plt.title(\"Clock\")\n",
    "plt.axis('off')\n",
    "plt.show()\n"
   ]
  },
  {
   "cell_type": "markdown",
   "metadata": {},
   "source": [
    "<h2 align=right style=\"line-height:200%;font-family:vazir;color:#0099cc\">\n",
    "<font face=\"vazir\" color=\"#0099cc\">\n",
    "پیدا کردن عقربه ها\n",
    "</font>\n",
    "</h2>\n",
    "<p dir=rtl style=\"direction: rtl;text-align: justify;line-height:200%;font-family:vazir;font-size:medium\">\n",
    "<font face=\"vazir\" size=3>\n",
    "دوباره با تبدیل هاف در سلول زیر سعی کنید خطوط (عقربه ها) را پیدا کنید. احتمالا پس از تنظیم پارامترها، چندین خط پیدا شود اما باید پس از پیدا شدن خطوط، عملیات پس پردازش را طوری تنظیم کنید که دو خط بزرگتر و کوچکتر پیدا شود که همان عقربه ساعت شمار و دقیقه شمار است. برای مثال از خطوطی که زاویه صفر دارند باید صرف نظر شود و...\n",
    "</font>\n",
    "</p>"
   ]
  },
  {
   "cell_type": "markdown",
   "metadata": {},
   "source": [
    "<div dir=rtl style=\"direction: rtl;text-align: justify;line-height:200%;font-family:vazir;font-size:medium\">\n",
    "\n",
    "بعد از اجرای متد پیدا کردن خطوط به کمک تبدیل هاف، ما یه لیست از خطوط داریم (`lines`)\n",
    "می‌خوایم خطوطی رو پیدا کنیم که:  \n",
    "- به مرکز ساعت نزدیک باشن (احتمالاً عقربه‌ها هستن).  \n",
    "- طول مناسبی داشته باشن (خیلی کوتاه نباشن).  \n",
    "- موازی هم نباشن (چون ساعت و دقیقه زاویه متفاوتی دارن).  \n",
    "در نهایت، از بین خطوط معتبر، دو خط رو انتخاب کنیم: یکی بلندتر (دقیقه) و یکی کوتاه‌تر (ساعت).  \n",
    "\n",
    "\n",
    "پیدا کردن پارامتر های مناسب برای متد و عملیات پس پردازش خوب برای پیدا کردن عقربه ها، چالش سلول پایین است.\n",
    "\n",
    "منطق کلی valid_lines\n",
    "-  فیلتر اولیه: خطوطی که نزدیک مرکز نیستن یا خیلی کوتاهن حذف می‌شن. \n",
    "-  حذف موازی‌ها: خطوطی که زاویه‌شون شبیه هم باشه، فقط بلندترینشون نگه داشته می‌شه.\n",
    "-  انتخاب نهایی: از خطوط باقی‌مونده، دو خط با طول‌های متفاوت انتخاب می‌شن (بلندتر برای دقیقه، کوتاه‌تر برای ساعت).\n",
    "</div>"
   ]
  },
  {
   "cell_type": "code",
   "execution_count": null,
   "metadata": {},
   "outputs": [],
   "source": [
    "# پیدا کردن خطوط\n",
    "\n",
    "\n",
    "\n",
    "\n",
    "line_hour, line_minute = None, None\n",
    "\n",
    "\n",
    "\n",
    "\n",
    "\n",
    "\n",
    "\n",
    "# رسم خطوط پیدا شده روی تصویر. عقربه دقیقه شمار سبز و عقربه ساعت شمار قرمز\n",
    "\n",
    "\n",
    "\n",
    "# نمایش نتیجه\n",
    "plt.imshow(cv2.cvtColor(image, cv2.COLOR_BGR2RGB))\n",
    "plt.title(\"Clock\")\n",
    "plt.axis('off')\n",
    "plt.show()\n"
   ]
  },
  {
   "cell_type": "markdown",
   "metadata": {},
   "source": [
    "<h2 align=right style=\"line-height:200%;font-family:vazir;color:#0099cc\">\n",
    "<font face=\"vazir\" color=\"#0099cc\">\n",
    "نوشتن تابع نهایی\n",
    "</font>\n",
    "</h2>\n",
    "<p dir=rtl style=\"direction: rtl;text-align: justify;line-height:200%;font-family:vazir;font-size:medium\">\n",
    "<font face=\"vazir\" size=3>\n",
    "در نهایت تابعی بنویسید که تصویر سیاه و سفید شده را دریافت کند و پس از پیدا کردن خطوط و دایره، خطوط و دایره را روی تصویر دریافتی رسم کند و تصویر نهایی را return کند.\n",
    "<br>\n",
    "در واقع در سلول های قبل کد ها نوشته شده و در این سلول باید کدهای اضافه حذف شوند و و بخش های اصلی الگوریتم نگهداری شوند.\n",
    "</font>\n",
    "</p>"
   ]
  },
  {
   "cell_type": "code",
   "execution_count": null,
   "metadata": {},
   "outputs": [],
   "source": [
    "def detect_clock(binary_image):\n",
    "    \n",
    "    \n",
    "    return new_image"
   ]
  },
  {
   "cell_type": "markdown",
   "metadata": {},
   "source": [
    "<div dir=\"rtl\">\n",
    "<h2 align=right style=\"line-height:200%;font-family:vazir;color:#0099cc\">\n",
    "<font face=\"vazir\" color=\"#0099cc\">\n",
    "<b>سلول جواب‌ساز</b>\n",
    "</font>\n",
    "</h2>\n",
    "</div>\n",
    "<p dir=rtl style=\"direction: rtl; text-align: justify; line-height:200%; font-family:vazir; font-size:medium\">\n",
    "<font face=\"vazir\" size=3>\n",
    "    برای ساخته‌شدن فایل <code>result.zip</code> سلول زیر را اجرا کنید. توجه داشته باشید که پیش از اجرای سلول زیر تغییرات اعمال شده در نت‌بوک را ذخیره کرده باشید (<code>ctrl+s</code>) تا در صورت نیاز به پشتیبانی امکان بررسی کد شما وجود داشته باشد. توجه کنید برای کسب نمره کامل از این تمرین باید هر دو تابع خواسته شده را به درستی بنویسید.\n",
    "</font>\n",
    "</p>"
   ]
  },
  {
   "cell_type": "code",
   "execution_count": null,
   "metadata": {},
   "outputs": [],
   "source": [
    "import zipfile\n",
    "from inspect import getsource\n",
    "\n",
    "\n",
    "def compress(file_names):\n",
    "    print(\"File Paths:\")\n",
    "    print(file_names)\n",
    "    compression = zipfile.ZIP_DEFLATED\n",
    "    with zipfile.ZipFile(\"result.zip\", mode=\"w\") as zf:\n",
    "        for file_name in file_names:\n",
    "            zf.write('./' + file_name, file_name, compress_type=compression)\n",
    "\n",
    "imp = \"\"\"\n",
    "import cv2\n",
    "import numpy as np\n",
    "\"\"\"\n",
    "\n",
    "%save black_white_convertor imp + getsource(black_white_convertor)\n",
    "%save detect_clock imp + getsource(detect_clock)\n",
    "\n",
    "file_names = [\"black_white_convertor.py\",\"detect_clock.py\", \"notebook.ipynb\"]\n",
    "compress(file_names)"
   ]
  }
 ],
 "metadata": {
  "kernelspec": {
   "display_name": "Python 3",
   "language": "python",
   "name": "python3"
  },
  "language_info": {
   "codemirror_mode": {
    "name": "ipython",
    "version": 3
   },
   "file_extension": ".py",
   "mimetype": "text/x-python",
   "name": "python",
   "nbconvert_exporter": "python",
   "pygments_lexer": "ipython3",
   "version": "3.11.8"
  }
 },
 "nbformat": 4,
 "nbformat_minor": 2
}

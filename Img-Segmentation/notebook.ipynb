{
 "cells": [
  {
   "cell_type": "markdown",
   "metadata": {
    "collapsed": false,
    "jupyter": {
     "outputs_hidden": false
    }
   },
   "source": [
    "<h1 align=center style=\"line-height:200%;font-family:vazir;color:#0099cc\">\n",
    "<font face=\"vazir\" color=\"#0099cc\">\n",
    "پزشک قطعه‌ها\n",
    "</font>\n",
    "</h1>"
   ]
  },
  {
   "cell_type": "markdown",
   "metadata": {
    "collapsed": false,
    "jupyter": {
     "outputs_hidden": false
    }
   },
   "source": [
    "<h2 align=right style=\"line-height:200%;font-family:vazir;color:#0099cc\">\n",
    "<font face=\"vazir\" color=\"#0099cc\">\n",
    "مقدمه\n",
    "</font>\n",
    "</h2>\n",
    "\n",
    "<p dir=rtl style=\"direction: rtl;text-align: right;line-height:200%;font-family:vazir;font-size:medium\">\n",
    "<font face=\"vazir\" size=3>\n",
    "در این تمرین قصد داریم تا آستانه گذاری را روی تصاویر پزشکی بررسی کنیم و کاربردهای مختلف آنرا مشاهده کنیم.\n",
    "</font>\n",
    "</p>"
   ]
  },
  {
   "cell_type": "code",
   "metadata": {
    "ExecuteTime": {
     "end_time": "2025-07-14T22:18:57.772399Z",
     "start_time": "2025-07-14T22:18:57.260335Z"
    }
   },
   "source": [
    "import cv2\n",
    "import numpy as np\n",
    "import matplotlib.pyplot as plt"
   ],
   "outputs": [],
   "execution_count": 2
  },
  {
   "cell_type": "markdown",
   "metadata": {
    "collapsed": false,
    "jupyter": {
     "outputs_hidden": false
    }
   },
   "source": [
    "<h2 align=right style=\"line-height:200%;font-family:vazir;color:#0099cc\">\n",
    "<font face=\"vazir\" color=\"#0099cc\">\n",
    "بخش اول: قطعه‌بندی اسکلت\n",
    "</font>\n",
    "</h2>\n",
    "\n",
    "<p dir=rtl style=\"direction: rtl;text-align: right;line-height:200%;font-family:vazir;font-size:medium\">\n",
    "<font face=\"vazir\" size=3>\n",
    "در این بخش می‌خواهیم با استفاده از آستانه‌گذاری، اسکلت موجود در تصویر را از پیش‌زمینه متمایز کنیم. در ادامه با جزئیات این بخش بیشتر آشنا خواهیم شد.\n",
    "</font>\n",
    "</p>\n",
    "\n",
    "---\n",
    "\n",
    "<h3 align=right style=\"line-height:200%;font-family:vazir;color:#0099cc\">\n",
    "<font face=\"vazir\" color=\"#0099cc\">\n",
    "مرحله اول: وارد کردن تصویر\n",
    "</font>\n",
    "</h3>\n",
    "\n",
    "<p dir=rtl style=\"direction: rtl;text-align: right;line-height:200%;font-family:vazir;font-size:medium\">\n",
    "<font face=\"vazir\" size=3>\n",
    "ابتدا تصویر زیر را بصورت خاکستری بخوانید.\n",
    "<br>\n",
    "Data/Skeleton.tif\n",
    "</font>\n",
    "</p>\n"
   ]
  },
  {
   "cell_type": "code",
   "metadata": {
    "collapsed": false,
    "jupyter": {
     "outputs_hidden": false
    },
    "ExecuteTime": {
     "end_time": "2025-07-14T22:18:57.788975Z",
     "start_time": "2025-07-14T22:18:57.780466Z"
    }
   },
   "source": "img = cv2.imread('Data/Skeleton.tif', cv2.IMREAD_GRAYSCALE)",
   "outputs": [],
   "execution_count": 3
  },
  {
   "cell_type": "markdown",
   "metadata": {
    "collapsed": false,
    "jupyter": {
     "outputs_hidden": false
    }
   },
   "source": [
    "<h3 align=right style=\"line-height:200%;font-family:vazir;color:#0099cc\">\n",
    "<font face=\"vazir\" color=\"#0099cc\">\n",
    "مرحله دوم: تشخیص آستانه\n",
    "</font>\n",
    "</h3>\n",
    "\n",
    "<p dir=rtl style=\"direction: rtl;text-align: right;line-height:200%;font-family:vazir;font-size:medium\">\n",
    "<font face=\"vazir\" size=3>\n",
    "در این قسمت تصویر اسکلت را با استفاده از روش اتسو قطعه‌بندی کنید. ابتدا آستانه را پیدا کنید و سپس تصویر قطعه‌بندی شده را ذخیره کنید.\n",
    "</font>\n",
    "</p>"
   ]
  },
  {
   "cell_type": "code",
   "metadata": {
    "ExecuteTime": {
     "end_time": "2025-07-14T22:18:57.807457Z",
     "start_time": "2025-07-14T22:18:57.799866Z"
    }
   },
   "source": "otsu_threshold, image_segment = cv2.threshold(img, 0, 255, cv2.THRESH_BINARY + cv2.THRESH_OTSU)",
   "outputs": [],
   "execution_count": 4
  },
  {
   "cell_type": "markdown",
   "metadata": {
    "collapsed": false,
    "jupyter": {
     "outputs_hidden": false
    }
   },
   "source": [
    "<h3 align=right style=\"line-height:200%;font-family:vazir;color:#0099cc\">\n",
    "<font face=\"vazir\" color=\"#0099cc\">\n",
    "مرحله سوم: ذخیره تصویر</font>\n",
    "</h3>\n",
    "\n",
    "<p dir=rtl style=\"direction: rtl;text-align: right;line-height:200%;font-family:vazir;font-size:medium\">\n",
    "<font face=\"vazir\" size=3>\n",
    "تصویر قطعه‌بندی شده را با نام زیر ذخیره کنید. دقت کنید که تصویر را حتما به شکل RGB ذخیره کنید.\n",
    "<br>\n",
    "segment_skeleton.tif\n",
    "</font>\n",
    "</p>"
   ]
  },
  {
   "cell_type": "code",
   "metadata": {
    "collapsed": false,
    "jupyter": {
     "outputs_hidden": false
    },
    "ExecuteTime": {
     "end_time": "2025-07-14T22:18:57.843865Z",
     "start_time": "2025-07-14T22:18:57.819485Z"
    }
   },
   "source": [
    "image_segment_rgb = cv2.cvtColor(image_segment, cv2.COLOR_GRAY2RGB)\n",
    "cv2.imwrite('segment_skeleton.tif', image_segment_rgb)"
   ],
   "outputs": [
    {
     "data": {
      "text/plain": [
       "True"
      ]
     },
     "execution_count": 5,
     "metadata": {},
     "output_type": "execute_result"
    }
   ],
   "execution_count": 5
  },
  {
   "cell_type": "markdown",
   "metadata": {},
   "source": [
    "<h2 align=right style=\"line-height:200%;font-family:vazir;color:#0099cc\">\n",
    "<font face=\"vazir\" color=\"#0099cc\">\n",
    "بخش دوم: قطعه‌بندی قفسه سینه\n",
    "</font>\n",
    "</h2>\n",
    "\n",
    "<p dir=rtl style=\"direction: rtl;text-align: right;line-height:200%;font-family:vazir;font-size:medium\">\n",
    "<font face=\"vazir\" size=3>\n",
    "در این بخش می‌خواهیم که عکس x-ray قفسه سینه یک انسان را قطعه‌بندی کنیم. در ادامه با مراحل اینکار آشنا خواهید شد.\n",
    "</font>\n",
    "</p>\n",
    "\n",
    "---\n",
    "\n",
    "<h3 align=right style=\"line-height:200%;font-family:vazir;color:#0099cc\">\n",
    "<font face=\"vazir\" color=\"#0099cc\">\n",
    "مرحله اول: وارد کردن تصویر\n",
    "</font>\n",
    "</h3>\n",
    "\n",
    "<p dir=rtl style=\"direction: rtl;text-align: right;line-height:200%;font-family:vazir;font-size:medium\">\n",
    "<font face=\"vazir\" size=3>\n",
    "ابتدا تصویر زیر را بصورت خاکستری بخوانید.\n",
    "<br>\n",
    "Data/chest.webp\n",
    "</font>\n",
    "</p>\n"
   ]
  },
  {
   "cell_type": "code",
   "metadata": {
    "ExecuteTime": {
     "end_time": "2025-07-14T22:18:57.877379Z",
     "start_time": "2025-07-14T22:18:57.851911Z"
    }
   },
   "source": "chest_img = cv2.imread('Data/chest.webp', cv2.IMREAD_GRAYSCALE)",
   "outputs": [],
   "execution_count": 6
  },
  {
   "cell_type": "markdown",
   "metadata": {
    "collapsed": false
   },
   "source": [
    "<h3 align=right style=\"line-height:200%;font-family:vazir;color:#0099cc\">\n",
    "<font face=\"vazir\" color=\"#0099cc\">\n",
    "مرحله سوم: اعمال آستانه‌گذاری باندی\n",
    "</font>\n",
    "</h3>\n",
    "\n",
    "<p dir=rtl style=\"direction: rtl;text-align: right;line-height:200%;font-family:vazir;font-size:medium\">\n",
    "<font face=\"vazir\" size=3>\n",
    "تصویر را با توجه به باندهای زیر آستانه‌گذاری کنید.\n",
    "<br>\n",
    "</font>\n",
    "</p>\n",
    "\n",
    "$$\n",
    "D = \\left\\{ (0, 50), (51, 100), (101, 150), (151, 200), (201, 255) \\right\\}\n",
    "$$"
   ]
  },
  {
   "cell_type": "code",
   "metadata": {
    "ExecuteTime": {
     "end_time": "2025-07-14T22:18:57.913722Z",
     "start_time": "2025-07-14T22:18:57.900702Z"
    }
   },
   "source": [
    "D = [[0,50], [51,100], [101, 150], [151, 200], [201, 255]]\n",
    "chest_0_50 = cv2.inRange(chest_img, D[0][0], D[0][1])\n",
    "chest_0_50 = cv2.cvtColor(chest_0_50, cv2.COLOR_GRAY2RGB)\n",
    "chest_51_100 = cv2.inRange(chest_img, D[1][0], D[1][1])\n",
    "chest_51_100 = cv2.cvtColor(chest_51_100, cv2.COLOR_GRAY2RGB)\n",
    "chest_101_150 = cv2.inRange(chest_img, D[2][0], D[2][1])\n",
    "chest_101_150 = cv2.cvtColor(chest_101_150, cv2.COLOR_GRAY2RGB)\n",
    "chest_151_200 = cv2.inRange(chest_img, D[3][0], D[3][1])\n",
    "chest_151_200 = cv2.cvtColor(chest_151_200, cv2.COLOR_GRAY2RGB)\n",
    "chest_201_255 = cv2.inRange(chest_img, D[4][0], D[4][1])\n",
    "chest_201_255 = cv2.cvtColor(chest_201_255, cv2.COLOR_GRAY2RGB)\n"
   ],
   "outputs": [],
   "execution_count": 7
  },
  {
   "cell_type": "markdown",
   "metadata": {},
   "source": [
    "<h3 align=right style=\"line-height:200%;font-family:vazir;color:#0099cc\">\n",
    "<font face=\"vazir\" color=\"#0099cc\">\n",
    "مرحله چهارم: ذخیره‌سازی\n",
    "</font>\n",
    "</h3>\n",
    "\n",
    "<p dir=rtl style=\"direction: rtl;text-align: right;line-height:200%;font-family:vazir;font-size:medium\">\n",
    "<font face=\"vazir\" size=3>\n",
    "خروجی هر باند را با نام‌های زیر ذخیره کنید. دقت کنید که تصاویر را به شکل RGB ذخیره کنید.\n",
    "<br>\n",
    "chest_0_50.jpg\n",
    "<br>\n",
    "chest_51-100.jpg\n",
    "<br>\n",
    "chest_101_150.jpg\n",
    "<br>\n",
    "chest_151_200.jpg\n",
    "<br>\n",
    "chest_201_255.jpg\n",
    "</font>\n",
    "</p>"
   ]
  },
  {
   "cell_type": "code",
   "metadata": {
    "ExecuteTime": {
     "end_time": "2025-07-14T22:19:35.594752Z",
     "start_time": "2025-07-14T22:19:35.563091Z"
    }
   },
   "source": [
    "cv2.imwrite('chest_0_50.jpg', chest_0_50)\n",
    "cv2.imwrite('chest_51_100.jpg', chest_51_100)\n",
    "cv2.imwrite('chest_101_150.jpg', chest_101_150)\n",
    "cv2.imwrite('chest_151_200.jpg', chest_151_200)\n",
    "cv2.imwrite('chest_201_255.jpg', chest_201_255)"
   ],
   "outputs": [
    {
     "data": {
      "text/plain": [
       "True"
      ]
     },
     "execution_count": 9,
     "metadata": {},
     "output_type": "execute_result"
    }
   ],
   "execution_count": 9
  },
  {
   "cell_type": "markdown",
   "metadata": {},
   "source": [
    "<h3 align=right style=\"line-height:200%;font-family:vazir;color:#0099cc\">\n",
    "<font face=\"vazir\" color=\"#0099cc\">\n",
    "مرحله پنجم: سلول جواب‌ساز\n",
    "</font>\n",
    "</h3>\n",
    "\n",
    "<p dir=rtl style=\"direction: rtl;text-align: right;line-height:200%;font-family:vazir;font-size:medium\">\n",
    "<font face=\"vazir\" size=3>\n",
    "بدون هیچگونه تغییری، این سلول را اجرا کنید تا فایل پاسخ شما آماده شود.\n",
    "</font>\n",
    "</p>"
   ]
  },
  {
   "cell_type": "code",
   "metadata": {
    "ExecuteTime": {
     "end_time": "2025-07-14T22:18:58.167221Z",
     "start_time": "2025-07-14T22:18:57.946973Z"
    }
   },
   "source": [
    "import zipfile\n",
    "\n",
    "def compress(file_names):\n",
    "    print(\"File Paths:\")\n",
    "    print(file_names)\n",
    "    # Select the compression mode ZIP_DEFLATED for compression\n",
    "    # or zipfile.ZIP_STORED to just store the file\n",
    "    compression = zipfile.ZIP_DEFLATED\n",
    "    # create the zip file first parameter path/name, second mode\n",
    "    with zipfile.ZipFile(\"result.zip\", mode=\"w\") as zf:\n",
    "        for file_name in file_names:\n",
    "            # Add file to the zip file\n",
    "            # first parameter file to zip, second filename in zip\n",
    "            zf.write('./' + file_name, file_name, compress_type=compression)\n",
    "\n",
    "\n",
    "file_names = [\"notebook.ipynb\", \"segment_skeleton.tif\", 'chest_0_50.jpg', 'chest_51_100.jpg', 'chest_101_150.jpg', 'chest_151_200.jpg', 'chest_201_255.jpg']\n",
    "compress(file_names)"
   ],
   "outputs": [
    {
     "name": "stdout",
     "output_type": "stream",
     "text": [
      "File Paths:\n",
      "['notebook.ipynb', 'segment_skeleton.tif', 'chest_0_50.jpg', 'chest_51_100.jpg', 'chest_101_150.jpg', 'chest_151_200.jpg', 'chest_201_255.jpg']\n"
     ]
    },
    {
     "ename": "FileNotFoundError",
     "evalue": "[WinError 2] The system cannot find the file specified: './chest_0_50.jpg'",
     "output_type": "error",
     "traceback": [
      "\u001B[31m---------------------------------------------------------------------------\u001B[39m",
      "\u001B[31mFileNotFoundError\u001B[39m                         Traceback (most recent call last)",
      "\u001B[36mCell\u001B[39m\u001B[36m \u001B[39m\u001B[32mIn[8]\u001B[39m\u001B[32m, line 18\u001B[39m\n\u001B[32m     14\u001B[39m             zf.write(\u001B[33m'\u001B[39m\u001B[33m./\u001B[39m\u001B[33m'\u001B[39m + file_name, file_name, compress_type=compression)\n\u001B[32m     17\u001B[39m file_names = [\u001B[33m\"\u001B[39m\u001B[33mnotebook.ipynb\u001B[39m\u001B[33m\"\u001B[39m, \u001B[33m\"\u001B[39m\u001B[33msegment_skeleton.tif\u001B[39m\u001B[33m\"\u001B[39m, \u001B[33m'\u001B[39m\u001B[33mchest_0_50.jpg\u001B[39m\u001B[33m'\u001B[39m, \u001B[33m'\u001B[39m\u001B[33mchest_51_100.jpg\u001B[39m\u001B[33m'\u001B[39m, \u001B[33m'\u001B[39m\u001B[33mchest_101_150.jpg\u001B[39m\u001B[33m'\u001B[39m, \u001B[33m'\u001B[39m\u001B[33mchest_151_200.jpg\u001B[39m\u001B[33m'\u001B[39m, \u001B[33m'\u001B[39m\u001B[33mchest_201_255.jpg\u001B[39m\u001B[33m'\u001B[39m]\n\u001B[32m---> \u001B[39m\u001B[32m18\u001B[39m \u001B[43mcompress\u001B[49m\u001B[43m(\u001B[49m\u001B[43mfile_names\u001B[49m\u001B[43m)\u001B[49m\n",
      "\u001B[36mCell\u001B[39m\u001B[36m \u001B[39m\u001B[32mIn[8]\u001B[39m\u001B[32m, line 14\u001B[39m, in \u001B[36mcompress\u001B[39m\u001B[34m(file_names)\u001B[39m\n\u001B[32m     10\u001B[39m \u001B[38;5;28;01mwith\u001B[39;00m zipfile.ZipFile(\u001B[33m\"\u001B[39m\u001B[33mresult.zip\u001B[39m\u001B[33m\"\u001B[39m, mode=\u001B[33m\"\u001B[39m\u001B[33mw\u001B[39m\u001B[33m\"\u001B[39m) \u001B[38;5;28;01mas\u001B[39;00m zf:\n\u001B[32m     11\u001B[39m     \u001B[38;5;28;01mfor\u001B[39;00m file_name \u001B[38;5;129;01min\u001B[39;00m file_names:\n\u001B[32m     12\u001B[39m         \u001B[38;5;66;03m# Add file to the zip file\u001B[39;00m\n\u001B[32m     13\u001B[39m         \u001B[38;5;66;03m# first parameter file to zip, second filename in zip\u001B[39;00m\n\u001B[32m---> \u001B[39m\u001B[32m14\u001B[39m         \u001B[43mzf\u001B[49m\u001B[43m.\u001B[49m\u001B[43mwrite\u001B[49m\u001B[43m(\u001B[49m\u001B[33;43m'\u001B[39;49m\u001B[33;43m./\u001B[39;49m\u001B[33;43m'\u001B[39;49m\u001B[43m \u001B[49m\u001B[43m+\u001B[49m\u001B[43m \u001B[49m\u001B[43mfile_name\u001B[49m\u001B[43m,\u001B[49m\u001B[43m \u001B[49m\u001B[43mfile_name\u001B[49m\u001B[43m,\u001B[49m\u001B[43m \u001B[49m\u001B[43mcompress_type\u001B[49m\u001B[43m=\u001B[49m\u001B[43mcompression\u001B[49m\u001B[43m)\u001B[49m\n",
      "\u001B[36mFile \u001B[39m\u001B[32m~\\AppData\\Local\\Programs\\Python\\Python312\\Lib\\zipfile\\__init__.py:1846\u001B[39m, in \u001B[36mZipFile.write\u001B[39m\u001B[34m(self, filename, arcname, compress_type, compresslevel)\u001B[39m\n\u001B[32m   1841\u001B[39m \u001B[38;5;28;01mif\u001B[39;00m \u001B[38;5;28mself\u001B[39m._writing:\n\u001B[32m   1842\u001B[39m     \u001B[38;5;28;01mraise\u001B[39;00m \u001B[38;5;167;01mValueError\u001B[39;00m(\n\u001B[32m   1843\u001B[39m         \u001B[33m\"\u001B[39m\u001B[33mCan\u001B[39m\u001B[33m'\u001B[39m\u001B[33mt write to ZIP archive while an open writing handle exists\u001B[39m\u001B[33m\"\u001B[39m\n\u001B[32m   1844\u001B[39m     )\n\u001B[32m-> \u001B[39m\u001B[32m1846\u001B[39m zinfo = \u001B[43mZipInfo\u001B[49m\u001B[43m.\u001B[49m\u001B[43mfrom_file\u001B[49m\u001B[43m(\u001B[49m\u001B[43mfilename\u001B[49m\u001B[43m,\u001B[49m\u001B[43m \u001B[49m\u001B[43marcname\u001B[49m\u001B[43m,\u001B[49m\n\u001B[32m   1847\u001B[39m \u001B[43m                          \u001B[49m\u001B[43mstrict_timestamps\u001B[49m\u001B[43m=\u001B[49m\u001B[38;5;28;43mself\u001B[39;49m\u001B[43m.\u001B[49m\u001B[43m_strict_timestamps\u001B[49m\u001B[43m)\u001B[49m\n\u001B[32m   1849\u001B[39m \u001B[38;5;28;01mif\u001B[39;00m zinfo.is_dir():\n\u001B[32m   1850\u001B[39m     zinfo.compress_size = \u001B[32m0\u001B[39m\n",
      "\u001B[36mFile \u001B[39m\u001B[32m~\\AppData\\Local\\Programs\\Python\\Python312\\Lib\\zipfile\\__init__.py:557\u001B[39m, in \u001B[36mZipInfo.from_file\u001B[39m\u001B[34m(cls, filename, arcname, strict_timestamps)\u001B[39m\n\u001B[32m    555\u001B[39m \u001B[38;5;28;01mif\u001B[39;00m \u001B[38;5;28misinstance\u001B[39m(filename, os.PathLike):\n\u001B[32m    556\u001B[39m     filename = os.fspath(filename)\n\u001B[32m--> \u001B[39m\u001B[32m557\u001B[39m st = \u001B[43mos\u001B[49m\u001B[43m.\u001B[49m\u001B[43mstat\u001B[49m\u001B[43m(\u001B[49m\u001B[43mfilename\u001B[49m\u001B[43m)\u001B[49m\n\u001B[32m    558\u001B[39m isdir = stat.S_ISDIR(st.st_mode)\n\u001B[32m    559\u001B[39m mtime = time.localtime(st.st_mtime)\n",
      "\u001B[31mFileNotFoundError\u001B[39m: [WinError 2] The system cannot find the file specified: './chest_0_50.jpg'"
     ]
    }
   ],
   "execution_count": 8
  }
 ],
 "metadata": {
  "kernelspec": {
   "display_name": "base",
   "language": "python",
   "name": "python3"
  },
  "language_info": {
   "codemirror_mode": {
    "name": "ipython",
    "version": 3
   },
   "file_extension": ".py",
   "mimetype": "text/x-python",
   "name": "python",
   "nbconvert_exporter": "python",
   "pygments_lexer": "ipython3",
   "version": "3.11.7"
  }
 },
 "nbformat": 4,
 "nbformat_minor": 4
}

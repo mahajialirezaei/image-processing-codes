{
 "cells": [
  {
   "cell_type": "markdown",
   "metadata": {
    "collapsed": false,
    "jupyter": {
     "outputs_hidden": false
    }
   },
   "source": [
    "<h1 align=center style=\"line-height:200%;font-family:vazir;color:#0099cc\">\n",
    "<font face=\"vazir\" color=\"#0099cc\">\n",
    "خط پردازی\n",
    "</font>\n",
    "</h1>"
   ]
  },
  {
   "cell_type": "markdown",
   "metadata": {
    "collapsed": false,
    "jupyter": {
     "outputs_hidden": false
    }
   },
   "source": [
    "<h2 align=right style=\"line-height:200%;font-family:vazir;color:#0099cc\">\n",
    "<font face=\"vazir\" color=\"#0099cc\">\n",
    "مقدمه\n",
    "</font>\n",
    "</h2>\n",
    "\n",
    "<p dir=rtl style=\"direction: rtl;text-align: right;line-height:200%;font-family:vazir;font-size:medium\">\n",
    "<font face=\"vazir\" size=3>\n",
    "ما در بسیاری از ابزارهای متنی با کاربردهای مشهوری مثل بولد کردن و... آشنا شدیم. در این تمرین قصد داریم تا خودمان این عملیاتها را روی تصویر ورودی که یک کلمه فارسی است با استفاده از تبدیلات هندسی اعمال کنیم.\n",
    "</font>\n",
    "</p>"
   ]
  },
  {
   "cell_type": "code",
   "metadata": {
    "ExecuteTime": {
     "end_time": "2025-06-27T23:08:09.782691Z",
     "start_time": "2025-06-27T23:08:09.323268Z"
    }
   },
   "source": [
    "import cv2\n",
    "import numpy as np\n",
    "import matplotlib.pyplot as plt"
   ],
   "outputs": [],
   "execution_count": 1
  },
  {
   "cell_type": "markdown",
   "metadata": {
    "collapsed": false
   },
   "source": [
    "<h3 align=right style=\"line-height:200%;font-family:vazir;color:#0099cc\">\n",
    "<font face=\"vazir\" color=\"#0099cc\">\n",
    "مرحله اول: وارد کردن تصویر\n",
    "</font>\n",
    "</h3>\n",
    "\n",
    "<p dir=rtl style=\"direction: rtl;text-align: right;line-height:200%;font-family:vazir;font-size:medium\">\n",
    "<font face=\"vazir\" size=3>\n",
    "در ابتدا تصویر زیر را بصورت خاکستری وارد کنید.\n",
    "<br>\n",
    "Data/quera.png\n",
    "</font>\n",
    "</p>"
   ]
  },
  {
   "cell_type": "code",
   "metadata": {
    "collapsed": false,
    "ExecuteTime": {
     "end_time": "2025-06-27T23:08:38.360540Z",
     "start_time": "2025-06-27T23:08:38.352435Z"
    }
   },
   "source": "img = cv2.imread('Data/quera.png', cv2.IMREAD_GRAYSCALE)",
   "outputs": [],
   "execution_count": 2
  },
  {
   "cell_type": "markdown",
   "metadata": {
    "collapsed": false
   },
   "source": [
    "<h3 align=right style=\"line-height:200%;font-family:vazir;color:#0099cc\">\n",
    "<font face=\"vazir\" color=\"#0099cc\">\n",
    "مرحله دوم: Italic Text\n",
    "</font>\n",
    "</h3>\n",
    "\n",
    "<p dir=rtl style=\"direction: rtl;text-align: right;line-height:200%;font-family:vazir;font-size:medium\">\n",
    "<font face=\"vazir\" size=3>\n",
    "در ابتدا میخواهیم متن را به یک متن italic تبدیل کنیم. برای اینکار از تبدیل برش یا shearing استفاده میکنیم. برای این تبدیل ماتریس تبدیل را به شکل زیر مقداردهی کنید.\n",
    "</font>\n",
    "</p>\n",
    "\n",
    "$$\\begin{bmatrix} 1 & 0.6 & 0 \\\\ 0 & 1 & 0 \\end{bmatrix}$$\n",
    "\n",
    "<p dir=rtl style=\"direction: rtl;text-align: right;line-height:200%;font-family:vazir;font-size:medium\">\n",
    "<font face=\"vazir\" size=3>\n",
    " باید اندازه تصویر را پس از تبدیل به شکلی تغییر دهید بطوریکه تمام اجزا پس از تبدیل در تصویر قابل دیدن باشند. اگر ابعاد تصویر را در ماتریس تبدیل ضرب کند، سایز تصویر جدید بدست خواهد آمد.\n",
    "<br>\n",
    "همچنین بخش های جدیدی به تصویر اضافه میشوند که رنگ آنها در حالت عادی سیاه است. دقت کنید که حتما رنگ پیش زمینه باید سفید باشد. برای سفید کردن رنگ پیش زمینه درباره پارامتر borderValue تحقیق کنید.\n",
    "<br>\n",
    "تصویر حاصل را به شکل RGB با نام زیر ذخیره کنید:\n",
    "<br>\n",
    "italic_quera.png\n",
    "</font>\n",
    "</p>\n"
   ]
  },
  {
   "cell_type": "code",
   "execution_count": null,
   "metadata": {
    "ExecuteTime": {
     "end_time": "2025-02-12T19:45:50.373833900Z",
     "start_time": "2025-02-12T19:45:50.149615400Z"
    },
    "collapsed": false
   },
   "outputs": [],
   "source": []
  },
  {
   "cell_type": "markdown",
   "metadata": {
    "collapsed": false
   },
   "source": [
    "<h3 align=right style=\"line-height:200%;font-family:vazir;color:#0099cc\">\n",
    "<font face=\"vazir\" color=\"#0099cc\">\n",
    "مرحله سوم: بزرگ کردن اندازه متن\n",
    "</font>\n",
    "</h3>\n",
    "\n",
    "<p dir=rtl style=\"direction: rtl;text-align: right;line-height:200%;font-family:vazir;font-size:medium\">\n",
    "<font face=\"vazir\" size=3>\n",
    " scaling انجام می دهند. شما با استفاده از ماتریس زیر، متن را بزرگتر کنید.\n",
    " در بسیاری از ابزارهای متنی شما قابلیت این را دارید که اندازه متن خود را تغییر دهید. این کار با استفاده از تبدیل\n",
    "</font>\n",
    "</p>\n",
    "\n",
    "$$\\begin{bmatrix} 4 & 0 & 0 \\\\ 0 & 4 & 0 \\end{bmatrix}$$\n",
    "\n",
    "<p dir=rtl style=\"direction: rtl;text-align: right;line-height:200%;font-family:vazir;font-size:medium\">\n",
    "<font face=\"vazir\" size=3>\n",
    " باید اندازه تصویر را پس از تبدیل به شکلی تغییر دهید بطوریکه تمام اجزا پس از تبدیل در تصویر قابل دیدن باشند. اگر ابعاد تصویر را در ماتریس تبدیل ضرب کند، سایز تصویر جدید بدست خواهد آمد.\n",
    "<br>\n",
    "همچنین بخش های جدیدی به تصویر اضافه میشوند که رنگ آنها در حالت عادی سیاه است. دقت کنید که حتما رنگ پیش زمینه باید سفید باشد. برای سفید کردن رنگ پیش زمینه درباره پارامتر borderValue تحقیق کنید.\n",
    "<br>\n",
    "تصویر حاصل را به شکل RGB با نام زیر ذخیره کنید:\n",
    "<br>\n",
    "scaling_quera.png\n",
    "</font>\n",
    "</p>"
   ]
  },
  {
   "cell_type": "code",
   "execution_count": null,
   "metadata": {
    "ExecuteTime": {
     "end_time": "2025-02-12T19:45:51.088928100Z",
     "start_time": "2025-02-12T19:45:50.384004600Z"
    },
    "collapsed": false
   },
   "outputs": [],
   "source": []
  },
  {
   "cell_type": "markdown",
   "metadata": {
    "collapsed": false
   },
   "source": [
    "<h3 align=right style=\"line-height:200%;font-family:vazir;color:#0099cc\">\n",
    "<font face=\"vazir\" color=\"#0099cc\">\n",
    "مرحله چهارم: ایجاد فاصله\n",
    "</font>\n",
    "</h3>\n",
    "\n",
    "<p dir=rtl style=\"direction: rtl;text-align: right;line-height:200%;font-family:vazir;font-size:medium\">\n",
    "<font face=\"vazir\" size=3>\n",
    "حال میخواهیم تصویر را از جهت افقی و عمودی جابجا کنیم. این کار همانند این است که از بالا و سمت چپ به تصویر space اضافه کنیم.\n",
    "</font>\n",
    "</p>\n",
    "\n",
    "$$\\begin{bmatrix} 1 & 0 & 200 \\\\ 0 & 1 & 200 \\end{bmatrix}$$\n",
    "\n",
    "<p dir=rtl style=\"direction: rtl;text-align: right;line-height:200%;font-family:vazir;font-size:medium\">\n",
    "<font face=\"vazir\" size=3>\n",
    " باید اندازه تصویر را پس از تبدیل به شکلی تغییر دهید بطوریکه تمام اجزا پس از تبدیل در تصویر قابل دیدن باشند. اگر ابعاد تصویر را در ماتریس تبدیل ضرب کند، سایز تصویر جدید بدست خواهد آمد.\n",
    "<br>\n",
    "همچنین بخش های جدیدی به تصویر اضافه میشوند که رنگ آنها در حالت عادی سیاه است. دقت کنید که حتما رنگ پیش زمینه باید سفید باشد. برای سفید کردن رنگ پیش زمینه درباره پارامتر borderValue تحقیق کنید.\n",
    "<br>\n",
    "تصویر حاصل را به شکل RGB با نام زیر ذخیره کنید:\n",
    "<br>\n",
    "spacing_quera.png\n",
    "</font>\n",
    "</p>"
   ]
  },
  {
   "cell_type": "code",
   "execution_count": null,
   "metadata": {
    "ExecuteTime": {
     "end_time": "2025-02-12T19:45:51.367251100Z",
     "start_time": "2025-02-12T19:45:51.095791100Z"
    },
    "collapsed": false
   },
   "outputs": [],
   "source": []
  },
  {
   "cell_type": "markdown",
   "metadata": {
    "collapsed": false
   },
   "source": [
    "<h3 align=right style=\"line-height:200%;font-family:vazir;color:#0099cc\">\n",
    "<font face=\"vazir\" color=\"#0099cc\">\n",
    "مرحله پنجم: سلول جواب‌ساز\n",
    "</font>\n",
    "</h3>\n",
    "\n",
    "<p dir=rtl style=\"direction: rtl;text-align: right;line-height:200%;font-family:vazir;font-size:medium\">\n",
    "<font face=\"vazir\" size=3>\n",
    "بدون هیچگونه تغییری، این سلول را اجرا کنید تا فایل پاسخ شما آماده شود.\n",
    "</font>\n",
    "</p>"
   ]
  },
  {
   "cell_type": "code",
   "execution_count": null,
   "metadata": {
    "ExecuteTime": {
     "end_time": "2025-02-12T19:45:51.469116200Z",
     "start_time": "2025-02-12T19:45:51.374085700Z"
    }
   },
   "outputs": [],
   "source": [
    "import zipfile\n",
    "\n",
    "def compress(file_names):\n",
    "    print(\"File Paths:\")\n",
    "    print(file_names)\n",
    "    # Select the compression mode ZIP_DEFLATED for compression\n",
    "    # or zipfile.ZIP_STORED to just store the file\n",
    "    compression = zipfile.ZIP_DEFLATED\n",
    "    # create the zip file first parameter path/name, second mode\n",
    "    with zipfile.ZipFile(\"result.zip\", mode=\"w\") as zf:\n",
    "        for file_name in file_names:\n",
    "            # Add file to the zip file\n",
    "            # first parameter file to zip, second filename in zip\n",
    "            zf.write('./' + file_name, file_name, compress_type=compression)\n",
    "\n",
    "\n",
    "file_names = [\"notebook.ipynb\", \"italic_quera.png\", \"scaling_quera.png\", \"spacing_quera.png\"]\n",
    "compress(file_names)"
   ]
  }
 ],
 "metadata": {
  "kernelspec": {
   "display_name": "base",
   "language": "python",
   "name": "python3"
  },
  "language_info": {
   "codemirror_mode": {
    "name": "ipython",
    "version": 3
   },
   "file_extension": ".py",
   "mimetype": "text/x-python",
   "name": "python",
   "nbconvert_exporter": "python",
   "pygments_lexer": "ipython3",
   "version": "3.11.7"
  }
 },
 "nbformat": 4,
 "nbformat_minor": 4
}
